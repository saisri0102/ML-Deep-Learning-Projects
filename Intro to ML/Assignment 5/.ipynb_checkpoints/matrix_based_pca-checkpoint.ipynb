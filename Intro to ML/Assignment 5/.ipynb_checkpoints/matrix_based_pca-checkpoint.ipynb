{
 "cells": [
  {
   "cell_type": "code",
   "execution_count": null,
   "id": "5f90c1d7",
   "metadata": {},
   "outputs": [],
   "source": [
    "# Generic inputs for most ML tasks\n",
    "import pandas as pd\n",
    "import numpy as np\n",
    "import matplotlib.pyplot as plt\n",
    "\n",
    "import scipy.linalg as la\n",
    "\n",
    "pd.options.display.float_format = '{:,.2f}'.format\n",
    "\n",
    "# setup interactive notebook mode\n",
    "from IPython.core.interactiveshell import InteractiveShell\n",
    "InteractiveShell.ast_node_interactivity = \"all\"\n",
    "\n",
    "from IPython.display import display, HTML"
   ]
  },
  {
   "cell_type": "markdown",
   "id": "349901ec",
   "metadata": {},
   "source": [
    "## Linear Algebra Basics"
   ]
  },
  {
   "cell_type": "code",
   "execution_count": null,
   "id": "e8fce9aa",
   "metadata": {},
   "outputs": [],
   "source": [
    "# Vectors\n",
    "a = np.array([1,0.5,-1,2])\n",
    "a"
   ]
  },
  {
   "cell_type": "code",
   "execution_count": null,
   "id": "b66fa4dc",
   "metadata": {},
   "outputs": [],
   "source": [
    "# Matrices\n",
    "M = np.array([[0,1,2],[3,4,5]])\n",
    "M"
   ]
  },
  {
   "cell_type": "code",
   "execution_count": null,
   "id": "75bb3375",
   "metadata": {},
   "outputs": [],
   "source": [
    "# getting number of rows and columns\n",
    "M.shape"
   ]
  },
  {
   "cell_type": "code",
   "execution_count": null,
   "id": "6ccab897",
   "metadata": {},
   "outputs": [],
   "source": [
    "# transpose\n",
    "M.T"
   ]
  },
  {
   "cell_type": "code",
   "execution_count": null,
   "id": "94b6578a",
   "metadata": {},
   "outputs": [],
   "source": [
    "# Another matrix (this is 2 by 2)\n",
    "L = np.array([[1,-2],[-4,5]])\n",
    "L"
   ]
  },
  {
   "cell_type": "code",
   "execution_count": null,
   "id": "39b4dfc1",
   "metadata": {},
   "outputs": [],
   "source": [
    "L@M # To multiply matrices in Python we use @ (not *)"
   ]
  },
  {
   "cell_type": "code",
   "execution_count": null,
   "id": "4a8669ab",
   "metadata": {},
   "outputs": [],
   "source": [
    "L*L # This is what happens if you use *"
   ]
  },
  {
   "cell_type": "code",
   "execution_count": null,
   "id": "7c2b8b9a",
   "metadata": {},
   "outputs": [],
   "source": [
    "L@L # This is what you should use if you want matrix multiplication"
   ]
  },
  {
   "cell_type": "code",
   "execution_count": null,
   "id": "85521ca9",
   "metadata": {},
   "outputs": [],
   "source": [
    "# Inverses\n",
    "L\n",
    "la.inv(L)\n",
    "L@la.inv(L)\n",
    "L@la.inv(L) - np.eye(2)"
   ]
  },
  {
   "cell_type": "code",
   "execution_count": null,
   "id": "6e0f15bf",
   "metadata": {},
   "outputs": [],
   "source": [
    "# Obtaining eigen values and eigen vectors\n",
    "la.eig(L) # is the command\n",
    "(val, vec) = la.eig(L) # is to map it to an array val of eigenvalues and a matrix vec of eigenvectors"
   ]
  },
  {
   "cell_type": "code",
   "execution_count": null,
   "id": "25387cfc",
   "metadata": {},
   "outputs": [],
   "source": [
    "val"
   ]
  },
  {
   "cell_type": "code",
   "execution_count": null,
   "id": "6dda0736",
   "metadata": {},
   "outputs": [],
   "source": [
    "vec\n",
    "vec[:,0] # This is a column vector so we have to be careful\n",
    "vec[:,1]"
   ]
  },
  {
   "cell_type": "code",
   "execution_count": null,
   "id": "954ff760",
   "metadata": {},
   "outputs": [],
   "source": [
    "val[0]*vec[:,0] # for any eigenvalue l and corresonding right eigenvector v, we must have l*v = L@v"
   ]
  },
  {
   "cell_type": "code",
   "execution_count": null,
   "id": "b9a4eb82",
   "metadata": {},
   "outputs": [],
   "source": [
    "L@vec[:,0]"
   ]
  },
  {
   "cell_type": "markdown",
   "id": "c3d2588d",
   "metadata": {},
   "source": [
    "## PCA Approach"
   ]
  },
  {
   "cell_type": "code",
   "execution_count": null,
   "id": "c38e7b54",
   "metadata": {},
   "outputs": [],
   "source": [
    "X = np.array([[0, 1, 2, 5], [3, 4, 4, 5], [1, 3, 6, 2], \n",
    "              [5, 7, 9, 3], [2, 5, 1, 3], [7, 4, 2, 0]])\n",
    "X.shape"
   ]
  },
  {
   "cell_type": "code",
   "execution_count": null,
   "id": "7cd5879e",
   "metadata": {},
   "outputs": [],
   "source": [
    "X_bar = np.mean(X, axis = 0)\n",
    "X_bar"
   ]
  },
  {
   "cell_type": "code",
   "execution_count": null,
   "id": "f2607cd3",
   "metadata": {},
   "outputs": [],
   "source": [
    "np.outer(np.array([1,1,1,1,1,1]), X_bar)"
   ]
  },
  {
   "cell_type": "code",
   "execution_count": null,
   "id": "9546b695",
   "metadata": {},
   "outputs": [],
   "source": [
    "M = X - np.outer(np.array([1,1,1,1,1,1]), X_bar)\n",
    "M"
   ]
  },
  {
   "cell_type": "code",
   "execution_count": null,
   "id": "02473ed2",
   "metadata": {},
   "outputs": [],
   "source": [
    "C = (M.T)@M/5\n",
    "C"
   ]
  },
  {
   "cell_type": "code",
   "execution_count": null,
   "id": "f584a57e",
   "metadata": {},
   "outputs": [],
   "source": [
    "(val, vec) = la.eig(C)\n",
    "val\n",
    "vec"
   ]
  },
  {
   "cell_type": "code",
   "execution_count": null,
   "id": "7ea97e12",
   "metadata": {},
   "outputs": [],
   "source": [
    "# We use k = 2\n",
    "D = np.diag([val[0], val[1]])\n",
    "D"
   ]
  },
  {
   "cell_type": "code",
   "execution_count": null,
   "id": "f197c8ae",
   "metadata": {},
   "outputs": [],
   "source": [
    "V = vec[:,0:2]\n",
    "V"
   ]
  },
  {
   "cell_type": "code",
   "execution_count": null,
   "id": "c5c352af",
   "metadata": {},
   "outputs": [],
   "source": [
    "C\n",
    "V@D@(V.T)\n",
    "vec@(np.diag(val))@(vec.T)"
   ]
  },
  {
   "cell_type": "code",
   "execution_count": null,
   "id": "b4261656",
   "metadata": {},
   "outputs": [],
   "source": [
    "U = M@V\n",
    "U"
   ]
  },
  {
   "cell_type": "code",
   "execution_count": null,
   "id": "10c3dcb9",
   "metadata": {},
   "outputs": [],
   "source": [
    "from sklearn.decomposition import PCA\n",
    "# initializing the PCA transformer\n",
    "pca = PCA(n_components = 2)\n",
    "# dimensionality reduction:\n",
    "data_pca = pd.DataFrame(pca.fit_transform(X))\n",
    "data_pca.head(6)"
   ]
  },
  {
   "cell_type": "code",
   "execution_count": null,
   "id": "92315fb1",
   "metadata": {},
   "outputs": [],
   "source": []
  }
 ],
 "metadata": {
  "kernelspec": {
   "display_name": "Python 3 (ipykernel)",
   "language": "python",
   "name": "python3"
  },
  "language_info": {
   "codemirror_mode": {
    "name": "ipython",
    "version": 3
   },
   "file_extension": ".py",
   "mimetype": "text/x-python",
   "name": "python",
   "nbconvert_exporter": "python",
   "pygments_lexer": "ipython3",
   "version": "3.9.7"
  }
 },
 "nbformat": 4,
 "nbformat_minor": 5
}
