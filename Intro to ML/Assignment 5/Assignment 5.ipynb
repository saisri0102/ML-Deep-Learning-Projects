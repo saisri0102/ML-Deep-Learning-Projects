{
 "cells": [
  {
   "cell_type": "code",
   "execution_count": 1,
   "id": "f2099aba-0da0-402c-9a71-6fb183710c43",
   "metadata": {},
   "outputs": [],
   "source": [
    "# Generic inputs for most ML tasks\n",
    "import pandas as pd\n",
    "import numpy as np\n",
    "import matplotlib.pyplot as plt\n",
    "from sklearn.model_selection import train_test_split\n",
    "from sklearn.linear_model import LinearRegression\n",
    "from sklearn.linear_model import Ridge\n",
    "from sklearn.linear_model import Lasso\n",
    "from sklearn import tree\n",
    "import graphviz\n",
    "from sklearn.tree import DecisionTreeClassifier\n",
    "from sklearn.tree import DecisionTreeRegressor\n",
    "from sklearn.ensemble import BaggingRegressor\n",
    "from sklearn.ensemble import RandomForestRegressor\n",
    "from sklearn.ensemble import GradientBoostingRegressor\n",
    "from sklearn.ensemble import BaggingClassifier\n",
    "from sklearn.ensemble import RandomForestClassifier\n",
    "from sklearn.ensemble import GradientBoostingClassifier\n",
    "\n",
    "pd.options.display.float_format = '{:,.2f}'.format\n",
    "\n",
    "# setup interactive notebook mode\n",
    "from IPython.core.interactiveshell import InteractiveShell\n",
    "InteractiveShell.ast_node_interactivity = \"all\"\n",
    "\n",
    "from IPython.display import display, HTML"
   ]
  },
  {
   "cell_type": "code",
   "execution_count": 2,
   "id": "4b1e7420-d268-4a5e-95d7-a55e15105160",
   "metadata": {},
   "outputs": [
    {
     "data": {
      "text/html": [
       "<div>\n",
       "<style scoped>\n",
       "    .dataframe tbody tr th:only-of-type {\n",
       "        vertical-align: middle;\n",
       "    }\n",
       "\n",
       "    .dataframe tbody tr th {\n",
       "        vertical-align: top;\n",
       "    }\n",
       "\n",
       "    .dataframe thead th {\n",
       "        text-align: right;\n",
       "    }\n",
       "</style>\n",
       "<table border=\"1\" class=\"dataframe\">\n",
       "  <thead>\n",
       "    <tr style=\"text-align: right;\">\n",
       "      <th></th>\n",
       "      <th>id</th>\n",
       "      <th>College</th>\n",
       "      <th>Private</th>\n",
       "      <th>Apps</th>\n",
       "      <th>Accept</th>\n",
       "      <th>Enroll</th>\n",
       "      <th>Top10perc</th>\n",
       "      <th>Top25perc</th>\n",
       "      <th>F.Undergrad</th>\n",
       "      <th>P.Undergrad</th>\n",
       "      <th>Outstate</th>\n",
       "      <th>Room.Board</th>\n",
       "      <th>Books</th>\n",
       "      <th>Personal</th>\n",
       "      <th>PhD</th>\n",
       "      <th>Terminal</th>\n",
       "      <th>S.F.Ratio</th>\n",
       "      <th>perc.alumni</th>\n",
       "      <th>Expend</th>\n",
       "      <th>Grad.Rate</th>\n",
       "    </tr>\n",
       "  </thead>\n",
       "  <tbody>\n",
       "    <tr>\n",
       "      <th>0</th>\n",
       "      <td>0</td>\n",
       "      <td>Auburn University-Main Campus</td>\n",
       "      <td>No</td>\n",
       "      <td>7548</td>\n",
       "      <td>6791</td>\n",
       "      <td>3070</td>\n",
       "      <td>25</td>\n",
       "      <td>57</td>\n",
       "      <td>16262</td>\n",
       "      <td>1716</td>\n",
       "      <td>6300</td>\n",
       "      <td>3933</td>\n",
       "      <td>600</td>\n",
       "      <td>1908</td>\n",
       "      <td>85</td>\n",
       "      <td>91</td>\n",
       "      <td>16.70</td>\n",
       "      <td>18</td>\n",
       "      <td>6642</td>\n",
       "      <td>69</td>\n",
       "    </tr>\n",
       "    <tr>\n",
       "      <th>1</th>\n",
       "      <td>1</td>\n",
       "      <td>Baylor University</td>\n",
       "      <td>Yes</td>\n",
       "      <td>6075</td>\n",
       "      <td>5349</td>\n",
       "      <td>2367</td>\n",
       "      <td>34</td>\n",
       "      <td>66</td>\n",
       "      <td>9919</td>\n",
       "      <td>484</td>\n",
       "      <td>6450</td>\n",
       "      <td>3920</td>\n",
       "      <td>600</td>\n",
       "      <td>1346</td>\n",
       "      <td>71</td>\n",
       "      <td>76</td>\n",
       "      <td>18.50</td>\n",
       "      <td>38</td>\n",
       "      <td>7503</td>\n",
       "      <td>72</td>\n",
       "    </tr>\n",
       "    <tr>\n",
       "      <th>2</th>\n",
       "      <td>2</td>\n",
       "      <td>Boston University</td>\n",
       "      <td>Yes</td>\n",
       "      <td>20192</td>\n",
       "      <td>13007</td>\n",
       "      <td>3810</td>\n",
       "      <td>45</td>\n",
       "      <td>80</td>\n",
       "      <td>14971</td>\n",
       "      <td>3113</td>\n",
       "      <td>18420</td>\n",
       "      <td>6810</td>\n",
       "      <td>475</td>\n",
       "      <td>1025</td>\n",
       "      <td>80</td>\n",
       "      <td>81</td>\n",
       "      <td>11.90</td>\n",
       "      <td>16</td>\n",
       "      <td>16836</td>\n",
       "      <td>72</td>\n",
       "    </tr>\n",
       "    <tr>\n",
       "      <th>3</th>\n",
       "      <td>3</td>\n",
       "      <td>Bowling Green State University</td>\n",
       "      <td>No</td>\n",
       "      <td>9251</td>\n",
       "      <td>7333</td>\n",
       "      <td>3076</td>\n",
       "      <td>14</td>\n",
       "      <td>45</td>\n",
       "      <td>13699</td>\n",
       "      <td>1213</td>\n",
       "      <td>7452</td>\n",
       "      <td>3352</td>\n",
       "      <td>600</td>\n",
       "      <td>1700</td>\n",
       "      <td>81</td>\n",
       "      <td>89</td>\n",
       "      <td>21.10</td>\n",
       "      <td>14</td>\n",
       "      <td>6918</td>\n",
       "      <td>67</td>\n",
       "    </tr>\n",
       "    <tr>\n",
       "      <th>4</th>\n",
       "      <td>4</td>\n",
       "      <td>Brigham Young University at Provo</td>\n",
       "      <td>Yes</td>\n",
       "      <td>7365</td>\n",
       "      <td>5402</td>\n",
       "      <td>4615</td>\n",
       "      <td>48</td>\n",
       "      <td>82</td>\n",
       "      <td>27378</td>\n",
       "      <td>1253</td>\n",
       "      <td>2340</td>\n",
       "      <td>3580</td>\n",
       "      <td>860</td>\n",
       "      <td>1220</td>\n",
       "      <td>76</td>\n",
       "      <td>76</td>\n",
       "      <td>20.50</td>\n",
       "      <td>40</td>\n",
       "      <td>7916</td>\n",
       "      <td>33</td>\n",
       "    </tr>\n",
       "  </tbody>\n",
       "</table>\n",
       "</div>"
      ],
      "text/plain": [
       "   id                            College Private   Apps  Accept  Enroll  \\\n",
       "0   0      Auburn University-Main Campus      No   7548    6791    3070   \n",
       "1   1                  Baylor University     Yes   6075    5349    2367   \n",
       "2   2                  Boston University     Yes  20192   13007    3810   \n",
       "3   3     Bowling Green State University      No   9251    7333    3076   \n",
       "4   4  Brigham Young University at Provo     Yes   7365    5402    4615   \n",
       "\n",
       "   Top10perc  Top25perc  F.Undergrad  P.Undergrad  Outstate  Room.Board  \\\n",
       "0         25         57        16262         1716      6300        3933   \n",
       "1         34         66         9919          484      6450        3920   \n",
       "2         45         80        14971         3113     18420        6810   \n",
       "3         14         45        13699         1213      7452        3352   \n",
       "4         48         82        27378         1253      2340        3580   \n",
       "\n",
       "   Books  Personal  PhD  Terminal  S.F.Ratio  perc.alumni  Expend  Grad.Rate  \n",
       "0    600      1908   85        91      16.70           18    6642         69  \n",
       "1    600      1346   71        76      18.50           38    7503         72  \n",
       "2    475      1025   80        81      11.90           16   16836         72  \n",
       "3    600      1700   81        89      21.10           14    6918         67  \n",
       "4    860      1220   76        76      20.50           40    7916         33  "
      ]
     },
     "execution_count": 2,
     "metadata": {},
     "output_type": "execute_result"
    }
   ],
   "source": [
    "# fetch data \n",
    "college_data = pd.read_csv('College_subset_islr.csv')\n",
    "college_data.head()"
   ]
  },
  {
   "cell_type": "code",
   "execution_count": 21,
   "id": "9d7cbcac-a168-482b-924f-5ae7521c9370",
   "metadata": {},
   "outputs": [
    {
     "data": {
      "text/plain": [
       "(46, 20)"
      ]
     },
     "execution_count": 21,
     "metadata": {},
     "output_type": "execute_result"
    }
   ],
   "source": [
    "college_data.shape"
   ]
  },
  {
   "cell_type": "code",
   "execution_count": 22,
   "id": "91c680f1-bb64-4240-8bd5-48b17cf38800",
   "metadata": {},
   "outputs": [
    {
     "data": {
      "text/plain": [
       "(46, 17)"
      ]
     },
     "execution_count": 22,
     "metadata": {},
     "output_type": "execute_result"
    }
   ],
   "source": [
    "college_data = college_data.drop(columns = ['id','College','Private'])\n",
    "college_data.shape"
   ]
  },
  {
   "cell_type": "code",
   "execution_count": 23,
   "id": "a9a3a25c-6482-4d18-a63c-3d9b78701430",
   "metadata": {},
   "outputs": [
    {
     "data": {
      "text/html": [
       "<div>\n",
       "<style scoped>\n",
       "    .dataframe tbody tr th:only-of-type {\n",
       "        vertical-align: middle;\n",
       "    }\n",
       "\n",
       "    .dataframe tbody tr th {\n",
       "        vertical-align: top;\n",
       "    }\n",
       "\n",
       "    .dataframe thead th {\n",
       "        text-align: right;\n",
       "    }\n",
       "</style>\n",
       "<table border=\"1\" class=\"dataframe\">\n",
       "  <thead>\n",
       "    <tr style=\"text-align: right;\">\n",
       "      <th></th>\n",
       "      <th>Apps</th>\n",
       "      <th>Accept</th>\n",
       "      <th>Enroll</th>\n",
       "      <th>Top10perc</th>\n",
       "      <th>Top25perc</th>\n",
       "      <th>F.Undergrad</th>\n",
       "      <th>P.Undergrad</th>\n",
       "      <th>Outstate</th>\n",
       "      <th>Room.Board</th>\n",
       "      <th>Books</th>\n",
       "      <th>Personal</th>\n",
       "      <th>PhD</th>\n",
       "      <th>Terminal</th>\n",
       "      <th>S.F.Ratio</th>\n",
       "      <th>perc.alumni</th>\n",
       "      <th>Expend</th>\n",
       "      <th>Grad.Rate</th>\n",
       "    </tr>\n",
       "  </thead>\n",
       "  <tbody>\n",
       "    <tr>\n",
       "      <th>count</th>\n",
       "      <td>46.00</td>\n",
       "      <td>46.00</td>\n",
       "      <td>46.00</td>\n",
       "      <td>46.00</td>\n",
       "      <td>46.00</td>\n",
       "      <td>46.00</td>\n",
       "      <td>46.00</td>\n",
       "      <td>46.00</td>\n",
       "      <td>46.00</td>\n",
       "      <td>46.00</td>\n",
       "      <td>46.00</td>\n",
       "      <td>46.00</td>\n",
       "      <td>46.00</td>\n",
       "      <td>46.00</td>\n",
       "      <td>46.00</td>\n",
       "      <td>46.00</td>\n",
       "      <td>46.00</td>\n",
       "    </tr>\n",
       "    <tr>\n",
       "      <th>mean</th>\n",
       "      <td>8,494.98</td>\n",
       "      <td>5,016.00</td>\n",
       "      <td>2,142.41</td>\n",
       "      <td>51.30</td>\n",
       "      <td>75.67</td>\n",
       "      <td>10,275.91</td>\n",
       "      <td>1,412.76</td>\n",
       "      <td>12,328.57</td>\n",
       "      <td>4,875.72</td>\n",
       "      <td>629.96</td>\n",
       "      <td>1,560.76</td>\n",
       "      <td>87.59</td>\n",
       "      <td>90.65</td>\n",
       "      <td>13.09</td>\n",
       "      <td>24.83</td>\n",
       "      <td>15,591.50</td>\n",
       "      <td>71.63</td>\n",
       "    </tr>\n",
       "    <tr>\n",
       "      <th>std</th>\n",
       "      <td>4,878.91</td>\n",
       "      <td>3,435.81</td>\n",
       "      <td>1,447.82</td>\n",
       "      <td>26.27</td>\n",
       "      <td>20.22</td>\n",
       "      <td>7,713.59</td>\n",
       "      <td>1,711.10</td>\n",
       "      <td>5,592.65</td>\n",
       "      <td>1,368.70</td>\n",
       "      <td>136.58</td>\n",
       "      <td>750.89</td>\n",
       "      <td>8.23</td>\n",
       "      <td>6.86</td>\n",
       "      <td>5.65</td>\n",
       "      <td>13.42</td>\n",
       "      <td>10,658.50</td>\n",
       "      <td>20.10</td>\n",
       "    </tr>\n",
       "    <tr>\n",
       "      <th>min</th>\n",
       "      <td>1,377.00</td>\n",
       "      <td>572.00</td>\n",
       "      <td>178.00</td>\n",
       "      <td>9.00</td>\n",
       "      <td>24.00</td>\n",
       "      <td>654.00</td>\n",
       "      <td>5.00</td>\n",
       "      <td>2,340.00</td>\n",
       "      <td>2,655.00</td>\n",
       "      <td>350.00</td>\n",
       "      <td>300.00</td>\n",
       "      <td>71.00</td>\n",
       "      <td>75.00</td>\n",
       "      <td>2.90</td>\n",
       "      <td>6.00</td>\n",
       "      <td>4,509.00</td>\n",
       "      <td>33.00</td>\n",
       "    </tr>\n",
       "    <tr>\n",
       "      <th>25%</th>\n",
       "      <td>5,160.25</td>\n",
       "      <td>2,949.75</td>\n",
       "      <td>1,199.00</td>\n",
       "      <td>29.00</td>\n",
       "      <td>61.25</td>\n",
       "      <td>4,453.50</td>\n",
       "      <td>247.50</td>\n",
       "      <td>6,865.50</td>\n",
       "      <td>3,587.50</td>\n",
       "      <td>555.00</td>\n",
       "      <td>1,042.50</td>\n",
       "      <td>81.25</td>\n",
       "      <td>87.00</td>\n",
       "      <td>8.42</td>\n",
       "      <td>14.00</td>\n",
       "      <td>7,942.00</td>\n",
       "      <td>58.25</td>\n",
       "    </tr>\n",
       "    <tr>\n",
       "      <th>50%</th>\n",
       "      <td>7,856.00</td>\n",
       "      <td>4,247.00</td>\n",
       "      <td>1,698.00</td>\n",
       "      <td>46.00</td>\n",
       "      <td>76.00</td>\n",
       "      <td>8,130.00</td>\n",
       "      <td>787.00</td>\n",
       "      <td>12,774.00</td>\n",
       "      <td>4,675.00</td>\n",
       "      <td>600.00</td>\n",
       "      <td>1,348.00</td>\n",
       "      <td>88.00</td>\n",
       "      <td>91.50</td>\n",
       "      <td>12.50</td>\n",
       "      <td>21.00</td>\n",
       "      <td>12,061.00</td>\n",
       "      <td>70.00</td>\n",
       "    </tr>\n",
       "    <tr>\n",
       "      <th>75%</th>\n",
       "      <td>10,648.00</td>\n",
       "      <td>5,645.75</td>\n",
       "      <td>2,882.50</td>\n",
       "      <td>76.75</td>\n",
       "      <td>95.75</td>\n",
       "      <td>13,653.75</td>\n",
       "      <td>1,715.75</td>\n",
       "      <td>17,568.75</td>\n",
       "      <td>6,052.50</td>\n",
       "      <td>692.50</td>\n",
       "      <td>1,970.50</td>\n",
       "      <td>95.00</td>\n",
       "      <td>96.75</td>\n",
       "      <td>18.43</td>\n",
       "      <td>36.75</td>\n",
       "      <td>19,708.50</td>\n",
       "      <td>93.75</td>\n",
       "    </tr>\n",
       "    <tr>\n",
       "      <th>max</th>\n",
       "      <td>21,804.00</td>\n",
       "      <td>18,744.00</td>\n",
       "      <td>6,392.00</td>\n",
       "      <td>95.00</td>\n",
       "      <td>100.00</td>\n",
       "      <td>31,643.00</td>\n",
       "      <td>9,054.00</td>\n",
       "      <td>19,840.00</td>\n",
       "      <td>7,270.00</td>\n",
       "      <td>1,230.00</td>\n",
       "      <td>3,450.00</td>\n",
       "      <td>100.00</td>\n",
       "      <td>100.00</td>\n",
       "      <td>23.10</td>\n",
       "      <td>52.00</td>\n",
       "      <td>56,233.00</td>\n",
       "      <td>100.00</td>\n",
       "    </tr>\n",
       "  </tbody>\n",
       "</table>\n",
       "</div>"
      ],
      "text/plain": [
       "           Apps    Accept   Enroll  Top10perc  Top25perc  F.Undergrad  \\\n",
       "count     46.00     46.00    46.00      46.00      46.00        46.00   \n",
       "mean   8,494.98  5,016.00 2,142.41      51.30      75.67    10,275.91   \n",
       "std    4,878.91  3,435.81 1,447.82      26.27      20.22     7,713.59   \n",
       "min    1,377.00    572.00   178.00       9.00      24.00       654.00   \n",
       "25%    5,160.25  2,949.75 1,199.00      29.00      61.25     4,453.50   \n",
       "50%    7,856.00  4,247.00 1,698.00      46.00      76.00     8,130.00   \n",
       "75%   10,648.00  5,645.75 2,882.50      76.75      95.75    13,653.75   \n",
       "max   21,804.00 18,744.00 6,392.00      95.00     100.00    31,643.00   \n",
       "\n",
       "       P.Undergrad  Outstate  Room.Board    Books  Personal    PhD  Terminal  \\\n",
       "count        46.00     46.00       46.00    46.00     46.00  46.00     46.00   \n",
       "mean      1,412.76 12,328.57    4,875.72   629.96  1,560.76  87.59     90.65   \n",
       "std       1,711.10  5,592.65    1,368.70   136.58    750.89   8.23      6.86   \n",
       "min           5.00  2,340.00    2,655.00   350.00    300.00  71.00     75.00   \n",
       "25%         247.50  6,865.50    3,587.50   555.00  1,042.50  81.25     87.00   \n",
       "50%         787.00 12,774.00    4,675.00   600.00  1,348.00  88.00     91.50   \n",
       "75%       1,715.75 17,568.75    6,052.50   692.50  1,970.50  95.00     96.75   \n",
       "max       9,054.00 19,840.00    7,270.00 1,230.00  3,450.00 100.00    100.00   \n",
       "\n",
       "       S.F.Ratio  perc.alumni    Expend  Grad.Rate  \n",
       "count      46.00        46.00     46.00      46.00  \n",
       "mean       13.09        24.83 15,591.50      71.63  \n",
       "std         5.65        13.42 10,658.50      20.10  \n",
       "min         2.90         6.00  4,509.00      33.00  \n",
       "25%         8.42        14.00  7,942.00      58.25  \n",
       "50%        12.50        21.00 12,061.00      70.00  \n",
       "75%        18.43        36.75 19,708.50      93.75  \n",
       "max        23.10        52.00 56,233.00     100.00  "
      ]
     },
     "execution_count": 23,
     "metadata": {},
     "output_type": "execute_result"
    }
   ],
   "source": [
    "college_data.describe()"
   ]
  },
  {
   "cell_type": "code",
   "execution_count": 24,
   "id": "be2088dc-971d-4a74-a135-94d07ca2020b",
   "metadata": {},
   "outputs": [
    {
     "data": {
      "text/plain": [
       "Apps             int64\n",
       "Accept           int64\n",
       "Enroll           int64\n",
       "Top10perc        int64\n",
       "Top25perc        int64\n",
       "F.Undergrad      int64\n",
       "P.Undergrad      int64\n",
       "Outstate         int64\n",
       "Room.Board       int64\n",
       "Books            int64\n",
       "Personal         int64\n",
       "PhD              int64\n",
       "Terminal         int64\n",
       "S.F.Ratio      float64\n",
       "perc.alumni      int64\n",
       "Expend           int64\n",
       "Grad.Rate        int64\n",
       "dtype: object"
      ]
     },
     "execution_count": 24,
     "metadata": {},
     "output_type": "execute_result"
    }
   ],
   "source": [
    "college_data.dtypes"
   ]
  },
  {
   "cell_type": "code",
   "execution_count": 30,
   "id": "10bcb53c-e6cd-4a66-a150-b0a588e075d5",
   "metadata": {},
   "outputs": [
    {
     "data": {
      "text/plain": [
       "<Figure size 800x600 with 0 Axes>"
      ]
     },
     "execution_count": 30,
     "metadata": {},
     "output_type": "execute_result"
    },
    {
     "data": {
      "text/plain": [
       "<Axes: >"
      ]
     },
     "execution_count": 30,
     "metadata": {},
     "output_type": "execute_result"
    },
    {
     "data": {
      "text/plain": [
       "Text(0.5, 1.0, 'Correlation Heatmap')"
      ]
     },
     "execution_count": 30,
     "metadata": {},
     "output_type": "execute_result"
    },
    {
     "data": {
      "image/png": "[encoded data removed]",
      "text/plain": [
       "<Figure size 800x600 with 2 Axes>"
      ]
     },
     "metadata": {},
     "output_type": "display_data"
    }
   ],
   "source": [
    "import seaborn as sns\n",
    "\n",
    "corr_matrix = college_data.corr()\n",
    "\n",
    "plt.figure(figsize=(8, 6))\n",
    "sns.heatmap(corr_matrix, annot=True, cmap='coolwarm', vmin=-1, vmax=1)\n",
    "plt.title('Correlation Heatmap')\n",
    "plt.show()"
   ]
  },
  {
   "cell_type": "code",
   "execution_count": 31,
   "id": "3ce7dd99-3c18-4fa7-b420-d97ff11fac4a",
   "metadata": {},
   "outputs": [
    {
     "name": "stdout",
     "output_type": "stream",
     "text": [
      "             Apps  Accept  Enroll  Top10perc  Top25perc  F.Undergrad  \\\n",
      "Apps         1.00    0.77    0.67       0.21       0.22         0.57   \n",
      "Accept       0.77    1.00    0.86      -0.31      -0.22         0.77   \n",
      "Enroll       0.67    0.86    1.00      -0.30      -0.21         0.97   \n",
      "Top10perc    0.21   -0.31   -0.30       1.00       0.94        -0.33   \n",
      "Top25perc    0.22   -0.22   -0.21       0.94       1.00        -0.25   \n",
      "F.Undergrad  0.57    0.77    0.97      -0.33      -0.25         1.00   \n",
      "P.Undergrad  0.17    0.36    0.42      -0.51      -0.58         0.48   \n",
      "Outstate     0.10   -0.28   -0.54       0.65       0.63        -0.64   \n",
      "Room.Board   0.23   -0.20   -0.41       0.68       0.65        -0.48   \n",
      "Books       -0.14   -0.04    0.06      -0.07      -0.08         0.13   \n",
      "Personal     0.11    0.15    0.37      -0.31      -0.36         0.47   \n",
      "PhD          0.13   -0.22   -0.25       0.70       0.56        -0.28   \n",
      "Terminal     0.12   -0.19   -0.23       0.61       0.49        -0.24   \n",
      "S.F.Ratio    0.03    0.38    0.55      -0.60      -0.58         0.61   \n",
      "perc.alumni -0.02   -0.37   -0.29       0.73       0.70        -0.35   \n",
      "Expend       0.15   -0.29   -0.39       0.71       0.65        -0.44   \n",
      "Grad.Rate    0.22   -0.20   -0.33       0.75       0.73        -0.42   \n",
      "\n",
      "             P.Undergrad  Outstate  Room.Board  Books  Personal   PhD  \\\n",
      "Apps                0.17      0.10        0.23  -0.14      0.11  0.13   \n",
      "Accept              0.36     -0.28       -0.20  -0.04      0.15 -0.22   \n",
      "Enroll              0.42     -0.54       -0.41   0.06      0.37 -0.25   \n",
      "Top10perc          -0.51      0.65        0.68  -0.07     -0.31  0.70   \n",
      "Top25perc          -0.58      0.63        0.65  -0.08     -0.36  0.56   \n",
      "F.Undergrad         0.48     -0.64       -0.48   0.13      0.47 -0.28   \n",
      "P.Undergrad         1.00     -0.49       -0.45  -0.02      0.58 -0.14   \n",
      "Outstate           -0.49      1.00        0.83  -0.23     -0.52  0.60   \n",
      "Room.Board         -0.45      0.83        1.00  -0.19     -0.47  0.49   \n",
      "Books              -0.02     -0.23       -0.19   1.00      0.22  0.01   \n",
      "Personal            0.58     -0.52       -0.47   0.22      1.00 -0.13   \n",
      "PhD                -0.14      0.60        0.49   0.01     -0.13  1.00   \n",
      "Terminal           -0.14      0.55        0.46   0.04     -0.06  0.92   \n",
      "S.F.Ratio           0.45     -0.82       -0.73   0.25      0.28 -0.57   \n",
      "perc.alumni        -0.54      0.50        0.40  -0.14     -0.35  0.38   \n",
      "Expend             -0.36      0.74        0.73  -0.26     -0.27  0.59   \n",
      "Grad.Rate          -0.56      0.69        0.63  -0.24     -0.45  0.55   \n",
      "\n",
      "             Terminal  S.F.Ratio  perc.alumni  Expend  Grad.Rate  \n",
      "Apps             0.12       0.03        -0.02    0.15       0.22  \n",
      "Accept          -0.19       0.38        -0.37   -0.29      -0.20  \n",
      "Enroll          -0.23       0.55        -0.29   -0.39      -0.33  \n",
      "Top10perc        0.61      -0.60         0.73    0.71       0.75  \n",
      "Top25perc        0.49      -0.58         0.70    0.65       0.73  \n",
      "F.Undergrad     -0.24       0.61        -0.35   -0.44      -0.42  \n",
      "P.Undergrad     -0.14       0.45        -0.54   -0.36      -0.56  \n",
      "Outstate         0.55      -0.82         0.50    0.74       0.69  \n",
      "Room.Board       0.46      -0.73         0.40    0.73       0.63  \n",
      "Books            0.04       0.25        -0.14   -0.26      -0.24  \n",
      "Personal        -0.06       0.28        -0.35   -0.27      -0.45  \n",
      "PhD              0.92      -0.57         0.38    0.59       0.55  \n",
      "Terminal         1.00      -0.50         0.26    0.54       0.48  \n",
      "S.F.Ratio       -0.50       1.00        -0.43   -0.78      -0.55  \n",
      "perc.alumni      0.26      -0.43         1.00    0.60       0.70  \n",
      "Expend           0.54      -0.78         0.60    1.00       0.63  \n",
      "Grad.Rate        0.48      -0.55         0.70    0.63       1.00  \n"
     ]
    }
   ],
   "source": [
    "print(corr_matrix)"
   ]
  },
  {
   "cell_type": "markdown",
   "id": "46a132d9-449e-41c5-bc87-3f5a3dd108cb",
   "metadata": {},
   "source": [
    "Feature that is most correlated with graduation rate is Top10perc with correlation value of 0.75"
   ]
  },
  {
   "cell_type": "code",
   "execution_count": 32,
   "id": "28ea5aae-dbd7-4aff-b751-f7b30a80f220",
   "metadata": {},
   "outputs": [
    {
     "data": {
      "text/plain": [
       "Index(['Apps', 'Accept', 'Enroll', 'Top10perc', 'Top25perc', 'F.Undergrad',\n",
       "       'P.Undergrad', 'Outstate', 'Room.Board', 'Books', 'Personal', 'PhD',\n",
       "       'Terminal', 'S.F.Ratio', 'perc.alumni', 'Expend', 'Grad.Rate'],\n",
       "      dtype='object')"
      ]
     },
     "execution_count": 32,
     "metadata": {},
     "output_type": "execute_result"
    }
   ],
   "source": [
    "college_data.columns"
   ]
  },
  {
   "cell_type": "code",
   "execution_count": 34,
   "id": "6048cdd3-6e89-4313-8f20-736a577ebab1",
   "metadata": {},
   "outputs": [],
   "source": [
    "cols = ['Apps', 'Accept', 'Enroll', 'Top10perc', 'Top25perc', 'F.Undergrad',\n",
    "       'P.Undergrad', 'Outstate', 'Room.Board', 'Books', 'Personal', 'PhD',\n",
    "       'Terminal', 'S.F.Ratio', 'perc.alumni', 'Expend', 'Grad.Rate']\n",
    "from sklearn.preprocessing import StandardScaler\n",
    "sc = StandardScaler()\n",
    "subset_data = pd.DataFrame(sc.fit_transform(college_data[cols]), columns = college_data[cols].columns, index = college_data.index)"
   ]
  },
  {
   "cell_type": "code",
   "execution_count": 35,
   "id": "6d8ef8e8-8942-4452-a4b2-6cd476455da0",
   "metadata": {},
   "outputs": [
    {
     "data": {
      "text/html": [
       "<div>\n",
       "<style scoped>\n",
       "    .dataframe tbody tr th:only-of-type {\n",
       "        vertical-align: middle;\n",
       "    }\n",
       "\n",
       "    .dataframe tbody tr th {\n",
       "        vertical-align: top;\n",
       "    }\n",
       "\n",
       "    .dataframe thead th {\n",
       "        text-align: right;\n",
       "    }\n",
       "</style>\n",
       "<table border=\"1\" class=\"dataframe\">\n",
       "  <thead>\n",
       "    <tr style=\"text-align: right;\">\n",
       "      <th></th>\n",
       "      <th>Apps</th>\n",
       "      <th>Accept</th>\n",
       "      <th>Enroll</th>\n",
       "      <th>Top10perc</th>\n",
       "      <th>Top25perc</th>\n",
       "      <th>F.Undergrad</th>\n",
       "      <th>P.Undergrad</th>\n",
       "      <th>Outstate</th>\n",
       "      <th>Room.Board</th>\n",
       "      <th>Books</th>\n",
       "      <th>Personal</th>\n",
       "      <th>PhD</th>\n",
       "      <th>Terminal</th>\n",
       "      <th>S.F.Ratio</th>\n",
       "      <th>perc.alumni</th>\n",
       "      <th>Expend</th>\n",
       "      <th>Grad.Rate</th>\n",
       "    </tr>\n",
       "  </thead>\n",
       "  <tbody>\n",
       "    <tr>\n",
       "      <th>0</th>\n",
       "      <td>-0.20</td>\n",
       "      <td>0.52</td>\n",
       "      <td>0.65</td>\n",
       "      <td>-1.01</td>\n",
       "      <td>-0.93</td>\n",
       "      <td>0.78</td>\n",
       "      <td>0.18</td>\n",
       "      <td>-1.09</td>\n",
       "      <td>-0.70</td>\n",
       "      <td>-0.22</td>\n",
       "      <td>0.47</td>\n",
       "      <td>-0.32</td>\n",
       "      <td>0.05</td>\n",
       "      <td>0.65</td>\n",
       "      <td>-0.51</td>\n",
       "      <td>-0.85</td>\n",
       "      <td>-0.13</td>\n",
       "    </tr>\n",
       "    <tr>\n",
       "      <th>1</th>\n",
       "      <td>-0.50</td>\n",
       "      <td>0.10</td>\n",
       "      <td>0.16</td>\n",
       "      <td>-0.67</td>\n",
       "      <td>-0.48</td>\n",
       "      <td>-0.05</td>\n",
       "      <td>-0.55</td>\n",
       "      <td>-1.06</td>\n",
       "      <td>-0.71</td>\n",
       "      <td>-0.22</td>\n",
       "      <td>-0.29</td>\n",
       "      <td>-2.04</td>\n",
       "      <td>-2.16</td>\n",
       "      <td>0.97</td>\n",
       "      <td>0.99</td>\n",
       "      <td>-0.77</td>\n",
       "      <td>0.02</td>\n",
       "    </tr>\n",
       "    <tr>\n",
       "      <th>2</th>\n",
       "      <td>2.42</td>\n",
       "      <td>2.35</td>\n",
       "      <td>1.16</td>\n",
       "      <td>-0.24</td>\n",
       "      <td>0.22</td>\n",
       "      <td>0.62</td>\n",
       "      <td>1.00</td>\n",
       "      <td>1.10</td>\n",
       "      <td>1.43</td>\n",
       "      <td>-1.15</td>\n",
       "      <td>-0.72</td>\n",
       "      <td>-0.93</td>\n",
       "      <td>-1.42</td>\n",
       "      <td>-0.21</td>\n",
       "      <td>-0.67</td>\n",
       "      <td>0.12</td>\n",
       "      <td>0.02</td>\n",
       "    </tr>\n",
       "    <tr>\n",
       "      <th>3</th>\n",
       "      <td>0.16</td>\n",
       "      <td>0.68</td>\n",
       "      <td>0.65</td>\n",
       "      <td>-1.44</td>\n",
       "      <td>-1.53</td>\n",
       "      <td>0.45</td>\n",
       "      <td>-0.12</td>\n",
       "      <td>-0.88</td>\n",
       "      <td>-1.13</td>\n",
       "      <td>-0.22</td>\n",
       "      <td>0.19</td>\n",
       "      <td>-0.81</td>\n",
       "      <td>-0.24</td>\n",
       "      <td>1.44</td>\n",
       "      <td>-0.82</td>\n",
       "      <td>-0.82</td>\n",
       "      <td>-0.23</td>\n",
       "    </tr>\n",
       "    <tr>\n",
       "      <th>4</th>\n",
       "      <td>-0.23</td>\n",
       "      <td>0.11</td>\n",
       "      <td>1.73</td>\n",
       "      <td>-0.13</td>\n",
       "      <td>0.32</td>\n",
       "      <td>2.24</td>\n",
       "      <td>-0.09</td>\n",
       "      <td>-1.81</td>\n",
       "      <td>-0.96</td>\n",
       "      <td>1.70</td>\n",
       "      <td>-0.46</td>\n",
       "      <td>-1.42</td>\n",
       "      <td>-2.16</td>\n",
       "      <td>1.33</td>\n",
       "      <td>1.14</td>\n",
       "      <td>-0.73</td>\n",
       "      <td>-1.94</td>\n",
       "    </tr>\n",
       "  </tbody>\n",
       "</table>\n",
       "</div>"
      ],
      "text/plain": [
       "   Apps  Accept  Enroll  Top10perc  Top25perc  F.Undergrad  P.Undergrad  \\\n",
       "0 -0.20    0.52    0.65      -1.01      -0.93         0.78         0.18   \n",
       "1 -0.50    0.10    0.16      -0.67      -0.48        -0.05        -0.55   \n",
       "2  2.42    2.35    1.16      -0.24       0.22         0.62         1.00   \n",
       "3  0.16    0.68    0.65      -1.44      -1.53         0.45        -0.12   \n",
       "4 -0.23    0.11    1.73      -0.13       0.32         2.24        -0.09   \n",
       "\n",
       "   Outstate  Room.Board  Books  Personal   PhD  Terminal  S.F.Ratio  \\\n",
       "0     -1.09       -0.70  -0.22      0.47 -0.32      0.05       0.65   \n",
       "1     -1.06       -0.71  -0.22     -0.29 -2.04     -2.16       0.97   \n",
       "2      1.10        1.43  -1.15     -0.72 -0.93     -1.42      -0.21   \n",
       "3     -0.88       -1.13  -0.22      0.19 -0.81     -0.24       1.44   \n",
       "4     -1.81       -0.96   1.70     -0.46 -1.42     -2.16       1.33   \n",
       "\n",
       "   perc.alumni  Expend  Grad.Rate  \n",
       "0        -0.51   -0.85      -0.13  \n",
       "1         0.99   -0.77       0.02  \n",
       "2        -0.67    0.12       0.02  \n",
       "3        -0.82   -0.82      -0.23  \n",
       "4         1.14   -0.73      -1.94  "
      ]
     },
     "execution_count": 35,
     "metadata": {},
     "output_type": "execute_result"
    }
   ],
   "source": [
    "subset_data.head()"
   ]
  },
  {
   "cell_type": "code",
   "execution_count": 36,
   "id": "9f8b4ed3-7258-4a0a-be9c-802b722afeff",
   "metadata": {},
   "outputs": [
    {
     "data": {
      "text/html": [
       "<div>\n",
       "<style scoped>\n",
       "    .dataframe tbody tr th:only-of-type {\n",
       "        vertical-align: middle;\n",
       "    }\n",
       "\n",
       "    .dataframe tbody tr th {\n",
       "        vertical-align: top;\n",
       "    }\n",
       "\n",
       "    .dataframe thead th {\n",
       "        text-align: right;\n",
       "    }\n",
       "</style>\n",
       "<table border=\"1\" class=\"dataframe\">\n",
       "  <thead>\n",
       "    <tr style=\"text-align: right;\">\n",
       "      <th></th>\n",
       "      <th>0</th>\n",
       "      <th>1</th>\n",
       "    </tr>\n",
       "  </thead>\n",
       "  <tbody>\n",
       "    <tr>\n",
       "      <th>0</th>\n",
       "      <td>-2.31</td>\n",
       "      <td>0.13</td>\n",
       "    </tr>\n",
       "    <tr>\n",
       "      <th>1</th>\n",
       "      <td>-1.94</td>\n",
       "      <td>-1.32</td>\n",
       "    </tr>\n",
       "    <tr>\n",
       "      <th>2</th>\n",
       "      <td>-0.72</td>\n",
       "      <td>2.95</td>\n",
       "    </tr>\n",
       "    <tr>\n",
       "      <th>3</th>\n",
       "      <td>-3.01</td>\n",
       "      <td>-0.17</td>\n",
       "    </tr>\n",
       "    <tr>\n",
       "      <th>4</th>\n",
       "      <td>-3.43</td>\n",
       "      <td>0.33</td>\n",
       "    </tr>\n",
       "  </tbody>\n",
       "</table>\n",
       "</div>"
      ],
      "text/plain": [
       "      0     1\n",
       "0 -2.31  0.13\n",
       "1 -1.94 -1.32\n",
       "2 -0.72  2.95\n",
       "3 -3.01 -0.17\n",
       "4 -3.43  0.33"
      ]
     },
     "execution_count": 36,
     "metadata": {},
     "output_type": "execute_result"
    }
   ],
   "source": [
    "# Check if PCA using SVD gives same results\n",
    "from sklearn.decomposition import PCA\n",
    "# initializing the PCA transformer\n",
    "pca = PCA(n_components = 2)\n",
    "# dimensionality reduction:\n",
    "data_pca = pd.DataFrame(pca.fit_transform(subset_data), index = subset_data.index)\n",
    "data_pca.head()"
   ]
  },
  {
   "cell_type": "code",
   "execution_count": 38,
   "id": "8495f9d9-baea-4051-9c9d-26adf90da50e",
   "metadata": {},
   "outputs": [
    {
     "data": {
      "text/plain": [
       "[<matplotlib.lines.Line2D at 0x12cbae510>]"
      ]
     },
     "execution_count": 38,
     "metadata": {},
     "output_type": "execute_result"
    },
    {
     "data": {
      "text/plain": [
       "Text(-2.312242616352031, 0.12698570864437939, '0')"
      ]
     },
     "execution_count": 38,
     "metadata": {},
     "output_type": "execute_result"
    },
    {
     "data": {
      "text/plain": [
       "Text(-1.9375537965282041, -1.3226055765463465, '1')"
      ]
     },
     "execution_count": 38,
     "metadata": {},
     "output_type": "execute_result"
    },
    {
     "data": {
      "text/plain": [
       "Text(-0.7237403731952937, 2.951358395259624, '2')"
      ]
     },
     "execution_count": 38,
     "metadata": {},
     "output_type": "execute_result"
    },
    {
     "data": {
      "text/plain": [
       "Text(-3.012652212893119, -0.17369784777819147, '3')"
      ]
     },
     "execution_count": 38,
     "metadata": {},
     "output_type": "execute_result"
    },
    {
     "data": {
      "text/plain": [
       "Text(-3.431982099973631, 0.33310805049196834, '4')"
      ]
     },
     "execution_count": 38,
     "metadata": {},
     "output_type": "execute_result"
    },
    {
     "data": {
      "text/plain": [
       "Text(3.5539085208454577, 0.9188933721344458, '5')"
      ]
     },
     "execution_count": 38,
     "metadata": {},
     "output_type": "execute_result"
    },
    {
     "data": {
      "text/plain": [
       "Text(-2.1601856297404214, -1.0122210521145723, '6')"
      ]
     },
     "execution_count": 38,
     "metadata": {},
     "output_type": "execute_result"
    },
    {
     "data": {
      "text/plain": [
       "Text(2.046725984330878, -0.13485547149783828, '7')"
      ]
     },
     "execution_count": 38,
     "metadata": {},
     "output_type": "execute_result"
    },
    {
     "data": {
      "text/plain": [
       "Text(2.410261899498463, -0.9881036985566178, '8')"
      ]
     },
     "execution_count": 38,
     "metadata": {},
     "output_type": "execute_result"
    },
    {
     "data": {
      "text/plain": [
       "Text(-1.7792839662821973, -0.6048137893311827, '9')"
      ]
     },
     "execution_count": 38,
     "metadata": {},
     "output_type": "execute_result"
    },
    {
     "data": {
      "text/plain": [
       "Text(4.076449359883264, -0.25707407139794514, '10')"
      ]
     },
     "execution_count": 38,
     "metadata": {},
     "output_type": "execute_result"
    },
    {
     "data": {
      "text/plain": [
       "Text(-0.1488723943089397, -3.402679096119352, '11')"
      ]
     },
     "execution_count": 38,
     "metadata": {},
     "output_type": "execute_result"
    },
    {
     "data": {
      "text/plain": [
       "Text(4.400402542720862, 0.273479770067459, '12')"
      ]
     },
     "execution_count": 38,
     "metadata": {},
     "output_type": "execute_result"
    },
    {
     "data": {
      "text/plain": [
       "Text(3.2652022356513055, -1.3194410543959096, '13')"
      ]
     },
     "execution_count": 38,
     "metadata": {},
     "output_type": "execute_result"
    },
    {
     "data": {
      "text/plain": [
       "Text(3.7515827683307483, 1.173067817345767, '14')"
      ]
     },
     "execution_count": 38,
     "metadata": {},
     "output_type": "execute_result"
    },
    {
     "data": {
      "text/plain": [
       "Text(3.5142191760138544, 0.40976296349050145, '15')"
      ]
     },
     "execution_count": 38,
     "metadata": {},
     "output_type": "execute_result"
    },
    {
     "data": {
      "text/plain": [
       "Text(0.03999179797212794, -2.5508416124482665, '16')"
      ]
     },
     "execution_count": 38,
     "metadata": {},
     "output_type": "execute_result"
    },
    {
     "data": {
      "text/plain": [
       "Text(-2.132391740367173, -1.2065843031230574, '17')"
      ]
     },
     "execution_count": 38,
     "metadata": {},
     "output_type": "execute_result"
    },
    {
     "data": {
      "text/plain": [
       "Text(1.0276822355794086, -0.47759590187353695, '18')"
      ]
     },
     "execution_count": 38,
     "metadata": {},
     "output_type": "execute_result"
    },
    {
     "data": {
      "text/plain": [
       "Text(2.670690085833677, 0.33546758929992676, '19')"
      ]
     },
     "execution_count": 38,
     "metadata": {},
     "output_type": "execute_result"
    },
    {
     "data": {
      "text/plain": [
       "Text(0.3811692883958183, 0.1538122359774131, '20')"
      ]
     },
     "execution_count": 38,
     "metadata": {},
     "output_type": "execute_result"
    },
    {
     "data": {
      "text/plain": [
       "Text(-4.580036903611131, -1.9920466607624692, '21')"
      ]
     },
     "execution_count": 38,
     "metadata": {},
     "output_type": "execute_result"
    },
    {
     "data": {
      "text/plain": [
       "Text(4.083384680617269, 1.449513602368278, '22')"
      ]
     },
     "execution_count": 38,
     "metadata": {},
     "output_type": "execute_result"
    },
    {
     "data": {
      "text/plain": [
       "Text(4.583120866800019, -1.1195012333058156, '23')"
      ]
     },
     "execution_count": 38,
     "metadata": {},
     "output_type": "execute_result"
    },
    {
     "data": {
      "text/plain": [
       "Text(0.5438095900462551, -2.6517474761398314, '24')"
      ]
     },
     "execution_count": 38,
     "metadata": {},
     "output_type": "execute_result"
    },
    {
     "data": {
      "text/plain": [
       "Text(-2.857015325128387, 0.36474270539438364, '25')"
      ]
     },
     "execution_count": 38,
     "metadata": {},
     "output_type": "execute_result"
    },
    {
     "data": {
      "text/plain": [
       "Text(4.5586024068182835, 0.5407638674040087, '26')"
      ]
     },
     "execution_count": 38,
     "metadata": {},
     "output_type": "execute_result"
    },
    {
     "data": {
      "text/plain": [
       "Text(-3.4826686008600825, -0.5344142664790362, '27')"
      ]
     },
     "execution_count": 38,
     "metadata": {},
     "output_type": "execute_result"
    },
    {
     "data": {
      "text/plain": [
       "Text(-2.737347727628486, -1.141967915230819, '28')"
      ]
     },
     "execution_count": 38,
     "metadata": {},
     "output_type": "execute_result"
    },
    {
     "data": {
      "text/plain": [
       "Text(-3.7596258121647748, 4.6175680898594935, '29')"
      ]
     },
     "execution_count": 38,
     "metadata": {},
     "output_type": "execute_result"
    },
    {
     "data": {
      "text/plain": [
       "Text(1.2684684735312628, -1.070891601601815, '30')"
      ]
     },
     "execution_count": 38,
     "metadata": {},
     "output_type": "execute_result"
    },
    {
     "data": {
      "text/plain": [
       "Text(-0.5397705741329467, -0.18909103560436194, '31')"
      ]
     },
     "execution_count": 38,
     "metadata": {},
     "output_type": "execute_result"
    },
    {
     "data": {
      "text/plain": [
       "Text(-3.184519090397893, 3.759489569991761, '32')"
      ]
     },
     "execution_count": 38,
     "metadata": {},
     "output_type": "execute_result"
    },
    {
     "data": {
      "text/plain": [
       "Text(1.9253283081175847, -0.14764264371476604, '33')"
      ]
     },
     "execution_count": 38,
     "metadata": {},
     "output_type": "execute_result"
    },
    {
     "data": {
      "text/plain": [
       "Text(0.25767255116202786, 3.439511315939179, '34')"
      ]
     },
     "execution_count": 38,
     "metadata": {},
     "output_type": "execute_result"
    },
    {
     "data": {
      "text/plain": [
       "Text(-2.9466438997110598, -0.3678437283407912, '35')"
      ]
     },
     "execution_count": 38,
     "metadata": {},
     "output_type": "execute_result"
    },
    {
     "data": {
      "text/plain": [
       "Text(-2.1785306526779173, -2.2295062810802073, '36')"
      ]
     },
     "execution_count": 38,
     "metadata": {},
     "output_type": "execute_result"
    },
    {
     "data": {
      "text/plain": [
       "Text(-1.8965698856735016, -0.4025546471197396, '37')"
      ]
     },
     "execution_count": 38,
     "metadata": {},
     "output_type": "execute_result"
    },
    {
     "data": {
      "text/plain": [
       "Text(2.2152127019815095, 0.24423951202063635, '38')"
      ]
     },
     "execution_count": 38,
     "metadata": {},
     "output_type": "execute_result"
    },
    {
     "data": {
      "text/plain": [
       "Text(-2.556497427223169, -0.8989392306339005, '39')"
      ]
     },
     "execution_count": 38,
     "metadata": {},
     "output_type": "execute_result"
    },
    {
     "data": {
      "text/plain": [
       "Text(-2.4570006419099406, -0.46524823362863216, '40')"
      ]
     },
     "execution_count": 38,
     "metadata": {},
     "output_type": "execute_result"
    },
    {
     "data": {
      "text/plain": [
       "Text(3.243889209783916, 1.7548259359056666, '41')"
      ]
     },
     "execution_count": 38,
     "metadata": {},
     "output_type": "execute_result"
    },
    {
     "data": {
      "text/plain": [
       "Text(-3.4585587844591594, 3.658507859975295, '42')"
      ]
     },
     "execution_count": 38,
     "metadata": {},
     "output_type": "execute_result"
    },
    {
     "data": {
      "text/plain": [
       "Text(-2.5425394245209416, 2.00149921786823, '43')"
      ]
     },
     "execution_count": 38,
     "metadata": {},
     "output_type": "execute_result"
    },
    {
     "data": {
      "text/plain": [
       "Text(4.402578954298988, 0.924186153321529, '44')"
      ]
     },
     "execution_count": 38,
     "metadata": {},
     "output_type": "execute_result"
    },
    {
     "data": {
      "text/plain": [
       "Text(-1.404124058472583, -2.768875303934943, '45')"
      ]
     },
     "execution_count": 38,
     "metadata": {},
     "output_type": "execute_result"
    },
    {
     "data": {
      "image/png": "[encoded data removed]",
      "text/plain": [
       "<Figure size 640x480 with 1 Axes>"
      ]
     },
     "metadata": {},
     "output_type": "display_data"
    }
   ],
   "source": [
    "plt.plot(data_pca[0],data_pca[1], 'ro', alpha = 0.5)\n",
    "for i in range(len(data_pca)):\n",
    "    plt.text(data_pca.loc[i][0], data_pca.loc[i][1], str(i))\n",
    "plt.show()"
   ]
  },
  {
   "cell_type": "markdown",
   "id": "dc76a8b3-8e67-43d8-a98c-f87fff7a026e",
   "metadata": {},
   "source": [
    "d)ID of the college in the southwest corner of the graph is 21 and the college name is Georgia State University\n",
    "e)Texas A&M is close to University of Texas at Austin\n",
    "f)Cornell is far away from the other Ivy League's. Georgia Institue of technology is closer to Syracuse"
   ]
  },
  {
   "cell_type": "markdown",
   "id": "1a6edf72-d42a-419b-a430-a92340c6c1b3",
   "metadata": {},
   "source": [
    "Question 2"
   ]
  },
  {
   "cell_type": "code",
   "execution_count": 63,
   "id": "2e66627a-4979-47a2-9f73-6b52f7ced97b",
   "metadata": {},
   "outputs": [
    {
     "data": {
      "text/html": [
       "<div>\n",
       "<style scoped>\n",
       "    .dataframe tbody tr th:only-of-type {\n",
       "        vertical-align: middle;\n",
       "    }\n",
       "\n",
       "    .dataframe tbody tr th {\n",
       "        vertical-align: top;\n",
       "    }\n",
       "\n",
       "    .dataframe thead th {\n",
       "        text-align: right;\n",
       "    }\n",
       "</style>\n",
       "<table border=\"1\" class=\"dataframe\">\n",
       "  <thead>\n",
       "    <tr style=\"text-align: right;\">\n",
       "      <th></th>\n",
       "      <th>id</th>\n",
       "      <th>College</th>\n",
       "      <th>Private</th>\n",
       "      <th>Apps</th>\n",
       "      <th>Accept</th>\n",
       "      <th>Enroll</th>\n",
       "      <th>Top10perc</th>\n",
       "      <th>Top25perc</th>\n",
       "      <th>F.Undergrad</th>\n",
       "      <th>P.Undergrad</th>\n",
       "      <th>Outstate</th>\n",
       "      <th>Room.Board</th>\n",
       "      <th>Books</th>\n",
       "      <th>Personal</th>\n",
       "      <th>PhD</th>\n",
       "      <th>Terminal</th>\n",
       "      <th>S.F.Ratio</th>\n",
       "      <th>perc.alumni</th>\n",
       "      <th>Expend</th>\n",
       "      <th>Grad.Rate</th>\n",
       "    </tr>\n",
       "  </thead>\n",
       "  <tbody>\n",
       "    <tr>\n",
       "      <th>0</th>\n",
       "      <td>0</td>\n",
       "      <td>Massachusetts Institute of Technology</td>\n",
       "      <td>Yes</td>\n",
       "      <td>6411</td>\n",
       "      <td>2140</td>\n",
       "      <td>1078</td>\n",
       "      <td>96</td>\n",
       "      <td>99</td>\n",
       "      <td>4481</td>\n",
       "      <td>28</td>\n",
       "      <td>20100</td>\n",
       "      <td>5975</td>\n",
       "      <td>725</td>\n",
       "      <td>1600</td>\n",
       "      <td>99</td>\n",
       "      <td>99</td>\n",
       "      <td>10.10</td>\n",
       "      <td>35</td>\n",
       "      <td>33541</td>\n",
       "      <td>94</td>\n",
       "    </tr>\n",
       "  </tbody>\n",
       "</table>\n",
       "</div>"
      ],
      "text/plain": [
       "   id                                College Private  Apps  Accept  Enroll  \\\n",
       "0   0  Massachusetts Institute of Technology     Yes  6411    2140    1078   \n",
       "\n",
       "   Top10perc  Top25perc  F.Undergrad  P.Undergrad  Outstate  Room.Board  \\\n",
       "0         96         99         4481           28     20100        5975   \n",
       "\n",
       "   Books  Personal  PhD  Terminal  S.F.Ratio  perc.alumni  Expend  Grad.Rate  \n",
       "0    725      1600   99        99      10.10           35   33541         94  "
      ]
     },
     "execution_count": 63,
     "metadata": {},
     "output_type": "execute_result"
    }
   ],
   "source": [
    "MIT_data = pd.read_csv('MIT_from_islr.csv')\n",
    "MIT_data.head()"
   ]
  },
  {
   "cell_type": "code",
   "execution_count": 64,
   "id": "de323ff9-8d4c-49e8-aa21-3b507e3685cb",
   "metadata": {},
   "outputs": [
    {
     "data": {
      "text/plain": [
       "(1, 17)"
      ]
     },
     "execution_count": 64,
     "metadata": {},
     "output_type": "execute_result"
    }
   ],
   "source": [
    "MIT_data = MIT_data.drop(columns = ['id','College','Private'])\n",
    "MIT_data.shape"
   ]
  },
  {
   "cell_type": "code",
   "execution_count": 65,
   "id": "960f9d42-74dc-451d-8448-1df562304332",
   "metadata": {},
   "outputs": [
    {
     "data": {
      "text/html": [
       "<div>\n",
       "<style scoped>\n",
       "    .dataframe tbody tr th:only-of-type {\n",
       "        vertical-align: middle;\n",
       "    }\n",
       "\n",
       "    .dataframe tbody tr th {\n",
       "        vertical-align: top;\n",
       "    }\n",
       "\n",
       "    .dataframe thead th {\n",
       "        text-align: right;\n",
       "    }\n",
       "</style>\n",
       "<table border=\"1\" class=\"dataframe\">\n",
       "  <thead>\n",
       "    <tr style=\"text-align: right;\">\n",
       "      <th></th>\n",
       "      <th>Apps</th>\n",
       "      <th>Accept</th>\n",
       "      <th>Enroll</th>\n",
       "      <th>Top10perc</th>\n",
       "      <th>Top25perc</th>\n",
       "      <th>F.Undergrad</th>\n",
       "      <th>P.Undergrad</th>\n",
       "      <th>Outstate</th>\n",
       "      <th>Room.Board</th>\n",
       "      <th>Books</th>\n",
       "      <th>Personal</th>\n",
       "      <th>PhD</th>\n",
       "      <th>Terminal</th>\n",
       "      <th>S.F.Ratio</th>\n",
       "      <th>perc.alumni</th>\n",
       "      <th>Expend</th>\n",
       "      <th>Grad.Rate</th>\n",
       "    </tr>\n",
       "  </thead>\n",
       "  <tbody>\n",
       "    <tr>\n",
       "      <th>count</th>\n",
       "      <td>1.00</td>\n",
       "      <td>1.00</td>\n",
       "      <td>1.00</td>\n",
       "      <td>1.00</td>\n",
       "      <td>1.00</td>\n",
       "      <td>1.00</td>\n",
       "      <td>1.00</td>\n",
       "      <td>1.00</td>\n",
       "      <td>1.00</td>\n",
       "      <td>1.00</td>\n",
       "      <td>1.00</td>\n",
       "      <td>1.00</td>\n",
       "      <td>1.00</td>\n",
       "      <td>1.00</td>\n",
       "      <td>1.00</td>\n",
       "      <td>1.00</td>\n",
       "      <td>1.00</td>\n",
       "    </tr>\n",
       "    <tr>\n",
       "      <th>mean</th>\n",
       "      <td>6,411.00</td>\n",
       "      <td>2,140.00</td>\n",
       "      <td>1,078.00</td>\n",
       "      <td>96.00</td>\n",
       "      <td>99.00</td>\n",
       "      <td>4,481.00</td>\n",
       "      <td>28.00</td>\n",
       "      <td>20,100.00</td>\n",
       "      <td>5,975.00</td>\n",
       "      <td>725.00</td>\n",
       "      <td>1,600.00</td>\n",
       "      <td>99.00</td>\n",
       "      <td>99.00</td>\n",
       "      <td>10.10</td>\n",
       "      <td>35.00</td>\n",
       "      <td>33,541.00</td>\n",
       "      <td>94.00</td>\n",
       "    </tr>\n",
       "    <tr>\n",
       "      <th>std</th>\n",
       "      <td>NaN</td>\n",
       "      <td>NaN</td>\n",
       "      <td>NaN</td>\n",
       "      <td>NaN</td>\n",
       "      <td>NaN</td>\n",
       "      <td>NaN</td>\n",
       "      <td>NaN</td>\n",
       "      <td>NaN</td>\n",
       "      <td>NaN</td>\n",
       "      <td>NaN</td>\n",
       "      <td>NaN</td>\n",
       "      <td>NaN</td>\n",
       "      <td>NaN</td>\n",
       "      <td>NaN</td>\n",
       "      <td>NaN</td>\n",
       "      <td>NaN</td>\n",
       "      <td>NaN</td>\n",
       "    </tr>\n",
       "    <tr>\n",
       "      <th>min</th>\n",
       "      <td>6,411.00</td>\n",
       "      <td>2,140.00</td>\n",
       "      <td>1,078.00</td>\n",
       "      <td>96.00</td>\n",
       "      <td>99.00</td>\n",
       "      <td>4,481.00</td>\n",
       "      <td>28.00</td>\n",
       "      <td>20,100.00</td>\n",
       "      <td>5,975.00</td>\n",
       "      <td>725.00</td>\n",
       "      <td>1,600.00</td>\n",
       "      <td>99.00</td>\n",
       "      <td>99.00</td>\n",
       "      <td>10.10</td>\n",
       "      <td>35.00</td>\n",
       "      <td>33,541.00</td>\n",
       "      <td>94.00</td>\n",
       "    </tr>\n",
       "    <tr>\n",
       "      <th>25%</th>\n",
       "      <td>6,411.00</td>\n",
       "      <td>2,140.00</td>\n",
       "      <td>1,078.00</td>\n",
       "      <td>96.00</td>\n",
       "      <td>99.00</td>\n",
       "      <td>4,481.00</td>\n",
       "      <td>28.00</td>\n",
       "      <td>20,100.00</td>\n",
       "      <td>5,975.00</td>\n",
       "      <td>725.00</td>\n",
       "      <td>1,600.00</td>\n",
       "      <td>99.00</td>\n",
       "      <td>99.00</td>\n",
       "      <td>10.10</td>\n",
       "      <td>35.00</td>\n",
       "      <td>33,541.00</td>\n",
       "      <td>94.00</td>\n",
       "    </tr>\n",
       "    <tr>\n",
       "      <th>50%</th>\n",
       "      <td>6,411.00</td>\n",
       "      <td>2,140.00</td>\n",
       "      <td>1,078.00</td>\n",
       "      <td>96.00</td>\n",
       "      <td>99.00</td>\n",
       "      <td>4,481.00</td>\n",
       "      <td>28.00</td>\n",
       "      <td>20,100.00</td>\n",
       "      <td>5,975.00</td>\n",
       "      <td>725.00</td>\n",
       "      <td>1,600.00</td>\n",
       "      <td>99.00</td>\n",
       "      <td>99.00</td>\n",
       "      <td>10.10</td>\n",
       "      <td>35.00</td>\n",
       "      <td>33,541.00</td>\n",
       "      <td>94.00</td>\n",
       "    </tr>\n",
       "    <tr>\n",
       "      <th>75%</th>\n",
       "      <td>6,411.00</td>\n",
       "      <td>2,140.00</td>\n",
       "      <td>1,078.00</td>\n",
       "      <td>96.00</td>\n",
       "      <td>99.00</td>\n",
       "      <td>4,481.00</td>\n",
       "      <td>28.00</td>\n",
       "      <td>20,100.00</td>\n",
       "      <td>5,975.00</td>\n",
       "      <td>725.00</td>\n",
       "      <td>1,600.00</td>\n",
       "      <td>99.00</td>\n",
       "      <td>99.00</td>\n",
       "      <td>10.10</td>\n",
       "      <td>35.00</td>\n",
       "      <td>33,541.00</td>\n",
       "      <td>94.00</td>\n",
       "    </tr>\n",
       "    <tr>\n",
       "      <th>max</th>\n",
       "      <td>6,411.00</td>\n",
       "      <td>2,140.00</td>\n",
       "      <td>1,078.00</td>\n",
       "      <td>96.00</td>\n",
       "      <td>99.00</td>\n",
       "      <td>4,481.00</td>\n",
       "      <td>28.00</td>\n",
       "      <td>20,100.00</td>\n",
       "      <td>5,975.00</td>\n",
       "      <td>725.00</td>\n",
       "      <td>1,600.00</td>\n",
       "      <td>99.00</td>\n",
       "      <td>99.00</td>\n",
       "      <td>10.10</td>\n",
       "      <td>35.00</td>\n",
       "      <td>33,541.00</td>\n",
       "      <td>94.00</td>\n",
       "    </tr>\n",
       "  </tbody>\n",
       "</table>\n",
       "</div>"
      ],
      "text/plain": [
       "          Apps   Accept   Enroll  Top10perc  Top25perc  F.Undergrad  \\\n",
       "count     1.00     1.00     1.00       1.00       1.00         1.00   \n",
       "mean  6,411.00 2,140.00 1,078.00      96.00      99.00     4,481.00   \n",
       "std        NaN      NaN      NaN        NaN        NaN          NaN   \n",
       "min   6,411.00 2,140.00 1,078.00      96.00      99.00     4,481.00   \n",
       "25%   6,411.00 2,140.00 1,078.00      96.00      99.00     4,481.00   \n",
       "50%   6,411.00 2,140.00 1,078.00      96.00      99.00     4,481.00   \n",
       "75%   6,411.00 2,140.00 1,078.00      96.00      99.00     4,481.00   \n",
       "max   6,411.00 2,140.00 1,078.00      96.00      99.00     4,481.00   \n",
       "\n",
       "       P.Undergrad  Outstate  Room.Board  Books  Personal   PhD  Terminal  \\\n",
       "count         1.00      1.00        1.00   1.00      1.00  1.00      1.00   \n",
       "mean         28.00 20,100.00    5,975.00 725.00  1,600.00 99.00     99.00   \n",
       "std            NaN       NaN         NaN    NaN       NaN   NaN       NaN   \n",
       "min          28.00 20,100.00    5,975.00 725.00  1,600.00 99.00     99.00   \n",
       "25%          28.00 20,100.00    5,975.00 725.00  1,600.00 99.00     99.00   \n",
       "50%          28.00 20,100.00    5,975.00 725.00  1,600.00 99.00     99.00   \n",
       "75%          28.00 20,100.00    5,975.00 725.00  1,600.00 99.00     99.00   \n",
       "max          28.00 20,100.00    5,975.00 725.00  1,600.00 99.00     99.00   \n",
       "\n",
       "       S.F.Ratio  perc.alumni    Expend  Grad.Rate  \n",
       "count       1.00         1.00      1.00       1.00  \n",
       "mean       10.10        35.00 33,541.00      94.00  \n",
       "std          NaN          NaN       NaN        NaN  \n",
       "min        10.10        35.00 33,541.00      94.00  \n",
       "25%        10.10        35.00 33,541.00      94.00  \n",
       "50%        10.10        35.00 33,541.00      94.00  \n",
       "75%        10.10        35.00 33,541.00      94.00  \n",
       "max        10.10        35.00 33,541.00      94.00  "
      ]
     },
     "execution_count": 65,
     "metadata": {},
     "output_type": "execute_result"
    }
   ],
   "source": [
    "MIT_data.describe()"
   ]
  },
  {
   "cell_type": "code",
   "execution_count": 66,
   "id": "90b0c40c-2638-4f50-b53c-04e2a248f826",
   "metadata": {},
   "outputs": [
    {
     "data": {
      "text/plain": [
       "Index(['Apps', 'Accept', 'Enroll', 'Top10perc', 'Top25perc', 'F.Undergrad',\n",
       "       'P.Undergrad', 'Outstate', 'Room.Board', 'Books', 'Personal', 'PhD',\n",
       "       'Terminal', 'S.F.Ratio', 'perc.alumni', 'Expend', 'Grad.Rate'],\n",
       "      dtype='object')"
      ]
     },
     "execution_count": 66,
     "metadata": {},
     "output_type": "execute_result"
    }
   ],
   "source": [
    "MIT_data.columns"
   ]
  },
  {
   "cell_type": "code",
   "execution_count": 67,
   "id": "655ddbe7-4558-44b5-ab26-05d7e82e3865",
   "metadata": {},
   "outputs": [],
   "source": [
    "cols2 = ['Apps', 'Accept', 'Enroll', 'Top10perc', 'Top25perc', 'F.Undergrad',\n",
    "       'P.Undergrad', 'Outstate', 'Room.Board', 'Books', 'Personal', 'PhD',\n",
    "       'Terminal', 'S.F.Ratio', 'perc.alumni', 'Expend', 'Grad.Rate']"
   ]
  },
  {
   "cell_type": "code",
   "execution_count": 68,
   "id": "c0c51139-4732-4cef-9507-1b88384b9663",
   "metadata": {},
   "outputs": [
    {
     "data": {
      "text/html": [
       "<div>\n",
       "<style scoped>\n",
       "    .dataframe tbody tr th:only-of-type {\n",
       "        vertical-align: middle;\n",
       "    }\n",
       "\n",
       "    .dataframe tbody tr th {\n",
       "        vertical-align: top;\n",
       "    }\n",
       "\n",
       "    .dataframe thead th {\n",
       "        text-align: right;\n",
       "    }\n",
       "</style>\n",
       "<table border=\"1\" class=\"dataframe\">\n",
       "  <thead>\n",
       "    <tr style=\"text-align: right;\">\n",
       "      <th></th>\n",
       "      <th>Apps</th>\n",
       "      <th>Accept</th>\n",
       "      <th>Enroll</th>\n",
       "      <th>Top10perc</th>\n",
       "      <th>Top25perc</th>\n",
       "      <th>F.Undergrad</th>\n",
       "      <th>P.Undergrad</th>\n",
       "      <th>Outstate</th>\n",
       "      <th>Room.Board</th>\n",
       "      <th>Books</th>\n",
       "      <th>Personal</th>\n",
       "      <th>PhD</th>\n",
       "      <th>Terminal</th>\n",
       "      <th>S.F.Ratio</th>\n",
       "      <th>perc.alumni</th>\n",
       "      <th>Expend</th>\n",
       "      <th>Grad.Rate</th>\n",
       "    </tr>\n",
       "  </thead>\n",
       "  <tbody>\n",
       "    <tr>\n",
       "      <th>0</th>\n",
       "      <td>0.00</td>\n",
       "      <td>0.00</td>\n",
       "      <td>0.00</td>\n",
       "      <td>0.00</td>\n",
       "      <td>0.00</td>\n",
       "      <td>0.00</td>\n",
       "      <td>0.00</td>\n",
       "      <td>0.00</td>\n",
       "      <td>0.00</td>\n",
       "      <td>0.00</td>\n",
       "      <td>0.00</td>\n",
       "      <td>0.00</td>\n",
       "      <td>0.00</td>\n",
       "      <td>0.00</td>\n",
       "      <td>0.00</td>\n",
       "      <td>0.00</td>\n",
       "      <td>0.00</td>\n",
       "    </tr>\n",
       "  </tbody>\n",
       "</table>\n",
       "</div>"
      ],
      "text/plain": [
       "   Apps  Accept  Enroll  Top10perc  Top25perc  F.Undergrad  P.Undergrad  \\\n",
       "0  0.00    0.00    0.00       0.00       0.00         0.00         0.00   \n",
       "\n",
       "   Outstate  Room.Board  Books  Personal  PhD  Terminal  S.F.Ratio  \\\n",
       "0      0.00        0.00   0.00      0.00 0.00      0.00       0.00   \n",
       "\n",
       "   perc.alumni  Expend  Grad.Rate  \n",
       "0         0.00    0.00       0.00  "
      ]
     },
     "execution_count": 68,
     "metadata": {},
     "output_type": "execute_result"
    }
   ],
   "source": [
    "test_data = pd.DataFrame(sc.transform(MIT_data[cols]), columns = MIT_data[cols].columns, index = MIT_data.index)\n",
    "test_data.head()"
   ]
  },
  {
   "cell_type": "code",
   "execution_count": 69,
   "id": "4436ec33-6a9f-410b-9baa-086f0adfe34a",
   "metadata": {},
   "outputs": [
    {
     "data": {
      "text/html": [
       "<div>\n",
       "<style scoped>\n",
       "    .dataframe tbody tr th:only-of-type {\n",
       "        vertical-align: middle;\n",
       "    }\n",
       "\n",
       "    .dataframe tbody tr th {\n",
       "        vertical-align: top;\n",
       "    }\n",
       "\n",
       "    .dataframe thead th {\n",
       "        text-align: right;\n",
       "    }\n",
       "</style>\n",
       "<table border=\"1\" class=\"dataframe\">\n",
       "  <thead>\n",
       "    <tr style=\"text-align: right;\">\n",
       "      <th></th>\n",
       "      <th>Apps</th>\n",
       "      <th>Accept</th>\n",
       "      <th>Enroll</th>\n",
       "      <th>Top10perc</th>\n",
       "      <th>Top25perc</th>\n",
       "      <th>F.Undergrad</th>\n",
       "      <th>P.Undergrad</th>\n",
       "      <th>Outstate</th>\n",
       "      <th>Room.Board</th>\n",
       "      <th>Books</th>\n",
       "      <th>Personal</th>\n",
       "      <th>PhD</th>\n",
       "      <th>Terminal</th>\n",
       "      <th>S.F.Ratio</th>\n",
       "      <th>perc.alumni</th>\n",
       "      <th>Expend</th>\n",
       "      <th>Grad.Rate</th>\n",
       "    </tr>\n",
       "  </thead>\n",
       "  <tbody>\n",
       "    <tr>\n",
       "      <th>0</th>\n",
       "      <td>0.00</td>\n",
       "      <td>0.00</td>\n",
       "      <td>0.00</td>\n",
       "      <td>0.00</td>\n",
       "      <td>0.00</td>\n",
       "      <td>0.00</td>\n",
       "      <td>0.00</td>\n",
       "      <td>0.00</td>\n",
       "      <td>0.00</td>\n",
       "      <td>0.00</td>\n",
       "      <td>0.00</td>\n",
       "      <td>0.00</td>\n",
       "      <td>0.00</td>\n",
       "      <td>0.00</td>\n",
       "      <td>0.00</td>\n",
       "      <td>0.00</td>\n",
       "      <td>0.00</td>\n",
       "    </tr>\n",
       "  </tbody>\n",
       "</table>\n",
       "</div>"
      ],
      "text/plain": [
       "   Apps  Accept  Enroll  Top10perc  Top25perc  F.Undergrad  P.Undergrad  \\\n",
       "0  0.00    0.00    0.00       0.00       0.00         0.00         0.00   \n",
       "\n",
       "   Outstate  Room.Board  Books  Personal  PhD  Terminal  S.F.Ratio  \\\n",
       "0      0.00        0.00   0.00      0.00 0.00      0.00       0.00   \n",
       "\n",
       "   perc.alumni  Expend  Grad.Rate  \n",
       "0         0.00    0.00       0.00  "
      ]
     },
     "execution_count": 69,
     "metadata": {},
     "output_type": "execute_result"
    }
   ],
   "source": [
    "test_data"
   ]
  },
  {
   "cell_type": "code",
   "execution_count": 70,
   "id": "0236840c-3c11-4f2a-badd-34981369f70f",
   "metadata": {},
   "outputs": [
    {
     "data": {
      "text/html": [
       "<div>\n",
       "<style scoped>\n",
       "    .dataframe tbody tr th:only-of-type {\n",
       "        vertical-align: middle;\n",
       "    }\n",
       "\n",
       "    .dataframe tbody tr th {\n",
       "        vertical-align: top;\n",
       "    }\n",
       "\n",
       "    .dataframe thead th {\n",
       "        text-align: right;\n",
       "    }\n",
       "</style>\n",
       "<table border=\"1\" class=\"dataframe\">\n",
       "  <thead>\n",
       "    <tr style=\"text-align: right;\">\n",
       "      <th></th>\n",
       "      <th>0</th>\n",
       "      <th>1</th>\n",
       "    </tr>\n",
       "  </thead>\n",
       "  <tbody>\n",
       "    <tr>\n",
       "      <th>0</th>\n",
       "      <td>0.00</td>\n",
       "      <td>0.00</td>\n",
       "    </tr>\n",
       "  </tbody>\n",
       "</table>\n",
       "</div>"
      ],
      "text/plain": [
       "     0    1\n",
       "0 0.00 0.00"
      ]
     },
     "execution_count": 70,
     "metadata": {},
     "output_type": "execute_result"
    }
   ],
   "source": [
    "our_pca = pd.DataFrame(pca.transform(test_data), index = test_data.index)\n",
    "our_pca.head()"
   ]
  },
  {
   "cell_type": "markdown",
   "id": "ddc6a439-1320-435f-a63a-0c2f34cec0a4",
   "metadata": {},
   "source": [
    "Transformed values for MIT in two components are 0, 0"
   ]
  },
  {
   "cell_type": "code",
   "execution_count": 72,
   "id": "fc84ab40-6c12-43b7-b9b6-28a6929c57eb",
   "metadata": {},
   "outputs": [
    {
     "data": {
      "text/html": [
       "<div>\n",
       "<style scoped>\n",
       "    .dataframe tbody tr th:only-of-type {\n",
       "        vertical-align: middle;\n",
       "    }\n",
       "\n",
       "    .dataframe tbody tr th {\n",
       "        vertical-align: top;\n",
       "    }\n",
       "\n",
       "    .dataframe thead th {\n",
       "        text-align: right;\n",
       "    }\n",
       "</style>\n",
       "<table border=\"1\" class=\"dataframe\">\n",
       "  <thead>\n",
       "    <tr style=\"text-align: right;\">\n",
       "      <th></th>\n",
       "      <th>0</th>\n",
       "      <th>1</th>\n",
       "      <th>dist</th>\n",
       "    </tr>\n",
       "  </thead>\n",
       "  <tbody>\n",
       "    <tr>\n",
       "      <th>0</th>\n",
       "      <td>-2.31</td>\n",
       "      <td>0.13</td>\n",
       "      <td>2.32</td>\n",
       "    </tr>\n",
       "    <tr>\n",
       "      <th>1</th>\n",
       "      <td>-1.94</td>\n",
       "      <td>-1.32</td>\n",
       "      <td>2.35</td>\n",
       "    </tr>\n",
       "    <tr>\n",
       "      <th>2</th>\n",
       "      <td>-0.72</td>\n",
       "      <td>2.95</td>\n",
       "      <td>3.04</td>\n",
       "    </tr>\n",
       "    <tr>\n",
       "      <th>3</th>\n",
       "      <td>-3.01</td>\n",
       "      <td>-0.17</td>\n",
       "      <td>3.02</td>\n",
       "    </tr>\n",
       "    <tr>\n",
       "      <th>4</th>\n",
       "      <td>-3.43</td>\n",
       "      <td>0.33</td>\n",
       "      <td>3.45</td>\n",
       "    </tr>\n",
       "    <tr>\n",
       "      <th>5</th>\n",
       "      <td>3.55</td>\n",
       "      <td>0.92</td>\n",
       "      <td>3.67</td>\n",
       "    </tr>\n",
       "    <tr>\n",
       "      <th>6</th>\n",
       "      <td>-2.16</td>\n",
       "      <td>-1.01</td>\n",
       "      <td>2.39</td>\n",
       "    </tr>\n",
       "    <tr>\n",
       "      <th>7</th>\n",
       "      <td>2.05</td>\n",
       "      <td>-0.13</td>\n",
       "      <td>2.05</td>\n",
       "    </tr>\n",
       "    <tr>\n",
       "      <th>8</th>\n",
       "      <td>2.41</td>\n",
       "      <td>-0.99</td>\n",
       "      <td>2.60</td>\n",
       "    </tr>\n",
       "    <tr>\n",
       "      <th>9</th>\n",
       "      <td>-1.78</td>\n",
       "      <td>-0.60</td>\n",
       "      <td>1.88</td>\n",
       "    </tr>\n",
       "    <tr>\n",
       "      <th>10</th>\n",
       "      <td>4.08</td>\n",
       "      <td>-0.26</td>\n",
       "      <td>4.08</td>\n",
       "    </tr>\n",
       "    <tr>\n",
       "      <th>11</th>\n",
       "      <td>-0.15</td>\n",
       "      <td>-3.40</td>\n",
       "      <td>3.41</td>\n",
       "    </tr>\n",
       "    <tr>\n",
       "      <th>12</th>\n",
       "      <td>4.40</td>\n",
       "      <td>0.27</td>\n",
       "      <td>4.41</td>\n",
       "    </tr>\n",
       "    <tr>\n",
       "      <th>13</th>\n",
       "      <td>3.27</td>\n",
       "      <td>-1.32</td>\n",
       "      <td>3.52</td>\n",
       "    </tr>\n",
       "    <tr>\n",
       "      <th>14</th>\n",
       "      <td>3.75</td>\n",
       "      <td>1.17</td>\n",
       "      <td>3.93</td>\n",
       "    </tr>\n",
       "    <tr>\n",
       "      <th>15</th>\n",
       "      <td>3.51</td>\n",
       "      <td>0.41</td>\n",
       "      <td>3.54</td>\n",
       "    </tr>\n",
       "    <tr>\n",
       "      <th>16</th>\n",
       "      <td>0.04</td>\n",
       "      <td>-2.55</td>\n",
       "      <td>2.55</td>\n",
       "    </tr>\n",
       "    <tr>\n",
       "      <th>17</th>\n",
       "      <td>-2.13</td>\n",
       "      <td>-1.21</td>\n",
       "      <td>2.45</td>\n",
       "    </tr>\n",
       "    <tr>\n",
       "      <th>18</th>\n",
       "      <td>1.03</td>\n",
       "      <td>-0.48</td>\n",
       "      <td>1.13</td>\n",
       "    </tr>\n",
       "    <tr>\n",
       "      <th>19</th>\n",
       "      <td>2.67</td>\n",
       "      <td>0.34</td>\n",
       "      <td>2.69</td>\n",
       "    </tr>\n",
       "    <tr>\n",
       "      <th>20</th>\n",
       "      <td>0.38</td>\n",
       "      <td>0.15</td>\n",
       "      <td>0.41</td>\n",
       "    </tr>\n",
       "    <tr>\n",
       "      <th>21</th>\n",
       "      <td>-4.58</td>\n",
       "      <td>-1.99</td>\n",
       "      <td>4.99</td>\n",
       "    </tr>\n",
       "    <tr>\n",
       "      <th>22</th>\n",
       "      <td>4.08</td>\n",
       "      <td>1.45</td>\n",
       "      <td>4.33</td>\n",
       "    </tr>\n",
       "    <tr>\n",
       "      <th>23</th>\n",
       "      <td>4.58</td>\n",
       "      <td>-1.12</td>\n",
       "      <td>4.72</td>\n",
       "    </tr>\n",
       "    <tr>\n",
       "      <th>24</th>\n",
       "      <td>0.54</td>\n",
       "      <td>-2.65</td>\n",
       "      <td>2.71</td>\n",
       "    </tr>\n",
       "    <tr>\n",
       "      <th>25</th>\n",
       "      <td>-2.86</td>\n",
       "      <td>0.36</td>\n",
       "      <td>2.88</td>\n",
       "    </tr>\n",
       "    <tr>\n",
       "      <th>26</th>\n",
       "      <td>4.56</td>\n",
       "      <td>0.54</td>\n",
       "      <td>4.59</td>\n",
       "    </tr>\n",
       "    <tr>\n",
       "      <th>27</th>\n",
       "      <td>-3.48</td>\n",
       "      <td>-0.53</td>\n",
       "      <td>3.52</td>\n",
       "    </tr>\n",
       "    <tr>\n",
       "      <th>28</th>\n",
       "      <td>-2.74</td>\n",
       "      <td>-1.14</td>\n",
       "      <td>2.97</td>\n",
       "    </tr>\n",
       "    <tr>\n",
       "      <th>29</th>\n",
       "      <td>-3.76</td>\n",
       "      <td>4.62</td>\n",
       "      <td>5.95</td>\n",
       "    </tr>\n",
       "    <tr>\n",
       "      <th>30</th>\n",
       "      <td>1.27</td>\n",
       "      <td>-1.07</td>\n",
       "      <td>1.66</td>\n",
       "    </tr>\n",
       "    <tr>\n",
       "      <th>31</th>\n",
       "      <td>-0.54</td>\n",
       "      <td>-0.19</td>\n",
       "      <td>0.57</td>\n",
       "    </tr>\n",
       "    <tr>\n",
       "      <th>32</th>\n",
       "      <td>-3.18</td>\n",
       "      <td>3.76</td>\n",
       "      <td>4.93</td>\n",
       "    </tr>\n",
       "    <tr>\n",
       "      <th>33</th>\n",
       "      <td>1.93</td>\n",
       "      <td>-0.15</td>\n",
       "      <td>1.93</td>\n",
       "    </tr>\n",
       "    <tr>\n",
       "      <th>34</th>\n",
       "      <td>0.26</td>\n",
       "      <td>3.44</td>\n",
       "      <td>3.45</td>\n",
       "    </tr>\n",
       "    <tr>\n",
       "      <th>35</th>\n",
       "      <td>-2.95</td>\n",
       "      <td>-0.37</td>\n",
       "      <td>2.97</td>\n",
       "    </tr>\n",
       "    <tr>\n",
       "      <th>36</th>\n",
       "      <td>-2.18</td>\n",
       "      <td>-2.23</td>\n",
       "      <td>3.12</td>\n",
       "    </tr>\n",
       "    <tr>\n",
       "      <th>37</th>\n",
       "      <td>-1.90</td>\n",
       "      <td>-0.40</td>\n",
       "      <td>1.94</td>\n",
       "    </tr>\n",
       "    <tr>\n",
       "      <th>38</th>\n",
       "      <td>2.22</td>\n",
       "      <td>0.24</td>\n",
       "      <td>2.23</td>\n",
       "    </tr>\n",
       "    <tr>\n",
       "      <th>39</th>\n",
       "      <td>-2.56</td>\n",
       "      <td>-0.90</td>\n",
       "      <td>2.71</td>\n",
       "    </tr>\n",
       "    <tr>\n",
       "      <th>40</th>\n",
       "      <td>-2.46</td>\n",
       "      <td>-0.47</td>\n",
       "      <td>2.50</td>\n",
       "    </tr>\n",
       "    <tr>\n",
       "      <th>41</th>\n",
       "      <td>3.24</td>\n",
       "      <td>1.75</td>\n",
       "      <td>3.69</td>\n",
       "    </tr>\n",
       "    <tr>\n",
       "      <th>42</th>\n",
       "      <td>-3.46</td>\n",
       "      <td>3.66</td>\n",
       "      <td>5.03</td>\n",
       "    </tr>\n",
       "    <tr>\n",
       "      <th>43</th>\n",
       "      <td>-2.54</td>\n",
       "      <td>2.00</td>\n",
       "      <td>3.24</td>\n",
       "    </tr>\n",
       "    <tr>\n",
       "      <th>44</th>\n",
       "      <td>4.40</td>\n",
       "      <td>0.92</td>\n",
       "      <td>4.50</td>\n",
       "    </tr>\n",
       "    <tr>\n",
       "      <th>45</th>\n",
       "      <td>-1.40</td>\n",
       "      <td>-2.77</td>\n",
       "      <td>3.10</td>\n",
       "    </tr>\n",
       "  </tbody>\n",
       "</table>\n",
       "</div>"
      ],
      "text/plain": [
       "       0     1  dist\n",
       "0  -2.31  0.13  2.32\n",
       "1  -1.94 -1.32  2.35\n",
       "2  -0.72  2.95  3.04\n",
       "3  -3.01 -0.17  3.02\n",
       "4  -3.43  0.33  3.45\n",
       "5   3.55  0.92  3.67\n",
       "6  -2.16 -1.01  2.39\n",
       "7   2.05 -0.13  2.05\n",
       "8   2.41 -0.99  2.60\n",
       "9  -1.78 -0.60  1.88\n",
       "10  4.08 -0.26  4.08\n",
       "11 -0.15 -3.40  3.41\n",
       "12  4.40  0.27  4.41\n",
       "13  3.27 -1.32  3.52\n",
       "14  3.75  1.17  3.93\n",
       "15  3.51  0.41  3.54\n",
       "16  0.04 -2.55  2.55\n",
       "17 -2.13 -1.21  2.45\n",
       "18  1.03 -0.48  1.13\n",
       "19  2.67  0.34  2.69\n",
       "20  0.38  0.15  0.41\n",
       "21 -4.58 -1.99  4.99\n",
       "22  4.08  1.45  4.33\n",
       "23  4.58 -1.12  4.72\n",
       "24  0.54 -2.65  2.71\n",
       "25 -2.86  0.36  2.88\n",
       "26  4.56  0.54  4.59\n",
       "27 -3.48 -0.53  3.52\n",
       "28 -2.74 -1.14  2.97\n",
       "29 -3.76  4.62  5.95\n",
       "30  1.27 -1.07  1.66\n",
       "31 -0.54 -0.19  0.57\n",
       "32 -3.18  3.76  4.93\n",
       "33  1.93 -0.15  1.93\n",
       "34  0.26  3.44  3.45\n",
       "35 -2.95 -0.37  2.97\n",
       "36 -2.18 -2.23  3.12\n",
       "37 -1.90 -0.40  1.94\n",
       "38  2.22  0.24  2.23\n",
       "39 -2.56 -0.90  2.71\n",
       "40 -2.46 -0.47  2.50\n",
       "41  3.24  1.75  3.69\n",
       "42 -3.46  3.66  5.03\n",
       "43 -2.54  2.00  3.24\n",
       "44  4.40  0.92  4.50\n",
       "45 -1.40 -2.77  3.10"
      ]
     },
     "execution_count": 72,
     "metadata": {},
     "output_type": "execute_result"
    }
   ],
   "source": [
    "data_pca['dist'] = ((data_pca[0]-our_pca[0].values)**2+(data_pca[1]-our_pca[1].values)**2)**0.5\n",
    "data_pca"
   ]
  },
  {
   "cell_type": "code",
   "execution_count": 73,
   "id": "bc2a77d4-70de-49da-a70c-5e96d1731b84",
   "metadata": {},
   "outputs": [
    {
     "data": {
      "text/plain": [
       "0.41103312561464644"
      ]
     },
     "execution_count": 73,
     "metadata": {},
     "output_type": "execute_result"
    },
    {
     "data": {
      "text/plain": [
       "20"
      ]
     },
     "execution_count": 73,
     "metadata": {},
     "output_type": "execute_result"
    }
   ],
   "source": [
    "data_pca['dist'].min()\n",
    "np.argmin(data_pca['dist'])"
   ]
  },
  {
   "cell_type": "markdown",
   "id": "c141c417-2a3e-4e5d-98e1-0564cfa26334",
   "metadata": {},
   "source": [
    "Georgia Institute of technology is closest to MIT with a distance of 0.411"
   ]
  },
  {
   "cell_type": "markdown",
   "id": "f707bf21-fe41-4eee-8e59-5a2f946d3dcf",
   "metadata": {},
   "source": [
    "Question 3"
   ]
  },
  {
   "cell_type": "code",
   "execution_count": 74,
   "id": "7c31763d-12cc-424e-9e31-dfedd92b2dfd",
   "metadata": {},
   "outputs": [
    {
     "data": {
      "text/html": [
       "<div>\n",
       "<style scoped>\n",
       "    .dataframe tbody tr th:only-of-type {\n",
       "        vertical-align: middle;\n",
       "    }\n",
       "\n",
       "    .dataframe tbody tr th {\n",
       "        vertical-align: top;\n",
       "    }\n",
       "\n",
       "    .dataframe thead th {\n",
       "        text-align: right;\n",
       "    }\n",
       "</style>\n",
       "<table border=\"1\" class=\"dataframe\">\n",
       "  <thead>\n",
       "    <tr style=\"text-align: right;\">\n",
       "      <th></th>\n",
       "      <th>0</th>\n",
       "      <th>1</th>\n",
       "      <th>2</th>\n",
       "    </tr>\n",
       "  </thead>\n",
       "  <tbody>\n",
       "    <tr>\n",
       "      <th>0</th>\n",
       "      <td>-2.31</td>\n",
       "      <td>0.13</td>\n",
       "      <td>0.08</td>\n",
       "    </tr>\n",
       "    <tr>\n",
       "      <th>1</th>\n",
       "      <td>-1.94</td>\n",
       "      <td>-1.32</td>\n",
       "      <td>-2.51</td>\n",
       "    </tr>\n",
       "    <tr>\n",
       "      <th>2</th>\n",
       "      <td>-0.72</td>\n",
       "      <td>2.95</td>\n",
       "      <td>-2.36</td>\n",
       "    </tr>\n",
       "    <tr>\n",
       "      <th>3</th>\n",
       "      <td>-3.01</td>\n",
       "      <td>-0.17</td>\n",
       "      <td>-0.54</td>\n",
       "    </tr>\n",
       "    <tr>\n",
       "      <th>4</th>\n",
       "      <td>-3.43</td>\n",
       "      <td>0.33</td>\n",
       "      <td>-1.42</td>\n",
       "    </tr>\n",
       "  </tbody>\n",
       "</table>\n",
       "</div>"
      ],
      "text/plain": [
       "      0     1     2\n",
       "0 -2.31  0.13  0.08\n",
       "1 -1.94 -1.32 -2.51\n",
       "2 -0.72  2.95 -2.36\n",
       "3 -3.01 -0.17 -0.54\n",
       "4 -3.43  0.33 -1.42"
      ]
     },
     "execution_count": 74,
     "metadata": {},
     "output_type": "execute_result"
    }
   ],
   "source": [
    "# Check if PCA using SVD gives same results\n",
    "from sklearn.decomposition import PCA\n",
    "# initializing the PCA transformer\n",
    "pca3 = PCA(n_components = 3)\n",
    "# dimensionality reduction:\n",
    "data_pca3 = pd.DataFrame(pca3.fit_transform(subset_data), index = subset_data.index)\n",
    "data_pca3.head()"
   ]
  },
  {
   "cell_type": "markdown",
   "id": "9e54871e-86df-4518-807b-4935e44f1fec",
   "metadata": {},
   "source": [
    "The first two component values did not change when went from K=2 to K=3"
   ]
  },
  {
   "cell_type": "code",
   "execution_count": 75,
   "id": "91ad567d-f35a-456e-bca2-887047b62db9",
   "metadata": {},
   "outputs": [
    {
     "data": {
      "text/html": [
       "<div>\n",
       "<style scoped>\n",
       "    .dataframe tbody tr th:only-of-type {\n",
       "        vertical-align: middle;\n",
       "    }\n",
       "\n",
       "    .dataframe tbody tr th {\n",
       "        vertical-align: top;\n",
       "    }\n",
       "\n",
       "    .dataframe thead th {\n",
       "        text-align: right;\n",
       "    }\n",
       "</style>\n",
       "<table border=\"1\" class=\"dataframe\">\n",
       "  <thead>\n",
       "    <tr style=\"text-align: right;\">\n",
       "      <th></th>\n",
       "      <th>0</th>\n",
       "      <th>1</th>\n",
       "      <th>2</th>\n",
       "    </tr>\n",
       "  </thead>\n",
       "  <tbody>\n",
       "    <tr>\n",
       "      <th>0</th>\n",
       "      <td>0.00</td>\n",
       "      <td>0.00</td>\n",
       "      <td>0.00</td>\n",
       "    </tr>\n",
       "  </tbody>\n",
       "</table>\n",
       "</div>"
      ],
      "text/plain": [
       "     0    1    2\n",
       "0 0.00 0.00 0.00"
      ]
     },
     "execution_count": 75,
     "metadata": {},
     "output_type": "execute_result"
    }
   ],
   "source": [
    "our_pca3 = pd.DataFrame(pca3.transform(test_data), index = test_data.index)\n",
    "our_pca3.head()"
   ]
  },
  {
   "cell_type": "code",
   "execution_count": 78,
   "id": "e31cf133-83c2-4376-91e0-34e0a21ff932",
   "metadata": {},
   "outputs": [
    {
     "data": {
      "text/html": [
       "<div>\n",
       "<style scoped>\n",
       "    .dataframe tbody tr th:only-of-type {\n",
       "        vertical-align: middle;\n",
       "    }\n",
       "\n",
       "    .dataframe tbody tr th {\n",
       "        vertical-align: top;\n",
       "    }\n",
       "\n",
       "    .dataframe thead th {\n",
       "        text-align: right;\n",
       "    }\n",
       "</style>\n",
       "<table border=\"1\" class=\"dataframe\">\n",
       "  <thead>\n",
       "    <tr style=\"text-align: right;\">\n",
       "      <th></th>\n",
       "      <th>0</th>\n",
       "      <th>1</th>\n",
       "      <th>2</th>\n",
       "      <th>dist</th>\n",
       "    </tr>\n",
       "  </thead>\n",
       "  <tbody>\n",
       "    <tr>\n",
       "      <th>0</th>\n",
       "      <td>-2.31</td>\n",
       "      <td>0.13</td>\n",
       "      <td>0.08</td>\n",
       "      <td>2.32</td>\n",
       "    </tr>\n",
       "    <tr>\n",
       "      <th>1</th>\n",
       "      <td>-1.94</td>\n",
       "      <td>-1.32</td>\n",
       "      <td>-2.51</td>\n",
       "      <td>3.43</td>\n",
       "    </tr>\n",
       "    <tr>\n",
       "      <th>2</th>\n",
       "      <td>-0.72</td>\n",
       "      <td>2.95</td>\n",
       "      <td>-2.36</td>\n",
       "      <td>3.85</td>\n",
       "    </tr>\n",
       "    <tr>\n",
       "      <th>3</th>\n",
       "      <td>-3.01</td>\n",
       "      <td>-0.17</td>\n",
       "      <td>-0.54</td>\n",
       "      <td>3.07</td>\n",
       "    </tr>\n",
       "    <tr>\n",
       "      <th>4</th>\n",
       "      <td>-3.43</td>\n",
       "      <td>0.33</td>\n",
       "      <td>-1.42</td>\n",
       "      <td>3.73</td>\n",
       "    </tr>\n",
       "    <tr>\n",
       "      <th>5</th>\n",
       "      <td>3.55</td>\n",
       "      <td>0.92</td>\n",
       "      <td>0.67</td>\n",
       "      <td>3.73</td>\n",
       "    </tr>\n",
       "    <tr>\n",
       "      <th>6</th>\n",
       "      <td>-2.16</td>\n",
       "      <td>-1.01</td>\n",
       "      <td>-1.00</td>\n",
       "      <td>2.59</td>\n",
       "    </tr>\n",
       "    <tr>\n",
       "      <th>7</th>\n",
       "      <td>2.05</td>\n",
       "      <td>-0.13</td>\n",
       "      <td>-0.84</td>\n",
       "      <td>2.22</td>\n",
       "    </tr>\n",
       "    <tr>\n",
       "      <th>8</th>\n",
       "      <td>2.41</td>\n",
       "      <td>-0.99</td>\n",
       "      <td>0.64</td>\n",
       "      <td>2.68</td>\n",
       "    </tr>\n",
       "    <tr>\n",
       "      <th>9</th>\n",
       "      <td>-1.78</td>\n",
       "      <td>-0.60</td>\n",
       "      <td>-0.10</td>\n",
       "      <td>1.88</td>\n",
       "    </tr>\n",
       "    <tr>\n",
       "      <th>10</th>\n",
       "      <td>4.08</td>\n",
       "      <td>-0.26</td>\n",
       "      <td>-0.06</td>\n",
       "      <td>4.09</td>\n",
       "    </tr>\n",
       "    <tr>\n",
       "      <th>11</th>\n",
       "      <td>-0.15</td>\n",
       "      <td>-3.40</td>\n",
       "      <td>-2.45</td>\n",
       "      <td>4.20</td>\n",
       "    </tr>\n",
       "    <tr>\n",
       "      <th>12</th>\n",
       "      <td>4.40</td>\n",
       "      <td>0.27</td>\n",
       "      <td>0.01</td>\n",
       "      <td>4.41</td>\n",
       "    </tr>\n",
       "    <tr>\n",
       "      <th>13</th>\n",
       "      <td>3.27</td>\n",
       "      <td>-1.32</td>\n",
       "      <td>0.17</td>\n",
       "      <td>3.53</td>\n",
       "    </tr>\n",
       "    <tr>\n",
       "      <th>14</th>\n",
       "      <td>3.75</td>\n",
       "      <td>1.17</td>\n",
       "      <td>-0.15</td>\n",
       "      <td>3.93</td>\n",
       "    </tr>\n",
       "    <tr>\n",
       "      <th>15</th>\n",
       "      <td>3.51</td>\n",
       "      <td>0.41</td>\n",
       "      <td>0.22</td>\n",
       "      <td>3.55</td>\n",
       "    </tr>\n",
       "    <tr>\n",
       "      <th>16</th>\n",
       "      <td>0.04</td>\n",
       "      <td>-2.55</td>\n",
       "      <td>0.90</td>\n",
       "      <td>2.70</td>\n",
       "    </tr>\n",
       "    <tr>\n",
       "      <th>17</th>\n",
       "      <td>-2.13</td>\n",
       "      <td>-1.21</td>\n",
       "      <td>1.24</td>\n",
       "      <td>2.75</td>\n",
       "    </tr>\n",
       "    <tr>\n",
       "      <th>18</th>\n",
       "      <td>1.03</td>\n",
       "      <td>-0.48</td>\n",
       "      <td>0.32</td>\n",
       "      <td>1.18</td>\n",
       "    </tr>\n",
       "    <tr>\n",
       "      <th>19</th>\n",
       "      <td>2.67</td>\n",
       "      <td>0.34</td>\n",
       "      <td>0.06</td>\n",
       "      <td>2.69</td>\n",
       "    </tr>\n",
       "    <tr>\n",
       "      <th>20</th>\n",
       "      <td>0.38</td>\n",
       "      <td>0.15</td>\n",
       "      <td>0.25</td>\n",
       "      <td>0.48</td>\n",
       "    </tr>\n",
       "    <tr>\n",
       "      <th>21</th>\n",
       "      <td>-4.58</td>\n",
       "      <td>-1.99</td>\n",
       "      <td>3.70</td>\n",
       "      <td>6.21</td>\n",
       "    </tr>\n",
       "    <tr>\n",
       "      <th>22</th>\n",
       "      <td>4.08</td>\n",
       "      <td>1.45</td>\n",
       "      <td>0.17</td>\n",
       "      <td>4.34</td>\n",
       "    </tr>\n",
       "    <tr>\n",
       "      <th>23</th>\n",
       "      <td>4.58</td>\n",
       "      <td>-1.12</td>\n",
       "      <td>0.85</td>\n",
       "      <td>4.79</td>\n",
       "    </tr>\n",
       "    <tr>\n",
       "      <th>24</th>\n",
       "      <td>0.54</td>\n",
       "      <td>-2.65</td>\n",
       "      <td>-1.06</td>\n",
       "      <td>2.91</td>\n",
       "    </tr>\n",
       "    <tr>\n",
       "      <th>25</th>\n",
       "      <td>-2.86</td>\n",
       "      <td>0.36</td>\n",
       "      <td>-0.26</td>\n",
       "      <td>2.89</td>\n",
       "    </tr>\n",
       "    <tr>\n",
       "      <th>26</th>\n",
       "      <td>4.56</td>\n",
       "      <td>0.54</td>\n",
       "      <td>0.34</td>\n",
       "      <td>4.60</td>\n",
       "    </tr>\n",
       "    <tr>\n",
       "      <th>27</th>\n",
       "      <td>-3.48</td>\n",
       "      <td>-0.53</td>\n",
       "      <td>0.85</td>\n",
       "      <td>3.62</td>\n",
       "    </tr>\n",
       "    <tr>\n",
       "      <th>28</th>\n",
       "      <td>-2.74</td>\n",
       "      <td>-1.14</td>\n",
       "      <td>1.87</td>\n",
       "      <td>3.51</td>\n",
       "    </tr>\n",
       "    <tr>\n",
       "      <th>29</th>\n",
       "      <td>-3.76</td>\n",
       "      <td>4.62</td>\n",
       "      <td>-1.52</td>\n",
       "      <td>6.15</td>\n",
       "    </tr>\n",
       "    <tr>\n",
       "      <th>30</th>\n",
       "      <td>1.27</td>\n",
       "      <td>-1.07</td>\n",
       "      <td>1.88</td>\n",
       "      <td>2.51</td>\n",
       "    </tr>\n",
       "    <tr>\n",
       "      <th>31</th>\n",
       "      <td>-0.54</td>\n",
       "      <td>-0.19</td>\n",
       "      <td>-2.04</td>\n",
       "      <td>2.12</td>\n",
       "    </tr>\n",
       "    <tr>\n",
       "      <th>32</th>\n",
       "      <td>-3.18</td>\n",
       "      <td>3.76</td>\n",
       "      <td>-0.14</td>\n",
       "      <td>4.93</td>\n",
       "    </tr>\n",
       "    <tr>\n",
       "      <th>33</th>\n",
       "      <td>1.93</td>\n",
       "      <td>-0.15</td>\n",
       "      <td>0.03</td>\n",
       "      <td>1.93</td>\n",
       "    </tr>\n",
       "    <tr>\n",
       "      <th>34</th>\n",
       "      <td>0.26</td>\n",
       "      <td>3.44</td>\n",
       "      <td>0.62</td>\n",
       "      <td>3.50</td>\n",
       "    </tr>\n",
       "    <tr>\n",
       "      <th>35</th>\n",
       "      <td>-2.95</td>\n",
       "      <td>-0.37</td>\n",
       "      <td>1.09</td>\n",
       "      <td>3.16</td>\n",
       "    </tr>\n",
       "    <tr>\n",
       "      <th>36</th>\n",
       "      <td>-2.18</td>\n",
       "      <td>-2.23</td>\n",
       "      <td>-0.98</td>\n",
       "      <td>3.27</td>\n",
       "    </tr>\n",
       "    <tr>\n",
       "      <th>37</th>\n",
       "      <td>-1.90</td>\n",
       "      <td>-0.40</td>\n",
       "      <td>0.27</td>\n",
       "      <td>1.96</td>\n",
       "    </tr>\n",
       "    <tr>\n",
       "      <th>38</th>\n",
       "      <td>2.22</td>\n",
       "      <td>0.24</td>\n",
       "      <td>-0.30</td>\n",
       "      <td>2.25</td>\n",
       "    </tr>\n",
       "    <tr>\n",
       "      <th>39</th>\n",
       "      <td>-2.56</td>\n",
       "      <td>-0.90</td>\n",
       "      <td>2.09</td>\n",
       "      <td>3.42</td>\n",
       "    </tr>\n",
       "    <tr>\n",
       "      <th>40</th>\n",
       "      <td>-2.46</td>\n",
       "      <td>-0.47</td>\n",
       "      <td>-0.74</td>\n",
       "      <td>2.61</td>\n",
       "    </tr>\n",
       "    <tr>\n",
       "      <th>41</th>\n",
       "      <td>3.24</td>\n",
       "      <td>1.75</td>\n",
       "      <td>-0.21</td>\n",
       "      <td>3.69</td>\n",
       "    </tr>\n",
       "    <tr>\n",
       "      <th>42</th>\n",
       "      <td>-3.46</td>\n",
       "      <td>3.66</td>\n",
       "      <td>2.17</td>\n",
       "      <td>5.48</td>\n",
       "    </tr>\n",
       "    <tr>\n",
       "      <th>43</th>\n",
       "      <td>-2.54</td>\n",
       "      <td>2.00</td>\n",
       "      <td>-0.29</td>\n",
       "      <td>3.25</td>\n",
       "    </tr>\n",
       "    <tr>\n",
       "      <th>44</th>\n",
       "      <td>4.40</td>\n",
       "      <td>0.92</td>\n",
       "      <td>0.63</td>\n",
       "      <td>4.54</td>\n",
       "    </tr>\n",
       "    <tr>\n",
       "      <th>45</th>\n",
       "      <td>-1.40</td>\n",
       "      <td>-2.77</td>\n",
       "      <td>-2.11</td>\n",
       "      <td>3.75</td>\n",
       "    </tr>\n",
       "  </tbody>\n",
       "</table>\n",
       "</div>"
      ],
      "text/plain": [
       "       0     1     2  dist\n",
       "0  -2.31  0.13  0.08  2.32\n",
       "1  -1.94 -1.32 -2.51  3.43\n",
       "2  -0.72  2.95 -2.36  3.85\n",
       "3  -3.01 -0.17 -0.54  3.07\n",
       "4  -3.43  0.33 -1.42  3.73\n",
       "5   3.55  0.92  0.67  3.73\n",
       "6  -2.16 -1.01 -1.00  2.59\n",
       "7   2.05 -0.13 -0.84  2.22\n",
       "8   2.41 -0.99  0.64  2.68\n",
       "9  -1.78 -0.60 -0.10  1.88\n",
       "10  4.08 -0.26 -0.06  4.09\n",
       "11 -0.15 -3.40 -2.45  4.20\n",
       "12  4.40  0.27  0.01  4.41\n",
       "13  3.27 -1.32  0.17  3.53\n",
       "14  3.75  1.17 -0.15  3.93\n",
       "15  3.51  0.41  0.22  3.55\n",
       "16  0.04 -2.55  0.90  2.70\n",
       "17 -2.13 -1.21  1.24  2.75\n",
       "18  1.03 -0.48  0.32  1.18\n",
       "19  2.67  0.34  0.06  2.69\n",
       "20  0.38  0.15  0.25  0.48\n",
       "21 -4.58 -1.99  3.70  6.21\n",
       "22  4.08  1.45  0.17  4.34\n",
       "23  4.58 -1.12  0.85  4.79\n",
       "24  0.54 -2.65 -1.06  2.91\n",
       "25 -2.86  0.36 -0.26  2.89\n",
       "26  4.56  0.54  0.34  4.60\n",
       "27 -3.48 -0.53  0.85  3.62\n",
       "28 -2.74 -1.14  1.87  3.51\n",
       "29 -3.76  4.62 -1.52  6.15\n",
       "30  1.27 -1.07  1.88  2.51\n",
       "31 -0.54 -0.19 -2.04  2.12\n",
       "32 -3.18  3.76 -0.14  4.93\n",
       "33  1.93 -0.15  0.03  1.93\n",
       "34  0.26  3.44  0.62  3.50\n",
       "35 -2.95 -0.37  1.09  3.16\n",
       "36 -2.18 -2.23 -0.98  3.27\n",
       "37 -1.90 -0.40  0.27  1.96\n",
       "38  2.22  0.24 -0.30  2.25\n",
       "39 -2.56 -0.90  2.09  3.42\n",
       "40 -2.46 -0.47 -0.74  2.61\n",
       "41  3.24  1.75 -0.21  3.69\n",
       "42 -3.46  3.66  2.17  5.48\n",
       "43 -2.54  2.00 -0.29  3.25\n",
       "44  4.40  0.92  0.63  4.54\n",
       "45 -1.40 -2.77 -2.11  3.75"
      ]
     },
     "execution_count": 78,
     "metadata": {},
     "output_type": "execute_result"
    }
   ],
   "source": [
    "data_pca3['dist'] = ((data_pca3[0]-our_pca3[0].values)**2+(data_pca3[1]-our_pca3[1].values)**2+(data_pca3[2]-our_pca3[2].values)**2)**0.5\n",
    "data_pca3"
   ]
  },
  {
   "cell_type": "code",
   "execution_count": 79,
   "id": "7a3294c7-6569-4b9c-8023-e730908eeb76",
   "metadata": {},
   "outputs": [
    {
     "data": {
      "text/plain": [
       "0.4792464633839225"
      ]
     },
     "execution_count": 79,
     "metadata": {},
     "output_type": "execute_result"
    },
    {
     "data": {
      "text/plain": [
       "20"
      ]
     },
     "execution_count": 79,
     "metadata": {},
     "output_type": "execute_result"
    }
   ],
   "source": [
    "data_pca3['dist'].min()\n",
    "np.argmin(data_pca3['dist'])"
   ]
  },
  {
   "cell_type": "markdown",
   "id": "3f2e5266-9ed8-46f0-be9a-9e2e321d5f9e",
   "metadata": {},
   "source": [
    "b)Georgia Institute of Technology is closed to MIT\n",
    "c)Closest school is 0.479 far from MIT\n",
    "d) PCA is an unsupersvised technoque like knn but PCA also be used for visualising and feature transformation. It transforms high dimensional data to low dimensional data and helps user understand better with the help of visualising"
   ]
  },
  {
   "cell_type": "code",
   "execution_count": null,
   "id": "04bc3948-b402-4474-8a52-b4c0b35d7d32",
   "metadata": {},
   "outputs": [],
   "source": []
  }
 ],
 "metadata": {
  "kernelspec": {
   "display_name": "Python 3 (ipykernel)",
   "language": "python",
   "name": "python3"
  },
  "language_info": {
   "codemirror_mode": {
    "name": "ipython",
    "version": 3
   },
   "file_extension": ".py",
   "mimetype": "text/x-python",
   "name": "python",
   "nbconvert_exporter": "python",
   "pygments_lexer": "ipython3",
   "version": "3.11.8"
  }
 },
 "nbformat": 4,
 "nbformat_minor": 5
}
