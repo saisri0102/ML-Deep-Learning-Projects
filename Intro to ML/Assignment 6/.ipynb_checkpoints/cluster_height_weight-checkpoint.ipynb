{
 "cells": [
  {
   "cell_type": "code",
   "execution_count": null,
   "metadata": {
    "code_folding": [
     0
    ]
   },
   "outputs": [],
   "source": [
    "# Generic inputs for most ML tasks\n",
    "import pandas as pd\n",
    "import numpy as np\n",
    "import matplotlib.pyplot as plt\n",
    "from sklearn.model_selection import train_test_split\n",
    "from sklearn.linear_model import LinearRegression\n",
    "from sklearn.linear_model import Ridge\n",
    "from sklearn.linear_model import Lasso\n",
    "from sklearn.ensemble import RandomForestRegressor\n",
    "\n",
    "pd.options.display.float_format = '{:,.2f}'.format\n",
    "\n",
    "# setup interactive notebook mode\n",
    "from IPython.core.interactiveshell import InteractiveShell\n",
    "InteractiveShell.ast_node_interactivity = \"all\"\n",
    "\n",
    "from IPython.display import display, HTML"
   ]
  },
  {
   "cell_type": "markdown",
   "metadata": {},
   "source": [
    "#### Read and pre-process data"
   ]
  },
  {
   "cell_type": "code",
   "execution_count": null,
   "metadata": {
    "code_folding": [
     0
    ]
   },
   "outputs": [],
   "source": [
    "# fetch data \n",
    "\n",
    "ht_wt = pd.read_csv('Kaggle_Data/weight-height.csv')\n",
    "\n",
    "ht_wt.head()"
   ]
  },
  {
   "cell_type": "code",
   "execution_count": null,
   "metadata": {},
   "outputs": [],
   "source": [
    "Kval = 5 # Number of clusters\n",
    "\n",
    "ht_wt.isna().sum()\n"
   ]
  },
  {
   "cell_type": "code",
   "execution_count": null,
   "metadata": {},
   "outputs": [],
   "source": [
    "# define function to import viz libraries\n",
    "import plotly\n",
    "plotly.offline.init_notebook_mode(connected=True)\n",
    "from plotly.graph_objs import *\n",
    "from plotly import tools\n",
    "import plotly.graph_objects as go\n",
    "import seaborn as sns"
   ]
  },
  {
   "cell_type": "code",
   "execution_count": null,
   "metadata": {},
   "outputs": [],
   "source": [
    "# correl = subset_data.corr()\n",
    "correl = ht_wt.corr()\n",
    "\n",
    "trace = go.Heatmap(z=correl.values,\n",
    "                  x=correl.index.values,\n",
    "                  y=correl.columns.values)\n",
    "data=[trace]\n",
    "plotly.offline.iplot(data, filename='basic-heatmap')"
   ]
  },
  {
   "cell_type": "code",
   "execution_count": null,
   "metadata": {},
   "outputs": [],
   "source": [
    "ht_wt.columns"
   ]
  },
  {
   "cell_type": "code",
   "execution_count": null,
   "metadata": {},
   "outputs": [],
   "source": [
    "female_data = ht_wt[ht_wt['Gender'] == 'Female']\n",
    "male_data = ht_wt[ht_wt['Gender'] == 'Male']"
   ]
  },
  {
   "cell_type": "code",
   "execution_count": null,
   "metadata": {},
   "outputs": [],
   "source": [
    "cols = ['Height', 'Weight']\n",
    "from sklearn.preprocessing import StandardScaler\n",
    "sc = StandardScaler()\n",
    "subset_f_data = pd.DataFrame(sc.fit_transform(female_data[cols]), columns = female_data[cols].columns, index = female_data.index)\n",
    "subset_m_data = pd.DataFrame(sc.fit_transform(male_data[cols]), columns = male_data[cols].columns, index = male_data.index)"
   ]
  },
  {
   "cell_type": "code",
   "execution_count": null,
   "metadata": {},
   "outputs": [],
   "source": [
    "subset_f_data.head()\n",
    "subset_m_data.head()"
   ]
  },
  {
   "cell_type": "code",
   "execution_count": null,
   "metadata": {},
   "outputs": [],
   "source": [
    "from sklearn.cluster import KMeans\n",
    "\n",
    "km_f = KMeans(n_clusters = Kval, \n",
    "           init = 'random', \n",
    "           n_init = 10, \n",
    "           max_iter = 500, \n",
    "           tol = 1e-04, \n",
    "           random_state = 50)\n",
    "data_km_f = pd.DataFrame(km_f.fit_predict(subset_f_data), index = subset_f_data.index)\n",
    "\n",
    "km_m = KMeans(n_clusters = Kval, \n",
    "           init = 'random', \n",
    "           n_init = 10, \n",
    "           max_iter = 500, \n",
    "           tol = 1e-04, \n",
    "           random_state = 50)\n",
    "data_km_m = pd.DataFrame(km_m.fit_predict(subset_m_data), index = subset_m_data.index)"
   ]
  },
  {
   "cell_type": "code",
   "execution_count": null,
   "metadata": {},
   "outputs": [],
   "source": [
    "data_km_f.head()\n",
    "data_km_m.head()"
   ]
  },
  {
   "cell_type": "code",
   "execution_count": null,
   "metadata": {},
   "outputs": [],
   "source": [
    "data_km_f.rename(columns = {0:'cluster'}, inplace = True)\n",
    "data_km_m.rename(columns = {0:'cluster'}, inplace = True)\n",
    "\n",
    "data_km_f = data_km_f.merge(female_data[cols], left_index = True, right_index = True)\n",
    "data_km_m = data_km_m.merge(male_data[cols], left_index = True, right_index = True)\n",
    "data_km_f.head()\n",
    "data_km_m.head()"
   ]
  },
  {
   "cell_type": "code",
   "execution_count": null,
   "metadata": {},
   "outputs": [],
   "source": [
    "for gen in ['f', 'm']:\n",
    "    data_km = []\n",
    "    plot_data = []\n",
    "    if gen == 'f':\n",
    "        data_km = data_km_f.copy()\n",
    "    else:\n",
    "        data_km = data_km_m.copy()\n",
    "    for clus in set(data_km['cluster']):\n",
    "        df = data_km[data_km['cluster'] == clus]\n",
    "        plot_data.append(go.Scatter(x= df['Height'], y= df['Weight'], name = 'cluster ' + str(clus), mode = 'markers'))\n",
    "\n",
    "    if gen == 'f':\n",
    "        layout = go.Layout(xaxis = dict(title='Height'), yaxis = dict(title= 'Weight'), \n",
    "                   title = 'Clustering: Female')\n",
    "    else:\n",
    "        layout = go.Layout(xaxis = dict(title='Height'), yaxis = dict(title= 'Weight'), \n",
    "                   title = 'Clustering: Male')\n",
    "    \n",
    "    fig = go.Figure(data= plot_data, layout=layout)\n",
    "    plotly.offline.iplot(fig)\n",
    "    \n",
    "    \n",
    "\n",
    "# plt.plot(data_km['cluster'],data_km['rating'], 'ro', alpha = 0.5)\n",
    "# for i in range(len(data_km)):\n",
    "#     plt.text(data_km.loc[i]['cluster'], data_km.loc[i]['rating'], str(i)) # cereal_data['name']) # \n",
    "\n",
    "# plt.show()"
   ]
  },
  {
   "cell_type": "code",
   "execution_count": null,
   "metadata": {},
   "outputs": [],
   "source": [
    "distortions = []\n",
    "for i in range(2, 11): \n",
    "    km = KMeans(n_clusters = i, \n",
    "           init = 'k-means++', # this initializes by placing the initial ones randomly and uniformly in grid\n",
    "           n_init = 10, \n",
    "           max_iter = 500, \n",
    "           # tol = 1e-04, \n",
    "           random_state = 50)\n",
    "    km.fit(subset_f_data)\n",
    "    distortions.append(km.inertia_)\n",
    "plt.plot(range(2,11), distortions, marker = 'o')\n",
    "plt.xlabel('Number of Female Clusters')\n",
    "plt.ylabel('Distortion')\n",
    "plt.tight_layout()\n",
    "plt.show()"
   ]
  },
  {
   "cell_type": "code",
   "execution_count": null,
   "metadata": {},
   "outputs": [],
   "source": [
    "distortions = []\n",
    "for i in range(2, 11): \n",
    "    km = KMeans(n_clusters = i, \n",
    "           init = 'k-means++', # this initializes by placing the initial ones randomly and uniformly in grid\n",
    "           n_init = 10, \n",
    "           max_iter = 500, \n",
    "           # tol = 1e-04, \n",
    "           random_state = 50)\n",
    "    km.fit(subset_m_data)\n",
    "    distortions.append(km.inertia_)\n",
    "plt.plot(range(2,11), distortions, marker = 'o')\n",
    "plt.xlabel('Number of Male Clusters')\n",
    "plt.ylabel('Distortion')\n",
    "plt.tight_layout()\n",
    "plt.show()"
   ]
  },
  {
   "cell_type": "code",
   "execution_count": null,
   "metadata": {},
   "outputs": [],
   "source": []
  }
 ],
 "metadata": {
  "kernelspec": {
   "display_name": "Python 3 (ipykernel)",
   "language": "python",
   "name": "python3"
  },
  "language_info": {
   "codemirror_mode": {
    "name": "ipython",
    "version": 3
   },
   "file_extension": ".py",
   "mimetype": "text/x-python",
   "name": "python",
   "nbconvert_exporter": "python",
   "pygments_lexer": "ipython3",
   "version": "3.9.7"
  }
 },
 "nbformat": 4,
 "nbformat_minor": 2
}
