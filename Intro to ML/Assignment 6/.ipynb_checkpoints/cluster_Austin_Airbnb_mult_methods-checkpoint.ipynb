{
 "cells": [
  {
   "cell_type": "code",
   "execution_count": null,
   "metadata": {
    "code_folding": [
     0
    ]
   },
   "outputs": [],
   "source": [
    "# Generic inputs for most ML tasks\n",
    "import pandas as pd\n",
    "import numpy as np\n",
    "import matplotlib.pyplot as plt\n",
    "from sklearn.model_selection import train_test_split\n",
    "from sklearn.linear_model import LinearRegression\n",
    "from sklearn.linear_model import Ridge\n",
    "from sklearn.linear_model import Lasso\n",
    "from sklearn.ensemble import RandomForestRegressor\n",
    "\n",
    "pd.options.display.float_format = '{:,.2f}'.format\n",
    "\n",
    "# setup interactive notebook mode\n",
    "from IPython.core.interactiveshell import InteractiveShell\n",
    "InteractiveShell.ast_node_interactivity = \"all\"\n",
    "\n",
    "from IPython.display import display, HTML"
   ]
  },
  {
   "cell_type": "markdown",
   "metadata": {},
   "source": [
    "#### Read and pre-process data"
   ]
  },
  {
   "cell_type": "code",
   "execution_count": null,
   "metadata": {
    "code_folding": [
     0
    ]
   },
   "outputs": [],
   "source": [
    "# fetch data \n",
    "\n",
    "airbnb_data = pd.read_csv('Kaggle_Data/Airbnb_listings_Austin.csv')\n",
    "\n",
    "airbnb_data.head()"
   ]
  },
  {
   "cell_type": "code",
   "execution_count": null,
   "metadata": {},
   "outputs": [],
   "source": [
    "Kval = 6 # Number of clusters\n",
    "\n",
    "airbnb_data.isna().sum()\n"
   ]
  },
  {
   "cell_type": "code",
   "execution_count": null,
   "metadata": {},
   "outputs": [],
   "source": [
    "# define function to import viz libraries\n",
    "import plotly\n",
    "plotly.offline.init_notebook_mode(connected=True)\n",
    "from plotly.graph_objs import *\n",
    "from plotly import tools\n",
    "import plotly.graph_objects as go\n",
    "import seaborn as sns"
   ]
  },
  {
   "cell_type": "code",
   "execution_count": null,
   "metadata": {},
   "outputs": [],
   "source": [
    "# correl = subset_data.corr()\n",
    "correl = airbnb_data.corr()\n",
    "\n",
    "trace = go.Heatmap(z=correl.values,\n",
    "                  x=correl.index.values,\n",
    "                  y=correl.columns.values)\n",
    "data=[trace]\n",
    "plotly.offline.iplot(data, filename='basic-heatmap')"
   ]
  },
  {
   "cell_type": "code",
   "execution_count": null,
   "metadata": {},
   "outputs": [],
   "source": [
    "airbnb_data.columns"
   ]
  },
  {
   "cell_type": "code",
   "execution_count": null,
   "metadata": {},
   "outputs": [],
   "source": [
    "cols = ['latitude', 'longitude']\n",
    "from sklearn.preprocessing import StandardScaler\n",
    "sc = StandardScaler()\n",
    "subset_data = pd.DataFrame(sc.fit_transform(airbnb_data[cols]), columns = airbnb_data[cols].columns, index = airbnb_data.index)"
   ]
  },
  {
   "cell_type": "code",
   "execution_count": null,
   "metadata": {},
   "outputs": [],
   "source": [
    "subset_data.head()"
   ]
  },
  {
   "cell_type": "code",
   "execution_count": null,
   "metadata": {},
   "outputs": [],
   "source": [
    "from sklearn.cluster import KMeans\n",
    "\n",
    "km = KMeans(n_clusters = Kval, \n",
    "           init = 'random', \n",
    "           n_init = 10, \n",
    "           max_iter = 500, \n",
    "           tol = 1e-04, \n",
    "           random_state = 50)\n",
    "data_km = pd.DataFrame(km.fit_predict(subset_data), index = subset_data.index)"
   ]
  },
  {
   "cell_type": "code",
   "execution_count": null,
   "metadata": {},
   "outputs": [],
   "source": [
    "data_km.head()"
   ]
  },
  {
   "cell_type": "code",
   "execution_count": null,
   "metadata": {},
   "outputs": [],
   "source": [
    "data_km.rename(columns = {0:'cluster'}, inplace = True)\n",
    "data_km = data_km.merge(airbnb_data[['latitude', 'longitude']], left_index = True, right_index = True)\n",
    "# If we use the above, we would get the actual latitude used in the data as opposed to the scaled one with below\n",
    "# But scaled is what we have for the cetroids, so using it\n",
    "# data_km = data_km.merge(subset_data[['latitude', 'longitude']], left_index = True, right_index = True)\n",
    "data_km.head()"
   ]
  },
  {
   "cell_type": "code",
   "execution_count": null,
   "metadata": {},
   "outputs": [],
   "source": [
    "# pd.set_option('display.max_rows', None)\n",
    "# data_km.sort_values(by = ['cluster'])"
   ]
  },
  {
   "cell_type": "code",
   "execution_count": null,
   "metadata": {},
   "outputs": [],
   "source": [
    "plot_data = []\n",
    "for clus in set(data_km['cluster']):\n",
    "    df = data_km[data_km['cluster'] == clus]\n",
    "    plot_data.append(go.Scatter(x= df['longitude'], y= df['latitude'], \n",
    "                                # text=df[\"name\"], \n",
    "                                name = 'cluster ' + str(clus), mode = 'markers'))\n",
    "\n",
    "# # Added the following for cluster centers\n",
    "# df_cc = pd.DataFrame(km.cluster_centers_)\n",
    "# plot_data.append(go.Scatter(x= df_cc[1], y= df_cc[0], \n",
    "#                             # text=df[\"name\"], \n",
    "#                             name = 'cluster center', mode = 'markers'))\n",
    "\n",
    "layout = go.Layout(xaxis = dict(title='longitude'), yaxis = dict(title= 'latitude'), \n",
    "                   title = 'Clustering')\n",
    "fig = go.Figure(data= plot_data, layout=layout)\n",
    "plotly.offline.iplot(fig)\n",
    "    \n"
   ]
  },
  {
   "cell_type": "code",
   "execution_count": null,
   "metadata": {},
   "outputs": [],
   "source": [
    "distortions = []\n",
    "for i in range(2, 30): \n",
    "    km = KMeans(n_clusters = i, \n",
    "           init = 'k-means++', # this initializes by placing the initial ones randomly and uniformly in grid\n",
    "           n_init = 10, \n",
    "           max_iter = 500, \n",
    "           # tol = 1e-04, \n",
    "           random_state = 50)\n",
    "    km.fit(subset_data)\n",
    "    distortions.append(km.inertia_)\n",
    "plt.plot(range(2,30), distortions, marker = 'o')\n",
    "plt.xlabel('Number of Clusters')\n",
    "plt.ylabel('Distortion')\n",
    "plt.tight_layout()\n",
    "plt.show()"
   ]
  },
  {
   "cell_type": "code",
   "execution_count": null,
   "metadata": {},
   "outputs": [],
   "source": [
    "from sklearn.cluster import AgglomerativeClustering\n",
    "\n",
    "ac = AgglomerativeClustering(n_clusters = Kval,  \n",
    "           affinity = 'euclidean', \n",
    "           linkage = 'complete')\n",
    "data_ac = pd.DataFrame(ac.fit_predict(subset_data), index = subset_data.index)\n",
    "data_ac.head()"
   ]
  },
  {
   "cell_type": "code",
   "execution_count": null,
   "metadata": {},
   "outputs": [],
   "source": [
    "data_ac.rename(columns = {0:'cluster'}, inplace = True)\n",
    "# data_ac = data_ac.merge(airbnb_data[['latitude', 'longitude']], left_index = True, right_index = True)\n",
    "# If we use the above, we would get the actual latitude used in the data as opposed to the scaled one with below\n",
    "# But scaled is what we have for the cetroids, so using it\n",
    "data_ac = data_ac.merge(subset_data[['latitude', 'longitude']], left_index = True, right_index = True)\n",
    "data_ac.head()"
   ]
  },
  {
   "cell_type": "code",
   "execution_count": null,
   "metadata": {},
   "outputs": [],
   "source": [
    "plot_data = []\n",
    "for clus in set(data_ac['cluster']):\n",
    "    df = data_ac[data_ac['cluster'] == clus]\n",
    "    plot_data.append(go.Scatter(x= df['longitude'], y= df['latitude'], \n",
    "                                # text=df[\"name\"], \n",
    "                                name = 'cluster ' + str(clus), mode = 'markers'))\n",
    "\n",
    "layout = go.Layout(xaxis = dict(title='longitude'), yaxis = dict(title= 'latitude'), \n",
    "                   title = 'Clustering')\n",
    "fig = go.Figure(data= plot_data, layout=layout)\n",
    "plotly.offline.iplot(fig)"
   ]
  },
  {
   "cell_type": "code",
   "execution_count": null,
   "metadata": {},
   "outputs": [],
   "source": [
    "# Now let us try by not prescribing number of clusters (the distance hreshold is crucial, selecting 5.0 gives 6 clusters)\n",
    "ac = AgglomerativeClustering(n_clusters = None,  \n",
    "                             distance_threshold = 4.0, \n",
    "           affinity = 'euclidean', \n",
    "           linkage = 'complete')\n",
    "data_ac = pd.DataFrame(ac.fit_predict(subset_data), index = subset_data.index)\n",
    "data_ac.head()\n",
    "data_ac.rename(columns = {0:'cluster'}, inplace = True)\n",
    "# data_ac = data_ac.merge(airbnb_data[['latitude', 'longitude']], left_index = True, right_index = True)\n",
    "# If we use the above, we would get the actual latitude used in the data as opposed to the scaled one with below\n",
    "# But scaled is what we have for the cetroids, so using it\n",
    "data_ac = data_ac.merge(subset_data[['latitude', 'longitude']], left_index = True, right_index = True)\n",
    "data_ac.head()"
   ]
  },
  {
   "cell_type": "code",
   "execution_count": null,
   "metadata": {},
   "outputs": [],
   "source": [
    "plot_data = []\n",
    "for clus in set(data_ac['cluster']):\n",
    "    df = data_ac[data_ac['cluster'] == clus]\n",
    "    plot_data.append(go.Scatter(x= df['longitude'], y= df['latitude'], \n",
    "                                # text=df[\"name\"], \n",
    "                                name = 'cluster ' + str(clus), mode = 'markers'))\n",
    "\n",
    "layout = go.Layout(xaxis = dict(title='longitude'), yaxis = dict(title= 'latitude'), \n",
    "                   title = 'Clustering')\n",
    "fig = go.Figure(data= plot_data, layout=layout)\n",
    "plotly.offline.iplot(fig)"
   ]
  },
  {
   "cell_type": "code",
   "execution_count": null,
   "metadata": {},
   "outputs": [],
   "source": [
    "from sklearn.cluster import DBSCAN\n",
    "\n",
    "db = DBSCAN(eps = 0.3,  \n",
    "           min_samples = 5, \n",
    "           metric = 'euclidean')\n",
    "data_db = pd.DataFrame(db.fit_predict(subset_data), index = subset_data.index)\n",
    "data_db.head()"
   ]
  },
  {
   "cell_type": "code",
   "execution_count": null,
   "metadata": {},
   "outputs": [],
   "source": [
    "data_db.rename(columns = {0:'cluster'}, inplace = True)\n",
    "# data_db = data_db.merge(airbnb_data[['latitude', 'longitude']], left_index = True, right_index = True)\n",
    "# If we use the above, we would get the actual latitude used in the data as opposed to the scaled one with below\n",
    "# But scaled is what we have for the cetroids, so using it\n",
    "data_db = data_db.merge(subset_data[['latitude', 'longitude']], left_index = True, right_index = True)\n",
    "data_db.head()"
   ]
  },
  {
   "cell_type": "code",
   "execution_count": null,
   "metadata": {},
   "outputs": [],
   "source": [
    "plot_data = []\n",
    "for clus in set(data_db['cluster']):\n",
    "    df = data_ac[data_db['cluster'] == clus]\n",
    "    plot_data.append(go.Scatter(x= df['longitude'], y= df['latitude'], \n",
    "                                # text=df[\"name\"], \n",
    "                                name = 'cluster ' + str(clus), mode = 'markers'))\n",
    "\n",
    "layout = go.Layout(xaxis = dict(title='longitude'), yaxis = dict(title= 'latitude'), \n",
    "                   title = 'Clustering')\n",
    "fig = go.Figure(data= plot_data, layout=layout)\n",
    "plotly.offline.iplot(fig)"
   ]
  },
  {
   "cell_type": "code",
   "execution_count": null,
   "metadata": {},
   "outputs": [],
   "source": []
  },
  {
   "cell_type": "code",
   "execution_count": null,
   "metadata": {},
   "outputs": [],
   "source": []
  }
 ],
 "metadata": {
  "kernelspec": {
   "display_name": "Python 3 (ipykernel)",
   "language": "python",
   "name": "python3"
  },
  "language_info": {
   "codemirror_mode": {
    "name": "ipython",
    "version": 3
   },
   "file_extension": ".py",
   "mimetype": "text/x-python",
   "name": "python",
   "nbconvert_exporter": "python",
   "pygments_lexer": "ipython3",
   "version": "3.9.7"
  }
 },
 "nbformat": 4,
 "nbformat_minor": 2
}
