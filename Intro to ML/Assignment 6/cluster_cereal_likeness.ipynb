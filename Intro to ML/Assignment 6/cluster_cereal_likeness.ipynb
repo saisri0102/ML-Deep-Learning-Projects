{
 "cells": [
  {
   "cell_type": "code",
   "execution_count": null,
   "metadata": {
    "code_folding": [
     0
    ]
   },
   "outputs": [],
   "source": [
    "# Generic inputs for most ML tasks\n",
    "import pandas as pd\n",
    "import numpy as np\n",
    "import matplotlib.pyplot as plt\n",
    "from sklearn.model_selection import train_test_split\n",
    "from sklearn.linear_model import LinearRegression\n",
    "from sklearn.linear_model import Ridge\n",
    "from sklearn.linear_model import Lasso\n",
    "from sklearn.ensemble import RandomForestRegressor\n",
    "\n",
    "pd.options.display.float_format = '{:,.2f}'.format\n",
    "\n",
    "# setup interactive notebook mode\n",
    "from IPython.core.interactiveshell import InteractiveShell\n",
    "InteractiveShell.ast_node_interactivity = \"all\"\n",
    "\n",
    "from IPython.display import display, HTML"
   ]
  },
  {
   "cell_type": "markdown",
   "metadata": {},
   "source": [
    "#### Read and pre-process data"
   ]
  },
  {
   "cell_type": "code",
   "execution_count": null,
   "metadata": {
    "code_folding": [
     0
    ]
   },
   "outputs": [],
   "source": [
    "# fetch data \n",
    "\n",
    "cereal_data = pd.read_csv('Kaggle_Data/cereal.csv')\n",
    "\n",
    "cereal_data.head()"
   ]
  },
  {
   "cell_type": "code",
   "execution_count": null,
   "metadata": {},
   "outputs": [],
   "source": [
    "Kval = 8 # Number of clusters\n",
    "\n",
    "cereal_data.isna().sum()\n"
   ]
  },
  {
   "cell_type": "code",
   "execution_count": null,
   "metadata": {},
   "outputs": [],
   "source": [
    "# define function to import viz libraries\n",
    "import plotly\n",
    "plotly.offline.init_notebook_mode(connected=True)\n",
    "from plotly.graph_objs import *\n",
    "from plotly import tools\n",
    "import plotly.graph_objects as go\n",
    "import seaborn as sns"
   ]
  },
  {
   "cell_type": "code",
   "execution_count": null,
   "metadata": {},
   "outputs": [],
   "source": [
    "# correl = subset_data.corr()\n",
    "correl = cereal_data.corr()\n",
    "\n",
    "trace = go.Heatmap(z=correl.values,\n",
    "                  x=correl.index.values,\n",
    "                  y=correl.columns.values)\n",
    "data=[trace]\n",
    "plotly.offline.iplot(data, filename='basic-heatmap')"
   ]
  },
  {
   "cell_type": "code",
   "execution_count": null,
   "metadata": {},
   "outputs": [],
   "source": [
    "cereal_data.columns"
   ]
  },
  {
   "cell_type": "code",
   "execution_count": null,
   "metadata": {},
   "outputs": [],
   "source": [
    "cols = ['calories', 'protein', 'fat', 'sodium', 'fiber',\n",
    "       'carbo', 'sugars', 'potass', 'vitamins', 'shelf', 'weight', 'cups',\n",
    "       'rating']\n",
    "from sklearn.preprocessing import StandardScaler\n",
    "sc = StandardScaler()\n",
    "subset_data = pd.DataFrame(sc.fit_transform(cereal_data[cols]), columns = cereal_data[cols].columns, index = cereal_data.index)"
   ]
  },
  {
   "cell_type": "code",
   "execution_count": null,
   "metadata": {},
   "outputs": [],
   "source": [
    "subset_data.head()"
   ]
  },
  {
   "cell_type": "code",
   "execution_count": null,
   "metadata": {},
   "outputs": [],
   "source": [
    "from sklearn.cluster import KMeans\n",
    "\n",
    "km = KMeans(n_clusters = Kval, \n",
    "           init = 'random', \n",
    "           n_init = 10, \n",
    "           max_iter = 500, \n",
    "           tol = 1e-04, \n",
    "           random_state = 50)\n",
    "data_km = pd.DataFrame(km.fit_predict(subset_data), index = subset_data.index)"
   ]
  },
  {
   "cell_type": "code",
   "execution_count": null,
   "metadata": {},
   "outputs": [],
   "source": [
    "data_km.head()"
   ]
  },
  {
   "cell_type": "code",
   "execution_count": null,
   "metadata": {},
   "outputs": [],
   "source": [
    "data_km.rename(columns = {0:'cluster'}, inplace = True)\n",
    "data_km = data_km.merge(cereal_data[['name', 'mfr', 'rating', 'carbo']], left_index = True, right_index = True)\n",
    "data_km.head()"
   ]
  },
  {
   "cell_type": "code",
   "execution_count": null,
   "metadata": {},
   "outputs": [],
   "source": [
    "pd.set_option('display.max_rows', None)\n",
    "data_km.sort_values(by = ['cluster'])"
   ]
  },
  {
   "cell_type": "code",
   "execution_count": null,
   "metadata": {},
   "outputs": [],
   "source": [
    "plot_data = []\n",
    "for clus in set(data_km['cluster']):\n",
    "    df = data_km[data_km['cluster'] == clus]\n",
    "    plot_data.append(go.Scatter(x= df['rating'], y= df['carbo'], text=df[\"name\"], name = 'cluster ' + str(clus), mode = 'markers'))\n",
    "\n",
    "layout = go.Layout(xaxis = dict(title='rating'), yaxis = dict(title= 'carbo'), \n",
    "                   title = 'Clustering')\n",
    "fig = go.Figure(data= plot_data, layout=layout)\n",
    "plotly.offline.iplot(fig)\n",
    "    \n",
    "    \n",
    "\n",
    "# plt.plot(data_km['cluster'],data_km['rating'], 'ro', alpha = 0.5)\n",
    "# for i in range(len(data_km)):\n",
    "#     plt.text(data_km.loc[i]['cluster'], data_km.loc[i]['rating'], str(i)) # cereal_data['name']) # \n",
    "\n",
    "# plt.show()"
   ]
  },
  {
   "cell_type": "code",
   "execution_count": null,
   "metadata": {},
   "outputs": [],
   "source": [
    "from sklearn.decomposition import PCA\n",
    "pca = PCA(n_components = 2)\n",
    "data_pca = pd.DataFrame(pca.fit_transform(subset_data), index = subset_data.index)"
   ]
  },
  {
   "cell_type": "code",
   "execution_count": null,
   "metadata": {},
   "outputs": [],
   "source": [
    "data_km = data_km.merge(data_pca, left_index = True, right_index = True)\n",
    "data_km.head()"
   ]
  },
  {
   "cell_type": "code",
   "execution_count": null,
   "metadata": {},
   "outputs": [],
   "source": [
    "plot_data = []\n",
    "for clus in set(data_km['cluster']):\n",
    "    df = data_km[data_km['cluster'] == clus]\n",
    "    plot_data.append(go.Scatter(x= df[0], y= df[1], text=df[\"name\"], name = 'cluster ' + str(clus), mode = 'markers'))\n",
    "\n",
    "layout = go.Layout(xaxis = dict(title='PCA First'), yaxis = dict(title= 'PCA Second'), \n",
    "                   title = 'Clustering')\n",
    "fig = go.Figure(data= plot_data, layout=layout)\n",
    "plotly.offline.iplot(fig)"
   ]
  },
  {
   "cell_type": "code",
   "execution_count": null,
   "metadata": {},
   "outputs": [],
   "source": [
    "distortions = []\n",
    "for i in range(2, 30): \n",
    "    km = KMeans(n_clusters = i, \n",
    "           init = 'k-means++', # this initializes by placing the initial ones randomly and uniformly in grid\n",
    "           n_init = 10, \n",
    "           max_iter = 500, \n",
    "           # tol = 1e-04, \n",
    "           random_state = 50)\n",
    "    km.fit(subset_data)\n",
    "    distortions.append(km.inertia_)\n",
    "plt.plot(range(2,30), distortions, marker = 'o')\n",
    "plt.xlabel('Number of Clusters')\n",
    "plt.ylabel('Distortion')\n",
    "plt.tight_layout()\n",
    "plt.show()"
   ]
  },
  {
   "cell_type": "code",
   "execution_count": null,
   "metadata": {},
   "outputs": [],
   "source": []
  }
 ],
 "metadata": {
  "kernelspec": {
   "display_name": "Python 3 (ipykernel)",
   "language": "python",
   "name": "python3"
  },
  "language_info": {
   "codemirror_mode": {
    "name": "ipython",
    "version": 3
   },
   "file_extension": ".py",
   "mimetype": "text/x-python",
   "name": "python",
   "nbconvert_exporter": "python",
   "pygments_lexer": "ipython3",
   "version": "3.11.8"
  }
 },
 "nbformat": 4,
 "nbformat_minor": 4
}
