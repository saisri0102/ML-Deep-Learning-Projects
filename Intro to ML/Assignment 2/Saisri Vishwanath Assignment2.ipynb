{
 "cells": [
  {
   "cell_type": "code",
   "execution_count": 1,
   "id": "ab43da3f",
   "metadata": {},
   "outputs": [],
   "source": [
    "# Generic inputs for most ML tasks\n",
    "import pandas as pd\n",
    "import numpy as np\n",
    "import matplotlib.pyplot as plt\n",
    "from sklearn.model_selection import train_test_split\n",
    "from sklearn.linear_model import LinearRegression\n",
    "from sklearn.linear_model import Ridge\n",
    "from sklearn.linear_model import Lasso\n",
    "from sklearn.ensemble import RandomForestRegressor\n",
    "\n",
    "pd.options.display.float_format = '{:,.2f}'.format\n",
    "\n",
    "# setup interactive notebook mode\n",
    "from IPython.core.interactiveshell import InteractiveShell\n",
    "InteractiveShell.ast_node_interactivity = \"all\"\n",
    "\n",
    "from IPython.display import display, HTML"
   ]
  },
  {
   "cell_type": "markdown",
   "id": "64308683",
   "metadata": {},
   "source": [
    "Read and pre-process data"
   ]
  },
  {
   "cell_type": "code",
   "execution_count": 2,
   "id": "0f0b5e6d",
   "metadata": {},
   "outputs": [
    {
     "data": {
      "text/html": [
       "<div>\n",
       "<style scoped>\n",
       "    .dataframe tbody tr th:only-of-type {\n",
       "        vertical-align: middle;\n",
       "    }\n",
       "\n",
       "    .dataframe tbody tr th {\n",
       "        vertical-align: top;\n",
       "    }\n",
       "\n",
       "    .dataframe thead th {\n",
       "        text-align: right;\n",
       "    }\n",
       "</style>\n",
       "<table border=\"1\" class=\"dataframe\">\n",
       "  <thead>\n",
       "    <tr style=\"text-align: right;\">\n",
       "      <th></th>\n",
       "      <th>rownames</th>\n",
       "      <th>carat</th>\n",
       "      <th>cut</th>\n",
       "      <th>color</th>\n",
       "      <th>clarity</th>\n",
       "      <th>depth</th>\n",
       "      <th>table</th>\n",
       "      <th>price</th>\n",
       "      <th>x</th>\n",
       "      <th>y</th>\n",
       "      <th>z</th>\n",
       "    </tr>\n",
       "  </thead>\n",
       "  <tbody>\n",
       "    <tr>\n",
       "      <th>0</th>\n",
       "      <td>1</td>\n",
       "      <td>0.23</td>\n",
       "      <td>Ideal</td>\n",
       "      <td>E</td>\n",
       "      <td>SI2</td>\n",
       "      <td>61.50</td>\n",
       "      <td>55.00</td>\n",
       "      <td>326</td>\n",
       "      <td>3.95</td>\n",
       "      <td>3.98</td>\n",
       "      <td>2.43</td>\n",
       "    </tr>\n",
       "    <tr>\n",
       "      <th>1</th>\n",
       "      <td>2</td>\n",
       "      <td>0.21</td>\n",
       "      <td>Premium</td>\n",
       "      <td>E</td>\n",
       "      <td>SI1</td>\n",
       "      <td>59.80</td>\n",
       "      <td>61.00</td>\n",
       "      <td>326</td>\n",
       "      <td>3.89</td>\n",
       "      <td>3.84</td>\n",
       "      <td>2.31</td>\n",
       "    </tr>\n",
       "    <tr>\n",
       "      <th>2</th>\n",
       "      <td>3</td>\n",
       "      <td>0.23</td>\n",
       "      <td>Good</td>\n",
       "      <td>E</td>\n",
       "      <td>VS1</td>\n",
       "      <td>56.90</td>\n",
       "      <td>65.00</td>\n",
       "      <td>327</td>\n",
       "      <td>4.05</td>\n",
       "      <td>4.07</td>\n",
       "      <td>2.31</td>\n",
       "    </tr>\n",
       "    <tr>\n",
       "      <th>3</th>\n",
       "      <td>4</td>\n",
       "      <td>0.29</td>\n",
       "      <td>Premium</td>\n",
       "      <td>I</td>\n",
       "      <td>VS2</td>\n",
       "      <td>62.40</td>\n",
       "      <td>58.00</td>\n",
       "      <td>334</td>\n",
       "      <td>4.20</td>\n",
       "      <td>4.23</td>\n",
       "      <td>2.63</td>\n",
       "    </tr>\n",
       "    <tr>\n",
       "      <th>4</th>\n",
       "      <td>5</td>\n",
       "      <td>0.31</td>\n",
       "      <td>Good</td>\n",
       "      <td>J</td>\n",
       "      <td>SI2</td>\n",
       "      <td>63.30</td>\n",
       "      <td>58.00</td>\n",
       "      <td>335</td>\n",
       "      <td>4.34</td>\n",
       "      <td>4.35</td>\n",
       "      <td>2.75</td>\n",
       "    </tr>\n",
       "  </tbody>\n",
       "</table>\n",
       "</div>"
      ],
      "text/plain": [
       "   rownames  carat      cut color clarity  depth  table  price    x    y    z\n",
       "0         1   0.23    Ideal     E     SI2  61.50  55.00    326 3.95 3.98 2.43\n",
       "1         2   0.21  Premium     E     SI1  59.80  61.00    326 3.89 3.84 2.31\n",
       "2         3   0.23     Good     E     VS1  56.90  65.00    327 4.05 4.07 2.31\n",
       "3         4   0.29  Premium     I     VS2  62.40  58.00    334 4.20 4.23 2.63\n",
       "4         5   0.31     Good     J     SI2  63.30  58.00    335 4.34 4.35 2.75"
      ]
     },
     "execution_count": 2,
     "metadata": {},
     "output_type": "execute_result"
    }
   ],
   "source": [
    "# fetch data \n",
    "\n",
    "diamonds_data = pd.read_csv('diamonds.csv')\n",
    "\n",
    "diamonds_data.head()"
   ]
  },
  {
   "cell_type": "code",
   "execution_count": 3,
   "id": "b64b8ff4",
   "metadata": {},
   "outputs": [
    {
     "data": {
      "text/plain": [
       "rownames      int64\n",
       "carat       float64\n",
       "cut          object\n",
       "color        object\n",
       "clarity      object\n",
       "depth       float64\n",
       "table       float64\n",
       "price         int64\n",
       "x           float64\n",
       "y           float64\n",
       "z           float64\n",
       "dtype: object"
      ]
     },
     "execution_count": 3,
     "metadata": {},
     "output_type": "execute_result"
    }
   ],
   "source": [
    "#column data types\n",
    "diamonds_data.dtypes"
   ]
  },
  {
   "cell_type": "code",
   "execution_count": 4,
   "id": "a08098e2",
   "metadata": {},
   "outputs": [
    {
     "data": {
      "text/html": [
       "<div>\n",
       "<style scoped>\n",
       "    .dataframe tbody tr th:only-of-type {\n",
       "        vertical-align: middle;\n",
       "    }\n",
       "\n",
       "    .dataframe tbody tr th {\n",
       "        vertical-align: top;\n",
       "    }\n",
       "\n",
       "    .dataframe thead th {\n",
       "        text-align: right;\n",
       "    }\n",
       "</style>\n",
       "<table border=\"1\" class=\"dataframe\">\n",
       "  <thead>\n",
       "    <tr style=\"text-align: right;\">\n",
       "      <th></th>\n",
       "      <th>carat</th>\n",
       "      <th>cut</th>\n",
       "      <th>color</th>\n",
       "      <th>clarity</th>\n",
       "      <th>depth</th>\n",
       "      <th>table</th>\n",
       "      <th>price</th>\n",
       "      <th>x</th>\n",
       "      <th>y</th>\n",
       "      <th>z</th>\n",
       "    </tr>\n",
       "  </thead>\n",
       "  <tbody>\n",
       "    <tr>\n",
       "      <th>0</th>\n",
       "      <td>0.23</td>\n",
       "      <td>Ideal</td>\n",
       "      <td>E</td>\n",
       "      <td>SI2</td>\n",
       "      <td>61.50</td>\n",
       "      <td>55.00</td>\n",
       "      <td>326</td>\n",
       "      <td>3.95</td>\n",
       "      <td>3.98</td>\n",
       "      <td>2.43</td>\n",
       "    </tr>\n",
       "    <tr>\n",
       "      <th>1</th>\n",
       "      <td>0.21</td>\n",
       "      <td>Premium</td>\n",
       "      <td>E</td>\n",
       "      <td>SI1</td>\n",
       "      <td>59.80</td>\n",
       "      <td>61.00</td>\n",
       "      <td>326</td>\n",
       "      <td>3.89</td>\n",
       "      <td>3.84</td>\n",
       "      <td>2.31</td>\n",
       "    </tr>\n",
       "    <tr>\n",
       "      <th>2</th>\n",
       "      <td>0.23</td>\n",
       "      <td>Good</td>\n",
       "      <td>E</td>\n",
       "      <td>VS1</td>\n",
       "      <td>56.90</td>\n",
       "      <td>65.00</td>\n",
       "      <td>327</td>\n",
       "      <td>4.05</td>\n",
       "      <td>4.07</td>\n",
       "      <td>2.31</td>\n",
       "    </tr>\n",
       "    <tr>\n",
       "      <th>3</th>\n",
       "      <td>0.29</td>\n",
       "      <td>Premium</td>\n",
       "      <td>I</td>\n",
       "      <td>VS2</td>\n",
       "      <td>62.40</td>\n",
       "      <td>58.00</td>\n",
       "      <td>334</td>\n",
       "      <td>4.20</td>\n",
       "      <td>4.23</td>\n",
       "      <td>2.63</td>\n",
       "    </tr>\n",
       "    <tr>\n",
       "      <th>4</th>\n",
       "      <td>0.31</td>\n",
       "      <td>Good</td>\n",
       "      <td>J</td>\n",
       "      <td>SI2</td>\n",
       "      <td>63.30</td>\n",
       "      <td>58.00</td>\n",
       "      <td>335</td>\n",
       "      <td>4.34</td>\n",
       "      <td>4.35</td>\n",
       "      <td>2.75</td>\n",
       "    </tr>\n",
       "  </tbody>\n",
       "</table>\n",
       "</div>"
      ],
      "text/plain": [
       "   carat      cut color clarity  depth  table  price    x    y    z\n",
       "0   0.23    Ideal     E     SI2  61.50  55.00    326 3.95 3.98 2.43\n",
       "1   0.21  Premium     E     SI1  59.80  61.00    326 3.89 3.84 2.31\n",
       "2   0.23     Good     E     VS1  56.90  65.00    327 4.05 4.07 2.31\n",
       "3   0.29  Premium     I     VS2  62.40  58.00    334 4.20 4.23 2.63\n",
       "4   0.31     Good     J     SI2  63.30  58.00    335 4.34 4.35 2.75"
      ]
     },
     "execution_count": 4,
     "metadata": {},
     "output_type": "execute_result"
    }
   ],
   "source": [
    "#dropping rownames column\n",
    "\n",
    "diamonds_data = diamonds_data.drop(columns = ['rownames'], axis=1)\n",
    "\n",
    "diamonds_data.head()"
   ]
  },
  {
   "cell_type": "code",
   "execution_count": 5,
   "id": "545da8aa",
   "metadata": {},
   "outputs": [
    {
     "data": {
      "text/plain": [
       "carat      0\n",
       "cut        0\n",
       "color      0\n",
       "clarity    0\n",
       "depth      0\n",
       "table      0\n",
       "price      0\n",
       "x          0\n",
       "y          0\n",
       "z          0\n",
       "dtype: int64"
      ]
     },
     "execution_count": 5,
     "metadata": {},
     "output_type": "execute_result"
    }
   ],
   "source": [
    "#NaN values\n",
    "diamonds_data.isna().sum()"
   ]
  },
  {
   "cell_type": "markdown",
   "id": "ab3509ae",
   "metadata": {},
   "source": [
    "There are no NaN values in the dataframe"
   ]
  },
  {
   "cell_type": "code",
   "execution_count": 80,
   "id": "9a175f34",
   "metadata": {},
   "outputs": [
    {
     "name": "stdout",
     "output_type": "stream",
     "text": [
      "Number of rows in the dataframe are 53940\n"
     ]
    }
   ],
   "source": [
    "#No. of rows\n",
    "print(\"Number of rows in the dataframe are\",diamonds_data.shape[0])"
   ]
  },
  {
   "cell_type": "code",
   "execution_count": 7,
   "id": "1886cc70",
   "metadata": {},
   "outputs": [
    {
     "name": "stdout",
     "output_type": "stream",
     "text": [
      "Set of values for 'cut': ['Ideal' 'Premium' 'Good' 'Very Good' 'Fair']\n",
      "Set of values for 'color': ['E' 'I' 'J' 'H' 'F' 'G' 'D']\n",
      "Set of values for 'clarity': ['SI2' 'SI1' 'VS1' 'VS2' 'VVS2' 'VVS1' 'I1' 'IF']\n"
     ]
    }
   ],
   "source": [
    "#values taken by the three categorical variables\n",
    "\n",
    "cut_values = diamonds_data['cut'].unique()\n",
    "print(\"Set of values for 'cut':\", cut_values)\n",
    "\n",
    "# To get unique values for the 'color' categorical variable\n",
    "color_values = diamonds_data['color'].unique()\n",
    "print(\"Set of values for 'color':\", color_values)\n",
    "\n",
    "# To get unique values for the 'clarity' categorical variable\n",
    "clarity_values = diamonds_data['clarity'].unique()\n",
    "print(\"Set of values for 'clarity':\", clarity_values)"
   ]
  },
  {
   "cell_type": "markdown",
   "id": "4b29091c",
   "metadata": {},
   "source": [
    "Simple Linear Regression"
   ]
  },
  {
   "cell_type": "code",
   "execution_count": 8,
   "id": "7a2c744e",
   "metadata": {},
   "outputs": [
    {
     "data": {
      "text/plain": [
       "<Figure size 800x600 with 0 Axes>"
      ]
     },
     "execution_count": 8,
     "metadata": {},
     "output_type": "execute_result"
    },
    {
     "data": {
      "text/plain": [
       "<Axes: >"
      ]
     },
     "execution_count": 8,
     "metadata": {},
     "output_type": "execute_result"
    },
    {
     "data": {
      "text/plain": [
       "Text(0.5, 1.0, 'Correlation Heatmap between spx, dax, ftse, and nikkei')"
      ]
     },
     "execution_count": 8,
     "metadata": {},
     "output_type": "execute_result"
    },
    {
     "data": {
      "image/png": "[encoded data removed]",
      "text/plain": [
       "<Figure size 800x600 with 2 Axes>"
      ]
     },
     "metadata": {},
     "output_type": "display_data"
    }
   ],
   "source": [
    "import seaborn as sns\n",
    "df_without_categorical_values = diamonds_data.drop(columns = ['cut', 'color', 'clarity'], axis=1)\n",
    "corr_matrix = df_without_categorical_values.corr()\n",
    "\n",
    "# Create a heatmap\n",
    "plt.figure(figsize=(8, 6))\n",
    "sns.heatmap(corr_matrix, annot=True, cmap='coolwarm', vmin=-1, vmax=1)\n",
    "plt.title('Correlation Heatmap between spx, dax, ftse, and nikkei')\n",
    "plt.show()"
   ]
  },
  {
   "cell_type": "markdown",
   "id": "2e706e97",
   "metadata": {},
   "source": [
    "carat has the highest correlation with price"
   ]
  },
  {
   "cell_type": "code",
   "execution_count": 9,
   "id": "e2cd31fb",
   "metadata": {},
   "outputs": [],
   "source": [
    "X = diamonds_data['carat']"
   ]
  },
  {
   "cell_type": "code",
   "execution_count": 10,
   "id": "462d2c31",
   "metadata": {},
   "outputs": [],
   "source": [
    "Y = diamonds_data['price']"
   ]
  },
  {
   "cell_type": "code",
   "execution_count": 11,
   "id": "8118f9de",
   "metadata": {},
   "outputs": [],
   "source": [
    "X_train, X_test, y_train, y_test = train_test_split(X, Y, test_size=0.25, random_state = 50)"
   ]
  },
  {
   "cell_type": "code",
   "execution_count": 12,
   "id": "27bd1a3f",
   "metadata": {},
   "outputs": [
    {
     "name": "stdout",
     "output_type": "stream",
     "text": [
      "Length of train and test data are: 40455 13485\n"
     ]
    }
   ],
   "source": [
    "train_length = X_train.shape[0]\n",
    "test_length = X_test.shape[0]\n",
    "\n",
    "print('Length of train and test data are:', train_length , test_length )"
   ]
  },
  {
   "cell_type": "code",
   "execution_count": 13,
   "id": "a1fca889",
   "metadata": {},
   "outputs": [
    {
     "name": "stdout",
     "output_type": "stream",
     "text": [
      "First row index of X_train: 32301\n",
      "First row index of X_test: 44751\n"
     ]
    }
   ],
   "source": [
    "first_row_index_train = X_train.index[0]\n",
    "first_row_index_test = X_test.index[0]\n",
    "\n",
    "print(\"First row index of X_train:\", first_row_index_train)\n",
    "print(\"First row index of X_test:\", first_row_index_test)"
   ]
  },
  {
   "cell_type": "code",
   "execution_count": 14,
   "id": "a6491697",
   "metadata": {},
   "outputs": [
    {
     "data": {
      "text/html": [
       "<style>#sk-container-id-1 {color: black;}#sk-container-id-1 pre{padding: 0;}#sk-container-id-1 div.sk-toggleable {background-color: white;}#sk-container-id-1 label.sk-toggleable__label {cursor: pointer;display: block;width: 100%;margin-bottom: 0;padding: 0.3em;box-sizing: border-box;text-align: center;}#sk-container-id-1 label.sk-toggleable__label-arrow:before {content: \"▸\";float: left;margin-right: 0.25em;color: #696969;}#sk-container-id-1 label.sk-toggleable__label-arrow:hover:before {color: black;}#sk-container-id-1 div.sk-estimator:hover label.sk-toggleable__label-arrow:before {color: black;}#sk-container-id-1 div.sk-toggleable__content {max-height: 0;max-width: 0;overflow: hidden;text-align: left;background-color: #f0f8ff;}#sk-container-id-1 div.sk-toggleable__content pre {margin: 0.2em;color: black;border-radius: 0.25em;background-color: #f0f8ff;}#sk-container-id-1 input.sk-toggleable__control:checked~div.sk-toggleable__content {max-height: 200px;max-width: 100%;overflow: auto;}#sk-container-id-1 input.sk-toggleable__control:checked~label.sk-toggleable__label-arrow:before {content: \"▾\";}#sk-container-id-1 div.sk-estimator input.sk-toggleable__control:checked~label.sk-toggleable__label {background-color: #d4ebff;}#sk-container-id-1 div.sk-label input.sk-toggleable__control:checked~label.sk-toggleable__label {background-color: #d4ebff;}#sk-container-id-1 input.sk-hidden--visually {border: 0;clip: rect(1px 1px 1px 1px);clip: rect(1px, 1px, 1px, 1px);height: 1px;margin: -1px;overflow: hidden;padding: 0;position: absolute;width: 1px;}#sk-container-id-1 div.sk-estimator {font-family: monospace;background-color: #f0f8ff;border: 1px dotted black;border-radius: 0.25em;box-sizing: border-box;margin-bottom: 0.5em;}#sk-container-id-1 div.sk-estimator:hover {background-color: #d4ebff;}#sk-container-id-1 div.sk-parallel-item::after {content: \"\";width: 100%;border-bottom: 1px solid gray;flex-grow: 1;}#sk-container-id-1 div.sk-label:hover label.sk-toggleable__label {background-color: #d4ebff;}#sk-container-id-1 div.sk-serial::before {content: \"\";position: absolute;border-left: 1px solid gray;box-sizing: border-box;top: 0;bottom: 0;left: 50%;z-index: 0;}#sk-container-id-1 div.sk-serial {display: flex;flex-direction: column;align-items: center;background-color: white;padding-right: 0.2em;padding-left: 0.2em;position: relative;}#sk-container-id-1 div.sk-item {position: relative;z-index: 1;}#sk-container-id-1 div.sk-parallel {display: flex;align-items: stretch;justify-content: center;background-color: white;position: relative;}#sk-container-id-1 div.sk-item::before, #sk-container-id-1 div.sk-parallel-item::before {content: \"\";position: absolute;border-left: 1px solid gray;box-sizing: border-box;top: 0;bottom: 0;left: 50%;z-index: -1;}#sk-container-id-1 div.sk-parallel-item {display: flex;flex-direction: column;z-index: 1;position: relative;background-color: white;}#sk-container-id-1 div.sk-parallel-item:first-child::after {align-self: flex-end;width: 50%;}#sk-container-id-1 div.sk-parallel-item:last-child::after {align-self: flex-start;width: 50%;}#sk-container-id-1 div.sk-parallel-item:only-child::after {width: 0;}#sk-container-id-1 div.sk-dashed-wrapped {border: 1px dashed gray;margin: 0 0.4em 0.5em 0.4em;box-sizing: border-box;padding-bottom: 0.4em;background-color: white;}#sk-container-id-1 div.sk-label label {font-family: monospace;font-weight: bold;display: inline-block;line-height: 1.2em;}#sk-container-id-1 div.sk-label-container {text-align: center;}#sk-container-id-1 div.sk-container {/* jupyter's `normalize.less` sets `[hidden] { display: none; }` but bootstrap.min.css set `[hidden] { display: none !important; }` so we also need the `!important` here to be able to override the default hidden behavior on the sphinx rendered scikit-learn.org. See: https://github.com/scikit-learn/scikit-learn/issues/21755 */display: inline-block !important;position: relative;}#sk-container-id-1 div.sk-text-repr-fallback {display: none;}</style><div id=\"sk-container-id-1\" class=\"sk-top-container\"><div class=\"sk-text-repr-fallback\"><pre>LinearRegression()</pre><b>In a Jupyter environment, please rerun this cell to show the HTML representation or trust the notebook. <br />On GitHub, the HTML representation is unable to render, please try loading this page with nbviewer.org.</b></div><div class=\"sk-container\" hidden><div class=\"sk-item\"><div class=\"sk-estimator sk-toggleable\"><input class=\"sk-toggleable__control sk-hidden--visually\" id=\"sk-estimator-id-1\" type=\"checkbox\" checked><label for=\"sk-estimator-id-1\" class=\"sk-toggleable__label sk-toggleable__label-arrow\">LinearRegression</label><div class=\"sk-toggleable__content\"><pre>LinearRegression()</pre></div></div></div></div></div>"
      ],
      "text/plain": [
       "LinearRegression()"
      ]
     },
     "execution_count": 14,
     "metadata": {},
     "output_type": "execute_result"
    }
   ],
   "source": [
    "model = LinearRegression(fit_intercept = True)\n",
    "model.fit(X_train.array.reshape(-1, 1), y_train.array.reshape(-1, 1))"
   ]
  },
  {
   "cell_type": "code",
   "execution_count": 15,
   "id": "16605b78",
   "metadata": {},
   "outputs": [
    {
     "data": {
      "text/plain": [
       "0.8486051211546091"
      ]
     },
     "execution_count": 15,
     "metadata": {},
     "output_type": "execute_result"
    },
    {
     "data": {
      "text/plain": [
       "array([[7740.34546342]])"
      ]
     },
     "execution_count": 15,
     "metadata": {},
     "output_type": "execute_result"
    },
    {
     "data": {
      "text/plain": [
       "array([-2244.80400041])"
      ]
     },
     "execution_count": 15,
     "metadata": {},
     "output_type": "execute_result"
    }
   ],
   "source": [
    "# The following gives the R-square score\n",
    "model.score(X_train.array.reshape(-1, 1), y_train.array.reshape(-1, 1)) # When extending to multiple features remove .array.reshape(-1, 1)\n",
    "\n",
    "# This is the coefficient Beta_1 (or slope of the Simple Linear Regression line)\n",
    "model.coef_\n",
    "\n",
    "# This is the coefficient Beta_0\n",
    "model.intercept_"
   ]
  },
  {
   "cell_type": "markdown",
   "id": "03a01b72",
   "metadata": {},
   "source": [
    "An R-square score of approximately 0.85 suggests that the model explains about 85% of the variance in the target variable, which is generally considered a strong correlation and indicates a good fit.\n",
    "\n",
    "Coefficients\n",
    "\n",
    "\n",
    "1) Beta_1 (Coefficient for the Independent Variable): 7740.34546342\n",
    "This coefficient represents the slope of the regression line in the case of simple linear regression (or the effect size of the variable in multiple regression). It indicates how much the dependent variable is expected to increase (or decrease, if the coefficient was negative) when the independent variable increases by one unit. In this context, a coefficient of approximately 7740.35 means that for each one-unit increase in the independent variable, the dependent variable is expected to increase by about 7740.35 units. This value suggests a strong positive relationship between the independent variable and the dependent variable.\n",
    "\n",
    "2) Beta_0 (Intercept): -2244.80400041\n",
    "The intercept, or Beta_0, represents the expected value of the dependent variable when all independent variables are equal to zero. An intercept of approximately -2244.80 indicates that if the independent variable(s) were to be 0, the expected value of the dependent variable would be -2244.80."
   ]
  },
  {
   "cell_type": "code",
   "execution_count": 250,
   "id": "ec6ad141",
   "metadata": {},
   "outputs": [
    {
     "data": {
      "text/plain": [
       "0.8514897700970667"
      ]
     },
     "execution_count": 250,
     "metadata": {},
     "output_type": "execute_result"
    }
   ],
   "source": [
    "# Calculate R-squared on test data\n",
    "model.score(X_test.array.reshape(-1, 1), y_test.array.reshape(-1, 1))"
   ]
  },
  {
   "cell_type": "code",
   "execution_count": 84,
   "id": "161b4ba9",
   "metadata": {},
   "outputs": [],
   "source": [
    "test_output = pd.DataFrame(model.predict(X_test.array.reshape(-1, 1)), index = X_test.index, columns = ['pred_price'])"
   ]
  },
  {
   "cell_type": "code",
   "execution_count": 17,
   "id": "e378ce1a",
   "metadata": {},
   "outputs": [
    {
     "data": {
      "text/html": [
       "<div>\n",
       "<style scoped>\n",
       "    .dataframe tbody tr th:only-of-type {\n",
       "        vertical-align: middle;\n",
       "    }\n",
       "\n",
       "    .dataframe tbody tr th {\n",
       "        vertical-align: top;\n",
       "    }\n",
       "\n",
       "    .dataframe thead th {\n",
       "        text-align: right;\n",
       "    }\n",
       "</style>\n",
       "<table border=\"1\" class=\"dataframe\">\n",
       "  <thead>\n",
       "    <tr style=\"text-align: right;\">\n",
       "      <th></th>\n",
       "      <th>pred_price</th>\n",
       "    </tr>\n",
       "  </thead>\n",
       "  <tbody>\n",
       "    <tr>\n",
       "      <th>44751</th>\n",
       "      <td>1,702.77</td>\n",
       "    </tr>\n",
       "    <tr>\n",
       "      <th>22963</th>\n",
       "      <td>13,313.29</td>\n",
       "    </tr>\n",
       "    <tr>\n",
       "      <th>9078</th>\n",
       "      <td>6,114.77</td>\n",
       "    </tr>\n",
       "    <tr>\n",
       "      <th>26148</th>\n",
       "      <td>14,242.13</td>\n",
       "    </tr>\n",
       "    <tr>\n",
       "      <th>29451</th>\n",
       "      <td>309.51</td>\n",
       "    </tr>\n",
       "  </tbody>\n",
       "</table>\n",
       "</div>"
      ],
      "text/plain": [
       "       pred_price\n",
       "44751    1,702.77\n",
       "22963   13,313.29\n",
       "9078     6,114.77\n",
       "26148   14,242.13\n",
       "29451      309.51"
      ]
     },
     "execution_count": 17,
     "metadata": {},
     "output_type": "execute_result"
    }
   ],
   "source": [
    "test_output.head()"
   ]
  },
  {
   "cell_type": "code",
   "execution_count": 18,
   "id": "6895b2dc",
   "metadata": {},
   "outputs": [
    {
     "data": {
      "text/html": [
       "<div>\n",
       "<style scoped>\n",
       "    .dataframe tbody tr th:only-of-type {\n",
       "        vertical-align: middle;\n",
       "    }\n",
       "\n",
       "    .dataframe tbody tr th {\n",
       "        vertical-align: top;\n",
       "    }\n",
       "\n",
       "    .dataframe thead th {\n",
       "        text-align: right;\n",
       "    }\n",
       "</style>\n",
       "<table border=\"1\" class=\"dataframe\">\n",
       "  <thead>\n",
       "    <tr style=\"text-align: right;\">\n",
       "      <th></th>\n",
       "      <th>pred_price</th>\n",
       "      <th>price</th>\n",
       "    </tr>\n",
       "  </thead>\n",
       "  <tbody>\n",
       "    <tr>\n",
       "      <th>44751</th>\n",
       "      <td>1,702.77</td>\n",
       "      <td>1619</td>\n",
       "    </tr>\n",
       "    <tr>\n",
       "      <th>22963</th>\n",
       "      <td>13,313.29</td>\n",
       "      <td>11011</td>\n",
       "    </tr>\n",
       "    <tr>\n",
       "      <th>9078</th>\n",
       "      <td>6,114.77</td>\n",
       "      <td>4521</td>\n",
       "    </tr>\n",
       "    <tr>\n",
       "      <th>26148</th>\n",
       "      <td>14,242.13</td>\n",
       "      <td>15454</td>\n",
       "    </tr>\n",
       "    <tr>\n",
       "      <th>29451</th>\n",
       "      <td>309.51</td>\n",
       "      <td>702</td>\n",
       "    </tr>\n",
       "  </tbody>\n",
       "</table>\n",
       "</div>"
      ],
      "text/plain": [
       "       pred_price  price\n",
       "44751    1,702.77   1619\n",
       "22963   13,313.29  11011\n",
       "9078     6,114.77   4521\n",
       "26148   14,242.13  15454\n",
       "29451      309.51    702"
      ]
     },
     "execution_count": 18,
     "metadata": {},
     "output_type": "execute_result"
    },
    {
     "name": "stdout",
     "output_type": "stream",
     "text": [
      "Mean absolute error is \n",
      "998.4973200867355\n"
     ]
    }
   ],
   "source": [
    "test_output = test_output.merge(y_test, left_index = True, right_index = True)\n",
    "test_output.head()\n",
    "mean_absolute_error = abs(test_output['pred_price'] - test_output['price']).mean()\n",
    "print('Mean absolute error is ')\n",
    "print(mean_absolute_error)"
   ]
  },
  {
   "cell_type": "code",
   "execution_count": 19,
   "id": "1714efd2",
   "metadata": {},
   "outputs": [],
   "source": [
    "average_price_test = y_test.mean()"
   ]
  },
  {
   "cell_type": "code",
   "execution_count": 20,
   "id": "4f948783",
   "metadata": {},
   "outputs": [
    {
     "name": "stdout",
     "output_type": "stream",
     "text": [
      "Fraction of MAE to Average Price: 0.2541206399951147\n"
     ]
    }
   ],
   "source": [
    "fraction_mae = mean_absolute_error / average_price_test\n",
    "print(\"Fraction of MAE to Average Price:\", fraction_mae)"
   ]
  },
  {
   "cell_type": "markdown",
   "id": "24ab8c98",
   "metadata": {},
   "source": [
    "A fraction of approximately 0.254 means that the mean absolute error is about 25.4% of the average price in the test set. \n",
    "\n",
    "An MAE of 998.5 and its fraction of 25.4% of the average price indicate that, despite the good fit, the average prediction error may still represent a significant portion of the price."
   ]
  },
  {
   "cell_type": "markdown",
   "id": "f3b95b7c",
   "metadata": {},
   "source": [
    "Multiple Linear Regression:"
   ]
  },
  {
   "cell_type": "code",
   "execution_count": 33,
   "id": "549992be",
   "metadata": {},
   "outputs": [],
   "source": [
    "X2 = diamonds_data.drop(columns = ['cut', 'color', 'clarity', 'price'], axis=1)"
   ]
  },
  {
   "cell_type": "code",
   "execution_count": 34,
   "id": "2dbed04b",
   "metadata": {},
   "outputs": [
    {
     "data": {
      "text/html": [
       "<div>\n",
       "<style scoped>\n",
       "    .dataframe tbody tr th:only-of-type {\n",
       "        vertical-align: middle;\n",
       "    }\n",
       "\n",
       "    .dataframe tbody tr th {\n",
       "        vertical-align: top;\n",
       "    }\n",
       "\n",
       "    .dataframe thead th {\n",
       "        text-align: right;\n",
       "    }\n",
       "</style>\n",
       "<table border=\"1\" class=\"dataframe\">\n",
       "  <thead>\n",
       "    <tr style=\"text-align: right;\">\n",
       "      <th></th>\n",
       "      <th>carat</th>\n",
       "      <th>depth</th>\n",
       "      <th>table</th>\n",
       "      <th>x</th>\n",
       "      <th>y</th>\n",
       "      <th>z</th>\n",
       "    </tr>\n",
       "  </thead>\n",
       "  <tbody>\n",
       "    <tr>\n",
       "      <th>0</th>\n",
       "      <td>0.23</td>\n",
       "      <td>61.50</td>\n",
       "      <td>55.00</td>\n",
       "      <td>3.95</td>\n",
       "      <td>3.98</td>\n",
       "      <td>2.43</td>\n",
       "    </tr>\n",
       "    <tr>\n",
       "      <th>1</th>\n",
       "      <td>0.21</td>\n",
       "      <td>59.80</td>\n",
       "      <td>61.00</td>\n",
       "      <td>3.89</td>\n",
       "      <td>3.84</td>\n",
       "      <td>2.31</td>\n",
       "    </tr>\n",
       "    <tr>\n",
       "      <th>2</th>\n",
       "      <td>0.23</td>\n",
       "      <td>56.90</td>\n",
       "      <td>65.00</td>\n",
       "      <td>4.05</td>\n",
       "      <td>4.07</td>\n",
       "      <td>2.31</td>\n",
       "    </tr>\n",
       "    <tr>\n",
       "      <th>3</th>\n",
       "      <td>0.29</td>\n",
       "      <td>62.40</td>\n",
       "      <td>58.00</td>\n",
       "      <td>4.20</td>\n",
       "      <td>4.23</td>\n",
       "      <td>2.63</td>\n",
       "    </tr>\n",
       "    <tr>\n",
       "      <th>4</th>\n",
       "      <td>0.31</td>\n",
       "      <td>63.30</td>\n",
       "      <td>58.00</td>\n",
       "      <td>4.34</td>\n",
       "      <td>4.35</td>\n",
       "      <td>2.75</td>\n",
       "    </tr>\n",
       "  </tbody>\n",
       "</table>\n",
       "</div>"
      ],
      "text/plain": [
       "   carat  depth  table    x    y    z\n",
       "0   0.23  61.50  55.00 3.95 3.98 2.43\n",
       "1   0.21  59.80  61.00 3.89 3.84 2.31\n",
       "2   0.23  56.90  65.00 4.05 4.07 2.31\n",
       "3   0.29  62.40  58.00 4.20 4.23 2.63\n",
       "4   0.31  63.30  58.00 4.34 4.35 2.75"
      ]
     },
     "execution_count": 34,
     "metadata": {},
     "output_type": "execute_result"
    }
   ],
   "source": [
    "X2.head()"
   ]
  },
  {
   "cell_type": "code",
   "execution_count": 35,
   "id": "602b307c",
   "metadata": {},
   "outputs": [],
   "source": [
    "Y2 = diamonds_data[\"price\"]"
   ]
  },
  {
   "cell_type": "code",
   "execution_count": 36,
   "id": "e09088ed",
   "metadata": {},
   "outputs": [],
   "source": [
    "X2_train, X2_test, y2_train, y2_test = train_test_split(X2, Y2, test_size=0.25, random_state = 50)"
   ]
  },
  {
   "cell_type": "code",
   "execution_count": 42,
   "id": "b3cf40a6",
   "metadata": {},
   "outputs": [
    {
     "data": {
      "text/html": [
       "<div>\n",
       "<style scoped>\n",
       "    .dataframe tbody tr th:only-of-type {\n",
       "        vertical-align: middle;\n",
       "    }\n",
       "\n",
       "    .dataframe tbody tr th {\n",
       "        vertical-align: top;\n",
       "    }\n",
       "\n",
       "    .dataframe thead th {\n",
       "        text-align: right;\n",
       "    }\n",
       "</style>\n",
       "<table border=\"1\" class=\"dataframe\">\n",
       "  <thead>\n",
       "    <tr style=\"text-align: right;\">\n",
       "      <th></th>\n",
       "      <th>carat</th>\n",
       "      <th>depth</th>\n",
       "      <th>table</th>\n",
       "      <th>x</th>\n",
       "      <th>y</th>\n",
       "      <th>z</th>\n",
       "    </tr>\n",
       "  </thead>\n",
       "  <tbody>\n",
       "    <tr>\n",
       "      <th>32301</th>\n",
       "      <td>0.37</td>\n",
       "      <td>60.70</td>\n",
       "      <td>60.00</td>\n",
       "      <td>4.65</td>\n",
       "      <td>4.68</td>\n",
       "      <td>2.83</td>\n",
       "    </tr>\n",
       "    <tr>\n",
       "      <th>39009</th>\n",
       "      <td>0.40</td>\n",
       "      <td>61.70</td>\n",
       "      <td>57.00</td>\n",
       "      <td>4.77</td>\n",
       "      <td>4.73</td>\n",
       "      <td>2.93</td>\n",
       "    </tr>\n",
       "    <tr>\n",
       "      <th>22757</th>\n",
       "      <td>1.02</td>\n",
       "      <td>61.40</td>\n",
       "      <td>58.00</td>\n",
       "      <td>6.46</td>\n",
       "      <td>6.43</td>\n",
       "      <td>3.96</td>\n",
       "    </tr>\n",
       "    <tr>\n",
       "      <th>15129</th>\n",
       "      <td>1.07</td>\n",
       "      <td>62.30</td>\n",
       "      <td>55.00</td>\n",
       "      <td>6.59</td>\n",
       "      <td>6.54</td>\n",
       "      <td>4.09</td>\n",
       "    </tr>\n",
       "    <tr>\n",
       "      <th>17861</th>\n",
       "      <td>1.19</td>\n",
       "      <td>61.70</td>\n",
       "      <td>56.00</td>\n",
       "      <td>6.78</td>\n",
       "      <td>6.81</td>\n",
       "      <td>4.19</td>\n",
       "    </tr>\n",
       "    <tr>\n",
       "      <th>...</th>\n",
       "      <td>...</td>\n",
       "      <td>...</td>\n",
       "      <td>...</td>\n",
       "      <td>...</td>\n",
       "      <td>...</td>\n",
       "      <td>...</td>\n",
       "    </tr>\n",
       "    <tr>\n",
       "      <th>48417</th>\n",
       "      <td>0.70</td>\n",
       "      <td>62.40</td>\n",
       "      <td>58.00</td>\n",
       "      <td>5.62</td>\n",
       "      <td>5.67</td>\n",
       "      <td>3.52</td>\n",
       "    </tr>\n",
       "    <tr>\n",
       "      <th>22637</th>\n",
       "      <td>2.00</td>\n",
       "      <td>60.30</td>\n",
       "      <td>56.00</td>\n",
       "      <td>8.27</td>\n",
       "      <td>8.16</td>\n",
       "      <td>4.94</td>\n",
       "    </tr>\n",
       "    <tr>\n",
       "      <th>42891</th>\n",
       "      <td>0.51</td>\n",
       "      <td>62.80</td>\n",
       "      <td>57.00</td>\n",
       "      <td>5.12</td>\n",
       "      <td>5.10</td>\n",
       "      <td>3.21</td>\n",
       "    </tr>\n",
       "    <tr>\n",
       "      <th>38368</th>\n",
       "      <td>0.53</td>\n",
       "      <td>63.80</td>\n",
       "      <td>57.00</td>\n",
       "      <td>5.10</td>\n",
       "      <td>5.12</td>\n",
       "      <td>3.26</td>\n",
       "    </tr>\n",
       "    <tr>\n",
       "      <th>14000</th>\n",
       "      <td>1.19</td>\n",
       "      <td>62.70</td>\n",
       "      <td>61.00</td>\n",
       "      <td>6.73</td>\n",
       "      <td>6.66</td>\n",
       "      <td>4.20</td>\n",
       "    </tr>\n",
       "  </tbody>\n",
       "</table>\n",
       "<p>40455 rows × 6 columns</p>\n",
       "</div>"
      ],
      "text/plain": [
       "       carat  depth  table    x    y    z\n",
       "32301   0.37  60.70  60.00 4.65 4.68 2.83\n",
       "39009   0.40  61.70  57.00 4.77 4.73 2.93\n",
       "22757   1.02  61.40  58.00 6.46 6.43 3.96\n",
       "15129   1.07  62.30  55.00 6.59 6.54 4.09\n",
       "17861   1.19  61.70  56.00 6.78 6.81 4.19\n",
       "...      ...    ...    ...  ...  ...  ...\n",
       "48417   0.70  62.40  58.00 5.62 5.67 3.52\n",
       "22637   2.00  60.30  56.00 8.27 8.16 4.94\n",
       "42891   0.51  62.80  57.00 5.12 5.10 3.21\n",
       "38368   0.53  63.80  57.00 5.10 5.12 3.26\n",
       "14000   1.19  62.70  61.00 6.73 6.66 4.20\n",
       "\n",
       "[40455 rows x 6 columns]"
      ]
     },
     "execution_count": 42,
     "metadata": {},
     "output_type": "execute_result"
    },
    {
     "data": {
      "text/html": [
       "<div>\n",
       "<style scoped>\n",
       "    .dataframe tbody tr th:only-of-type {\n",
       "        vertical-align: middle;\n",
       "    }\n",
       "\n",
       "    .dataframe tbody tr th {\n",
       "        vertical-align: top;\n",
       "    }\n",
       "\n",
       "    .dataframe thead th {\n",
       "        text-align: right;\n",
       "    }\n",
       "</style>\n",
       "<table border=\"1\" class=\"dataframe\">\n",
       "  <thead>\n",
       "    <tr style=\"text-align: right;\">\n",
       "      <th></th>\n",
       "      <th>carat</th>\n",
       "      <th>depth</th>\n",
       "      <th>table</th>\n",
       "      <th>x</th>\n",
       "      <th>y</th>\n",
       "      <th>z</th>\n",
       "    </tr>\n",
       "  </thead>\n",
       "  <tbody>\n",
       "    <tr>\n",
       "      <th>44751</th>\n",
       "      <td>0.51</td>\n",
       "      <td>61.40</td>\n",
       "      <td>58.00</td>\n",
       "      <td>5.13</td>\n",
       "      <td>5.09</td>\n",
       "      <td>3.14</td>\n",
       "    </tr>\n",
       "    <tr>\n",
       "      <th>22963</th>\n",
       "      <td>2.01</td>\n",
       "      <td>62.90</td>\n",
       "      <td>54.00</td>\n",
       "      <td>8.06</td>\n",
       "      <td>7.93</td>\n",
       "      <td>5.05</td>\n",
       "    </tr>\n",
       "    <tr>\n",
       "      <th>9078</th>\n",
       "      <td>1.08</td>\n",
       "      <td>62.10</td>\n",
       "      <td>59.00</td>\n",
       "      <td>6.57</td>\n",
       "      <td>6.53</td>\n",
       "      <td>4.07</td>\n",
       "    </tr>\n",
       "    <tr>\n",
       "      <th>26148</th>\n",
       "      <td>2.13</td>\n",
       "      <td>61.50</td>\n",
       "      <td>57.00</td>\n",
       "      <td>8.27</td>\n",
       "      <td>8.34</td>\n",
       "      <td>5.11</td>\n",
       "    </tr>\n",
       "    <tr>\n",
       "      <th>29451</th>\n",
       "      <td>0.33</td>\n",
       "      <td>61.90</td>\n",
       "      <td>56.00</td>\n",
       "      <td>4.46</td>\n",
       "      <td>4.49</td>\n",
       "      <td>2.77</td>\n",
       "    </tr>\n",
       "    <tr>\n",
       "      <th>...</th>\n",
       "      <td>...</td>\n",
       "      <td>...</td>\n",
       "      <td>...</td>\n",
       "      <td>...</td>\n",
       "      <td>...</td>\n",
       "      <td>...</td>\n",
       "    </tr>\n",
       "    <tr>\n",
       "      <th>8884</th>\n",
       "      <td>1.04</td>\n",
       "      <td>62.40</td>\n",
       "      <td>56.00</td>\n",
       "      <td>6.40</td>\n",
       "      <td>6.48</td>\n",
       "      <td>4.02</td>\n",
       "    </tr>\n",
       "    <tr>\n",
       "      <th>34947</th>\n",
       "      <td>0.30</td>\n",
       "      <td>61.90</td>\n",
       "      <td>60.00</td>\n",
       "      <td>4.27</td>\n",
       "      <td>4.29</td>\n",
       "      <td>2.65</td>\n",
       "    </tr>\n",
       "    <tr>\n",
       "      <th>21821</th>\n",
       "      <td>1.50</td>\n",
       "      <td>60.20</td>\n",
       "      <td>61.00</td>\n",
       "      <td>7.27</td>\n",
       "      <td>7.32</td>\n",
       "      <td>4.39</td>\n",
       "    </tr>\n",
       "    <tr>\n",
       "      <th>9942</th>\n",
       "      <td>1.01</td>\n",
       "      <td>61.10</td>\n",
       "      <td>56.00</td>\n",
       "      <td>6.44</td>\n",
       "      <td>6.48</td>\n",
       "      <td>3.95</td>\n",
       "    </tr>\n",
       "    <tr>\n",
       "      <th>8296</th>\n",
       "      <td>1.13</td>\n",
       "      <td>61.70</td>\n",
       "      <td>57.00</td>\n",
       "      <td>6.70</td>\n",
       "      <td>6.59</td>\n",
       "      <td>4.13</td>\n",
       "    </tr>\n",
       "  </tbody>\n",
       "</table>\n",
       "<p>13485 rows × 6 columns</p>\n",
       "</div>"
      ],
      "text/plain": [
       "       carat  depth  table    x    y    z\n",
       "44751   0.51  61.40  58.00 5.13 5.09 3.14\n",
       "22963   2.01  62.90  54.00 8.06 7.93 5.05\n",
       "9078    1.08  62.10  59.00 6.57 6.53 4.07\n",
       "26148   2.13  61.50  57.00 8.27 8.34 5.11\n",
       "29451   0.33  61.90  56.00 4.46 4.49 2.77\n",
       "...      ...    ...    ...  ...  ...  ...\n",
       "8884    1.04  62.40  56.00 6.40 6.48 4.02\n",
       "34947   0.30  61.90  60.00 4.27 4.29 2.65\n",
       "21821   1.50  60.20  61.00 7.27 7.32 4.39\n",
       "9942    1.01  61.10  56.00 6.44 6.48 3.95\n",
       "8296    1.13  61.70  57.00 6.70 6.59 4.13\n",
       "\n",
       "[13485 rows x 6 columns]"
      ]
     },
     "execution_count": 42,
     "metadata": {},
     "output_type": "execute_result"
    },
    {
     "data": {
      "text/plain": [
       "44751     1619\n",
       "22963    11011\n",
       "9078      4521\n",
       "26148    15454\n",
       "29451      702\n",
       "         ...  \n",
       "8884      4486\n",
       "34947      378\n",
       "21821     9892\n",
       "9942      4693\n",
       "8296      4385\n",
       "Name: price, Length: 13485, dtype: int64"
      ]
     },
     "execution_count": 42,
     "metadata": {},
     "output_type": "execute_result"
    },
    {
     "data": {
      "text/plain": [
       "32301      454\n",
       "39009     1056\n",
       "22757    10773\n",
       "15129     6082\n",
       "17861     7207\n",
       "         ...  \n",
       "48417     1971\n",
       "22637    10685\n",
       "42891     1359\n",
       "38368     1023\n",
       "14000     5698\n",
       "Name: price, Length: 40455, dtype: int64"
      ]
     },
     "execution_count": 42,
     "metadata": {},
     "output_type": "execute_result"
    }
   ],
   "source": [
    "X2_train\n",
    "X2_test\n",
    "y2_test\n",
    "y2_train"
   ]
  },
  {
   "cell_type": "code",
   "execution_count": 43,
   "id": "0fdd5d7b",
   "metadata": {},
   "outputs": [
    {
     "name": "stdout",
     "output_type": "stream",
     "text": [
      "Length of train and test data are: 40455 13485\n"
     ]
    }
   ],
   "source": [
    "train_length2 = X2_train.shape[0]\n",
    "test_length2 = X2_test.shape[0]\n",
    "\n",
    "print('Length of train and test data are:', train_length2 , test_length2)"
   ]
  },
  {
   "cell_type": "markdown",
   "id": "da2adc3d",
   "metadata": {},
   "source": [
    "The length of test and train data are same as the lengths of SLR"
   ]
  },
  {
   "cell_type": "code",
   "execution_count": 44,
   "id": "054f2236",
   "metadata": {},
   "outputs": [
    {
     "name": "stdout",
     "output_type": "stream",
     "text": [
      "First row index of X_train: 32301\n",
      "First row index of X_test: 44751\n"
     ]
    }
   ],
   "source": [
    "first_row_index_train2 = X2_train.index[0]\n",
    "first_row_index_test2 = X2_test.index[0]\n",
    "\n",
    "print(\"First row index of X_train:\", first_row_index_train2)\n",
    "print(\"First row index of X_test:\", first_row_index_test2)"
   ]
  },
  {
   "cell_type": "markdown",
   "id": "52fe96f4",
   "metadata": {},
   "source": [
    "First row index of both test and train data are same as that of SLR"
   ]
  },
  {
   "cell_type": "code",
   "execution_count": 45,
   "id": "90e88df7",
   "metadata": {},
   "outputs": [
    {
     "data": {
      "text/html": [
       "<style>#sk-container-id-4 {color: black;}#sk-container-id-4 pre{padding: 0;}#sk-container-id-4 div.sk-toggleable {background-color: white;}#sk-container-id-4 label.sk-toggleable__label {cursor: pointer;display: block;width: 100%;margin-bottom: 0;padding: 0.3em;box-sizing: border-box;text-align: center;}#sk-container-id-4 label.sk-toggleable__label-arrow:before {content: \"▸\";float: left;margin-right: 0.25em;color: #696969;}#sk-container-id-4 label.sk-toggleable__label-arrow:hover:before {color: black;}#sk-container-id-4 div.sk-estimator:hover label.sk-toggleable__label-arrow:before {color: black;}#sk-container-id-4 div.sk-toggleable__content {max-height: 0;max-width: 0;overflow: hidden;text-align: left;background-color: #f0f8ff;}#sk-container-id-4 div.sk-toggleable__content pre {margin: 0.2em;color: black;border-radius: 0.25em;background-color: #f0f8ff;}#sk-container-id-4 input.sk-toggleable__control:checked~div.sk-toggleable__content {max-height: 200px;max-width: 100%;overflow: auto;}#sk-container-id-4 input.sk-toggleable__control:checked~label.sk-toggleable__label-arrow:before {content: \"▾\";}#sk-container-id-4 div.sk-estimator input.sk-toggleable__control:checked~label.sk-toggleable__label {background-color: #d4ebff;}#sk-container-id-4 div.sk-label input.sk-toggleable__control:checked~label.sk-toggleable__label {background-color: #d4ebff;}#sk-container-id-4 input.sk-hidden--visually {border: 0;clip: rect(1px 1px 1px 1px);clip: rect(1px, 1px, 1px, 1px);height: 1px;margin: -1px;overflow: hidden;padding: 0;position: absolute;width: 1px;}#sk-container-id-4 div.sk-estimator {font-family: monospace;background-color: #f0f8ff;border: 1px dotted black;border-radius: 0.25em;box-sizing: border-box;margin-bottom: 0.5em;}#sk-container-id-4 div.sk-estimator:hover {background-color: #d4ebff;}#sk-container-id-4 div.sk-parallel-item::after {content: \"\";width: 100%;border-bottom: 1px solid gray;flex-grow: 1;}#sk-container-id-4 div.sk-label:hover label.sk-toggleable__label {background-color: #d4ebff;}#sk-container-id-4 div.sk-serial::before {content: \"\";position: absolute;border-left: 1px solid gray;box-sizing: border-box;top: 0;bottom: 0;left: 50%;z-index: 0;}#sk-container-id-4 div.sk-serial {display: flex;flex-direction: column;align-items: center;background-color: white;padding-right: 0.2em;padding-left: 0.2em;position: relative;}#sk-container-id-4 div.sk-item {position: relative;z-index: 1;}#sk-container-id-4 div.sk-parallel {display: flex;align-items: stretch;justify-content: center;background-color: white;position: relative;}#sk-container-id-4 div.sk-item::before, #sk-container-id-4 div.sk-parallel-item::before {content: \"\";position: absolute;border-left: 1px solid gray;box-sizing: border-box;top: 0;bottom: 0;left: 50%;z-index: -1;}#sk-container-id-4 div.sk-parallel-item {display: flex;flex-direction: column;z-index: 1;position: relative;background-color: white;}#sk-container-id-4 div.sk-parallel-item:first-child::after {align-self: flex-end;width: 50%;}#sk-container-id-4 div.sk-parallel-item:last-child::after {align-self: flex-start;width: 50%;}#sk-container-id-4 div.sk-parallel-item:only-child::after {width: 0;}#sk-container-id-4 div.sk-dashed-wrapped {border: 1px dashed gray;margin: 0 0.4em 0.5em 0.4em;box-sizing: border-box;padding-bottom: 0.4em;background-color: white;}#sk-container-id-4 div.sk-label label {font-family: monospace;font-weight: bold;display: inline-block;line-height: 1.2em;}#sk-container-id-4 div.sk-label-container {text-align: center;}#sk-container-id-4 div.sk-container {/* jupyter's `normalize.less` sets `[hidden] { display: none; }` but bootstrap.min.css set `[hidden] { display: none !important; }` so we also need the `!important` here to be able to override the default hidden behavior on the sphinx rendered scikit-learn.org. See: https://github.com/scikit-learn/scikit-learn/issues/21755 */display: inline-block !important;position: relative;}#sk-container-id-4 div.sk-text-repr-fallback {display: none;}</style><div id=\"sk-container-id-4\" class=\"sk-top-container\"><div class=\"sk-text-repr-fallback\"><pre>LinearRegression()</pre><b>In a Jupyter environment, please rerun this cell to show the HTML representation or trust the notebook. <br />On GitHub, the HTML representation is unable to render, please try loading this page with nbviewer.org.</b></div><div class=\"sk-container\" hidden><div class=\"sk-item\"><div class=\"sk-estimator sk-toggleable\"><input class=\"sk-toggleable__control sk-hidden--visually\" id=\"sk-estimator-id-4\" type=\"checkbox\" checked><label for=\"sk-estimator-id-4\" class=\"sk-toggleable__label sk-toggleable__label-arrow\">LinearRegression</label><div class=\"sk-toggleable__content\"><pre>LinearRegression()</pre></div></div></div></div></div>"
      ],
      "text/plain": [
       "LinearRegression()"
      ]
     },
     "execution_count": 45,
     "metadata": {},
     "output_type": "execute_result"
    }
   ],
   "source": [
    "model2 = LinearRegression(fit_intercept = True)\n",
    "model2.fit(X2_train, y2_train)"
   ]
  },
  {
   "cell_type": "code",
   "execution_count": 46,
   "id": "1748c43c",
   "metadata": {},
   "outputs": [
    {
     "data": {
      "text/plain": [
       "0.8580892707297321"
      ]
     },
     "execution_count": 46,
     "metadata": {},
     "output_type": "execute_result"
    },
    {
     "data": {
      "text/plain": [
       "array([10572.42070164,  -212.30889735,  -100.98829263, -1339.48535974,\n",
       "          28.72790744,   207.71501298])"
      ]
     },
     "execution_count": 46,
     "metadata": {},
     "output_type": "execute_result"
    },
    {
     "data": {
      "text/plain": [
       "21184.40695343088"
      ]
     },
     "execution_count": 46,
     "metadata": {},
     "output_type": "execute_result"
    }
   ],
   "source": [
    "# The following gives the R-square score on train data\n",
    "model2.score(X2_train, y2_train) \n",
    "\n",
    "# This is the coefficient Beta_1, ..., Beta_7\n",
    "model2.coef_\n",
    "\n",
    "# This is the coefficient Beta_0\n",
    "model2.intercept_"
   ]
  },
  {
   "cell_type": "markdown",
   "id": "506dc8a8",
   "metadata": {},
   "source": [
    "The R-square score for model2 is approximately 0.858, which means that about 85.8% of the variance in the dependent variable is explained by the model. This is a strong score that suggests a good fit of the model to the data, especially in the context of multiple regression where more than one independent variable is used to predict the outcome."
   ]
  },
  {
   "cell_type": "code",
   "execution_count": 251,
   "id": "961d2906",
   "metadata": {},
   "outputs": [
    {
     "data": {
      "text/plain": [
       "0.8623985511113466"
      ]
     },
     "execution_count": 251,
     "metadata": {},
     "output_type": "execute_result"
    }
   ],
   "source": [
    "# The following gives the R-square score on train data\n",
    "model2.score(X2_test, y2_test) "
   ]
  },
  {
   "cell_type": "code",
   "execution_count": 57,
   "id": "546c68a9",
   "metadata": {},
   "outputs": [],
   "source": [
    "test_output2 = pd.DataFrame(model2.predict(X2_test), index = X2_test.index, columns = ['pred_price'])"
   ]
  },
  {
   "cell_type": "code",
   "execution_count": 58,
   "id": "97c1f426",
   "metadata": {},
   "outputs": [
    {
     "data": {
      "text/html": [
       "<div>\n",
       "<style scoped>\n",
       "    .dataframe tbody tr th:only-of-type {\n",
       "        vertical-align: middle;\n",
       "    }\n",
       "\n",
       "    .dataframe tbody tr th {\n",
       "        vertical-align: top;\n",
       "    }\n",
       "\n",
       "    .dataframe thead th {\n",
       "        text-align: right;\n",
       "    }\n",
       "</style>\n",
       "<table border=\"1\" class=\"dataframe\">\n",
       "  <thead>\n",
       "    <tr style=\"text-align: right;\">\n",
       "      <th></th>\n",
       "      <th>pred_price</th>\n",
       "    </tr>\n",
       "  </thead>\n",
       "  <tbody>\n",
       "    <tr>\n",
       "      <th>44751</th>\n",
       "      <td>1,610.14</td>\n",
       "    </tr>\n",
       "    <tr>\n",
       "      <th>22963</th>\n",
       "      <td>14,107.90</td>\n",
       "    </tr>\n",
       "    <tr>\n",
       "      <th>9078</th>\n",
       "      <td>5,692.50</td>\n",
       "    </tr>\n",
       "    <tr>\n",
       "      <th>26148</th>\n",
       "      <td>15,113.80</td>\n",
       "    </tr>\n",
       "    <tr>\n",
       "      <th>29451</th>\n",
       "      <td>606.29</td>\n",
       "    </tr>\n",
       "  </tbody>\n",
       "</table>\n",
       "</div>"
      ],
      "text/plain": [
       "       pred_price\n",
       "44751    1,610.14\n",
       "22963   14,107.90\n",
       "9078     5,692.50\n",
       "26148   15,113.80\n",
       "29451      606.29"
      ]
     },
     "execution_count": 58,
     "metadata": {},
     "output_type": "execute_result"
    }
   ],
   "source": [
    "test_output2.head()"
   ]
  },
  {
   "cell_type": "code",
   "execution_count": 59,
   "id": "c9cc069f",
   "metadata": {},
   "outputs": [
    {
     "data": {
      "text/html": [
       "<div>\n",
       "<style scoped>\n",
       "    .dataframe tbody tr th:only-of-type {\n",
       "        vertical-align: middle;\n",
       "    }\n",
       "\n",
       "    .dataframe tbody tr th {\n",
       "        vertical-align: top;\n",
       "    }\n",
       "\n",
       "    .dataframe thead th {\n",
       "        text-align: right;\n",
       "    }\n",
       "</style>\n",
       "<table border=\"1\" class=\"dataframe\">\n",
       "  <thead>\n",
       "    <tr style=\"text-align: right;\">\n",
       "      <th></th>\n",
       "      <th>pred_price</th>\n",
       "      <th>price</th>\n",
       "    </tr>\n",
       "  </thead>\n",
       "  <tbody>\n",
       "    <tr>\n",
       "      <th>44751</th>\n",
       "      <td>1,610.14</td>\n",
       "      <td>1619</td>\n",
       "    </tr>\n",
       "    <tr>\n",
       "      <th>22963</th>\n",
       "      <td>14,107.90</td>\n",
       "      <td>11011</td>\n",
       "    </tr>\n",
       "    <tr>\n",
       "      <th>9078</th>\n",
       "      <td>5,692.50</td>\n",
       "      <td>4521</td>\n",
       "    </tr>\n",
       "    <tr>\n",
       "      <th>26148</th>\n",
       "      <td>15,113.80</td>\n",
       "      <td>15454</td>\n",
       "    </tr>\n",
       "    <tr>\n",
       "      <th>29451</th>\n",
       "      <td>606.29</td>\n",
       "      <td>702</td>\n",
       "    </tr>\n",
       "  </tbody>\n",
       "</table>\n",
       "</div>"
      ],
      "text/plain": [
       "       pred_price  price\n",
       "44751    1,610.14   1619\n",
       "22963   14,107.90  11011\n",
       "9078     5,692.50   4521\n",
       "26148   15,113.80  15454\n",
       "29451      606.29    702"
      ]
     },
     "execution_count": 59,
     "metadata": {},
     "output_type": "execute_result"
    },
    {
     "name": "stdout",
     "output_type": "stream",
     "text": [
      "Mean absolute error is \n",
      "882.599634844387\n"
     ]
    }
   ],
   "source": [
    "test_output2 = test_output2.merge(y2_test, left_index = True, right_index = True)\n",
    "test_output2.head()\n",
    "mean_absolute_error2 = abs(test_output2['pred_price'] - test_output2['price']).mean()\n",
    "print('Mean absolute error is ')\n",
    "print(mean_absolute_error2)"
   ]
  },
  {
   "cell_type": "code",
   "execution_count": 60,
   "id": "b6995dff",
   "metadata": {},
   "outputs": [],
   "source": [
    "average_price_test2 = y2_test.mean()"
   ]
  },
  {
   "cell_type": "code",
   "execution_count": 61,
   "id": "07c78a85",
   "metadata": {},
   "outputs": [
    {
     "name": "stdout",
     "output_type": "stream",
     "text": [
      "Fraction of MAE to Average Price: 0.224624322523597\n"
     ]
    }
   ],
   "source": [
    "fraction_mae2 = mean_absolute_error2 / average_price_test2\n",
    "print(\"Fraction of MAE to Average Price:\", fraction_mae2)"
   ]
  },
  {
   "cell_type": "markdown",
   "id": "071cf7e0",
   "metadata": {},
   "source": [
    "This fraction indicates that the mean absolute error is about 22.5% of the average price in the test set.\n",
    "\n",
    "Comparison with SLR\n",
    "For the SLR model, the reported MAE was approximately 998.5, and the fraction of MAE to the average price was about 25.4%. Compared to these values, the MLR model has shown an improvement in both the absolute size of the error (a lower MAE) and the error relative to the average price (a lower fraction).\n",
    "\n",
    "Conclusion\n",
    "Yes, the predictions in the test set have improved with the MLR model compared to the SLR model. The reduction in both the MAE and its fraction to the average price indicates that incorporating multiple features into the model has enhanced its predictive accuracy, leading to closer predictions to the actual values and a reduction in the average error magnitude relative to the price scale."
   ]
  },
  {
   "cell_type": "markdown",
   "id": "1807c570",
   "metadata": {},
   "source": [
    "Multiple Linear Regression with Categorical Values"
   ]
  },
  {
   "cell_type": "code",
   "execution_count": 197,
   "id": "e78a8f5d",
   "metadata": {},
   "outputs": [
    {
     "data": {
      "text/html": [
       "<div>\n",
       "<style scoped>\n",
       "    .dataframe tbody tr th:only-of-type {\n",
       "        vertical-align: middle;\n",
       "    }\n",
       "\n",
       "    .dataframe tbody tr th {\n",
       "        vertical-align: top;\n",
       "    }\n",
       "\n",
       "    .dataframe thead th {\n",
       "        text-align: right;\n",
       "    }\n",
       "</style>\n",
       "<table border=\"1\" class=\"dataframe\">\n",
       "  <thead>\n",
       "    <tr style=\"text-align: right;\">\n",
       "      <th></th>\n",
       "      <th>carat</th>\n",
       "      <th>cut</th>\n",
       "      <th>color</th>\n",
       "      <th>clarity</th>\n",
       "      <th>depth</th>\n",
       "      <th>table</th>\n",
       "      <th>x</th>\n",
       "      <th>y</th>\n",
       "      <th>z</th>\n",
       "    </tr>\n",
       "  </thead>\n",
       "  <tbody>\n",
       "    <tr>\n",
       "      <th>0</th>\n",
       "      <td>0.23</td>\n",
       "      <td>Ideal</td>\n",
       "      <td>E</td>\n",
       "      <td>SI2</td>\n",
       "      <td>61.50</td>\n",
       "      <td>55.00</td>\n",
       "      <td>3.95</td>\n",
       "      <td>3.98</td>\n",
       "      <td>2.43</td>\n",
       "    </tr>\n",
       "    <tr>\n",
       "      <th>1</th>\n",
       "      <td>0.21</td>\n",
       "      <td>Premium</td>\n",
       "      <td>E</td>\n",
       "      <td>SI1</td>\n",
       "      <td>59.80</td>\n",
       "      <td>61.00</td>\n",
       "      <td>3.89</td>\n",
       "      <td>3.84</td>\n",
       "      <td>2.31</td>\n",
       "    </tr>\n",
       "    <tr>\n",
       "      <th>2</th>\n",
       "      <td>0.23</td>\n",
       "      <td>Good</td>\n",
       "      <td>E</td>\n",
       "      <td>VS1</td>\n",
       "      <td>56.90</td>\n",
       "      <td>65.00</td>\n",
       "      <td>4.05</td>\n",
       "      <td>4.07</td>\n",
       "      <td>2.31</td>\n",
       "    </tr>\n",
       "    <tr>\n",
       "      <th>3</th>\n",
       "      <td>0.29</td>\n",
       "      <td>Premium</td>\n",
       "      <td>I</td>\n",
       "      <td>VS2</td>\n",
       "      <td>62.40</td>\n",
       "      <td>58.00</td>\n",
       "      <td>4.20</td>\n",
       "      <td>4.23</td>\n",
       "      <td>2.63</td>\n",
       "    </tr>\n",
       "    <tr>\n",
       "      <th>4</th>\n",
       "      <td>0.31</td>\n",
       "      <td>Good</td>\n",
       "      <td>J</td>\n",
       "      <td>SI2</td>\n",
       "      <td>63.30</td>\n",
       "      <td>58.00</td>\n",
       "      <td>4.34</td>\n",
       "      <td>4.35</td>\n",
       "      <td>2.75</td>\n",
       "    </tr>\n",
       "  </tbody>\n",
       "</table>\n",
       "</div>"
      ],
      "text/plain": [
       "   carat      cut color clarity  depth  table    x    y    z\n",
       "0   0.23    Ideal     E     SI2  61.50  55.00 3.95 3.98 2.43\n",
       "1   0.21  Premium     E     SI1  59.80  61.00 3.89 3.84 2.31\n",
       "2   0.23     Good     E     VS1  56.90  65.00 4.05 4.07 2.31\n",
       "3   0.29  Premium     I     VS2  62.40  58.00 4.20 4.23 2.63\n",
       "4   0.31     Good     J     SI2  63.30  58.00 4.34 4.35 2.75"
      ]
     },
     "execution_count": 197,
     "metadata": {},
     "output_type": "execute_result"
    }
   ],
   "source": [
    "X3 = diamonds_data.drop(columns = ['price'], axis=1)\n",
    "X3.head()"
   ]
  },
  {
   "cell_type": "code",
   "execution_count": 198,
   "id": "e4b03409",
   "metadata": {},
   "outputs": [
    {
     "data": {
      "text/plain": [
       "0    326\n",
       "1    326\n",
       "2    327\n",
       "3    334\n",
       "4    335\n",
       "Name: price, dtype: int64"
      ]
     },
     "execution_count": 198,
     "metadata": {},
     "output_type": "execute_result"
    }
   ],
   "source": [
    "Y3 = diamonds_data['price']\n",
    "Y3.head()"
   ]
  },
  {
   "cell_type": "code",
   "execution_count": 199,
   "id": "32217c3e",
   "metadata": {},
   "outputs": [
    {
     "name": "stdout",
     "output_type": "stream",
     "text": [
      "['Ideal' 'Premium' 'Good' 'Very Good' 'Fair']\n",
      "['E' 'I' 'J' 'H' 'F' 'G' 'D']\n",
      "['SI2' 'SI1' 'VS1' 'VS2' 'VVS2' 'VVS1' 'I1' 'IF']\n"
     ]
    }
   ],
   "source": [
    "print(diamonds_data['cut'].unique()) \n",
    "print(diamonds_data['color'].unique())\n",
    "print(diamonds_data['clarity'].unique())"
   ]
  },
  {
   "cell_type": "code",
   "execution_count": 200,
   "id": "9864ce5f",
   "metadata": {},
   "outputs": [
    {
     "data": {
      "text/plain": [
       "cut\n",
       "Ideal        21551\n",
       "Premium      13791\n",
       "Very Good    12082\n",
       "Good          4906\n",
       "Fair          1610\n",
       "Name: count, dtype: int64"
      ]
     },
     "execution_count": 200,
     "metadata": {},
     "output_type": "execute_result"
    },
    {
     "data": {
      "text/plain": [
       "color\n",
       "G    11292\n",
       "E     9797\n",
       "F     9542\n",
       "H     8304\n",
       "D     6775\n",
       "I     5422\n",
       "J     2808\n",
       "Name: count, dtype: int64"
      ]
     },
     "execution_count": 200,
     "metadata": {},
     "output_type": "execute_result"
    },
    {
     "data": {
      "text/plain": [
       "clarity\n",
       "SI1     13065\n",
       "VS2     12258\n",
       "SI2      9194\n",
       "VS1      8171\n",
       "VVS2     5066\n",
       "VVS1     3655\n",
       "IF       1790\n",
       "I1        741\n",
       "Name: count, dtype: int64"
      ]
     },
     "execution_count": 200,
     "metadata": {},
     "output_type": "execute_result"
    }
   ],
   "source": [
    "diamonds_data['cut'].value_counts() \n",
    "diamonds_data['color'].value_counts() \n",
    "diamonds_data['clarity'].value_counts()"
   ]
  },
  {
   "cell_type": "code",
   "execution_count": 201,
   "id": "cdb0fd69",
   "metadata": {},
   "outputs": [],
   "source": [
    "from sklearn.preprocessing import OneHotEncoder\n",
    "\n",
    "def get_ohe(df, col):\n",
    "    ohe = OneHotEncoder(drop='first', handle_unknown='error', sparse_output=False, dtype='int')\n",
    "    ohe.fit(df[[col]])\n",
    "    temp_df = pd.DataFrame(data=ohe.transform(df[[col]]), columns=ohe.get_feature_names_out())\n",
    "    # If you have a newer version, replace with columns=ohe.get_feature_names_out()\n",
    "    df.drop(columns=[col], axis=1, inplace=True)\n",
    "    df = pd.concat([df.reset_index(drop=True), temp_df], axis=1)\n",
    "    return df"
   ]
  },
  {
   "cell_type": "code",
   "execution_count": 202,
   "id": "b74e1acd",
   "metadata": {},
   "outputs": [
    {
     "data": {
      "text/html": [
       "<div>\n",
       "<style scoped>\n",
       "    .dataframe tbody tr th:only-of-type {\n",
       "        vertical-align: middle;\n",
       "    }\n",
       "\n",
       "    .dataframe tbody tr th {\n",
       "        vertical-align: top;\n",
       "    }\n",
       "\n",
       "    .dataframe thead th {\n",
       "        text-align: right;\n",
       "    }\n",
       "</style>\n",
       "<table border=\"1\" class=\"dataframe\">\n",
       "  <thead>\n",
       "    <tr style=\"text-align: right;\">\n",
       "      <th></th>\n",
       "      <th>carat</th>\n",
       "      <th>depth</th>\n",
       "      <th>table</th>\n",
       "      <th>x</th>\n",
       "      <th>y</th>\n",
       "      <th>z</th>\n",
       "      <th>cut_Good</th>\n",
       "      <th>cut_Ideal</th>\n",
       "      <th>cut_Premium</th>\n",
       "      <th>cut_Very Good</th>\n",
       "      <th>...</th>\n",
       "      <th>color_H</th>\n",
       "      <th>color_I</th>\n",
       "      <th>color_J</th>\n",
       "      <th>clarity_IF</th>\n",
       "      <th>clarity_SI1</th>\n",
       "      <th>clarity_SI2</th>\n",
       "      <th>clarity_VS1</th>\n",
       "      <th>clarity_VS2</th>\n",
       "      <th>clarity_VVS1</th>\n",
       "      <th>clarity_VVS2</th>\n",
       "    </tr>\n",
       "  </thead>\n",
       "  <tbody>\n",
       "    <tr>\n",
       "      <th>0</th>\n",
       "      <td>0.23</td>\n",
       "      <td>61.50</td>\n",
       "      <td>55.00</td>\n",
       "      <td>3.95</td>\n",
       "      <td>3.98</td>\n",
       "      <td>2.43</td>\n",
       "      <td>0</td>\n",
       "      <td>1</td>\n",
       "      <td>0</td>\n",
       "      <td>0</td>\n",
       "      <td>...</td>\n",
       "      <td>0</td>\n",
       "      <td>0</td>\n",
       "      <td>0</td>\n",
       "      <td>0</td>\n",
       "      <td>0</td>\n",
       "      <td>1</td>\n",
       "      <td>0</td>\n",
       "      <td>0</td>\n",
       "      <td>0</td>\n",
       "      <td>0</td>\n",
       "    </tr>\n",
       "    <tr>\n",
       "      <th>1</th>\n",
       "      <td>0.21</td>\n",
       "      <td>59.80</td>\n",
       "      <td>61.00</td>\n",
       "      <td>3.89</td>\n",
       "      <td>3.84</td>\n",
       "      <td>2.31</td>\n",
       "      <td>0</td>\n",
       "      <td>0</td>\n",
       "      <td>1</td>\n",
       "      <td>0</td>\n",
       "      <td>...</td>\n",
       "      <td>0</td>\n",
       "      <td>0</td>\n",
       "      <td>0</td>\n",
       "      <td>0</td>\n",
       "      <td>1</td>\n",
       "      <td>0</td>\n",
       "      <td>0</td>\n",
       "      <td>0</td>\n",
       "      <td>0</td>\n",
       "      <td>0</td>\n",
       "    </tr>\n",
       "    <tr>\n",
       "      <th>2</th>\n",
       "      <td>0.23</td>\n",
       "      <td>56.90</td>\n",
       "      <td>65.00</td>\n",
       "      <td>4.05</td>\n",
       "      <td>4.07</td>\n",
       "      <td>2.31</td>\n",
       "      <td>1</td>\n",
       "      <td>0</td>\n",
       "      <td>0</td>\n",
       "      <td>0</td>\n",
       "      <td>...</td>\n",
       "      <td>0</td>\n",
       "      <td>0</td>\n",
       "      <td>0</td>\n",
       "      <td>0</td>\n",
       "      <td>0</td>\n",
       "      <td>0</td>\n",
       "      <td>1</td>\n",
       "      <td>0</td>\n",
       "      <td>0</td>\n",
       "      <td>0</td>\n",
       "    </tr>\n",
       "    <tr>\n",
       "      <th>3</th>\n",
       "      <td>0.29</td>\n",
       "      <td>62.40</td>\n",
       "      <td>58.00</td>\n",
       "      <td>4.20</td>\n",
       "      <td>4.23</td>\n",
       "      <td>2.63</td>\n",
       "      <td>0</td>\n",
       "      <td>0</td>\n",
       "      <td>1</td>\n",
       "      <td>0</td>\n",
       "      <td>...</td>\n",
       "      <td>0</td>\n",
       "      <td>1</td>\n",
       "      <td>0</td>\n",
       "      <td>0</td>\n",
       "      <td>0</td>\n",
       "      <td>0</td>\n",
       "      <td>0</td>\n",
       "      <td>1</td>\n",
       "      <td>0</td>\n",
       "      <td>0</td>\n",
       "    </tr>\n",
       "    <tr>\n",
       "      <th>4</th>\n",
       "      <td>0.31</td>\n",
       "      <td>63.30</td>\n",
       "      <td>58.00</td>\n",
       "      <td>4.34</td>\n",
       "      <td>4.35</td>\n",
       "      <td>2.75</td>\n",
       "      <td>1</td>\n",
       "      <td>0</td>\n",
       "      <td>0</td>\n",
       "      <td>0</td>\n",
       "      <td>...</td>\n",
       "      <td>0</td>\n",
       "      <td>0</td>\n",
       "      <td>1</td>\n",
       "      <td>0</td>\n",
       "      <td>0</td>\n",
       "      <td>1</td>\n",
       "      <td>0</td>\n",
       "      <td>0</td>\n",
       "      <td>0</td>\n",
       "      <td>0</td>\n",
       "    </tr>\n",
       "    <tr>\n",
       "      <th>5</th>\n",
       "      <td>0.24</td>\n",
       "      <td>62.80</td>\n",
       "      <td>57.00</td>\n",
       "      <td>3.94</td>\n",
       "      <td>3.96</td>\n",
       "      <td>2.48</td>\n",
       "      <td>0</td>\n",
       "      <td>0</td>\n",
       "      <td>0</td>\n",
       "      <td>1</td>\n",
       "      <td>...</td>\n",
       "      <td>0</td>\n",
       "      <td>0</td>\n",
       "      <td>1</td>\n",
       "      <td>0</td>\n",
       "      <td>0</td>\n",
       "      <td>0</td>\n",
       "      <td>0</td>\n",
       "      <td>0</td>\n",
       "      <td>0</td>\n",
       "      <td>1</td>\n",
       "    </tr>\n",
       "    <tr>\n",
       "      <th>6</th>\n",
       "      <td>0.24</td>\n",
       "      <td>62.30</td>\n",
       "      <td>57.00</td>\n",
       "      <td>3.95</td>\n",
       "      <td>3.98</td>\n",
       "      <td>2.47</td>\n",
       "      <td>0</td>\n",
       "      <td>0</td>\n",
       "      <td>0</td>\n",
       "      <td>1</td>\n",
       "      <td>...</td>\n",
       "      <td>0</td>\n",
       "      <td>1</td>\n",
       "      <td>0</td>\n",
       "      <td>0</td>\n",
       "      <td>0</td>\n",
       "      <td>0</td>\n",
       "      <td>0</td>\n",
       "      <td>0</td>\n",
       "      <td>1</td>\n",
       "      <td>0</td>\n",
       "    </tr>\n",
       "    <tr>\n",
       "      <th>7</th>\n",
       "      <td>0.26</td>\n",
       "      <td>61.90</td>\n",
       "      <td>55.00</td>\n",
       "      <td>4.07</td>\n",
       "      <td>4.11</td>\n",
       "      <td>2.53</td>\n",
       "      <td>0</td>\n",
       "      <td>0</td>\n",
       "      <td>0</td>\n",
       "      <td>1</td>\n",
       "      <td>...</td>\n",
       "      <td>1</td>\n",
       "      <td>0</td>\n",
       "      <td>0</td>\n",
       "      <td>0</td>\n",
       "      <td>1</td>\n",
       "      <td>0</td>\n",
       "      <td>0</td>\n",
       "      <td>0</td>\n",
       "      <td>0</td>\n",
       "      <td>0</td>\n",
       "    </tr>\n",
       "    <tr>\n",
       "      <th>8</th>\n",
       "      <td>0.22</td>\n",
       "      <td>65.10</td>\n",
       "      <td>61.00</td>\n",
       "      <td>3.87</td>\n",
       "      <td>3.78</td>\n",
       "      <td>2.49</td>\n",
       "      <td>0</td>\n",
       "      <td>0</td>\n",
       "      <td>0</td>\n",
       "      <td>0</td>\n",
       "      <td>...</td>\n",
       "      <td>0</td>\n",
       "      <td>0</td>\n",
       "      <td>0</td>\n",
       "      <td>0</td>\n",
       "      <td>0</td>\n",
       "      <td>0</td>\n",
       "      <td>0</td>\n",
       "      <td>1</td>\n",
       "      <td>0</td>\n",
       "      <td>0</td>\n",
       "    </tr>\n",
       "    <tr>\n",
       "      <th>9</th>\n",
       "      <td>0.23</td>\n",
       "      <td>59.40</td>\n",
       "      <td>61.00</td>\n",
       "      <td>4.00</td>\n",
       "      <td>4.05</td>\n",
       "      <td>2.39</td>\n",
       "      <td>0</td>\n",
       "      <td>0</td>\n",
       "      <td>0</td>\n",
       "      <td>1</td>\n",
       "      <td>...</td>\n",
       "      <td>1</td>\n",
       "      <td>0</td>\n",
       "      <td>0</td>\n",
       "      <td>0</td>\n",
       "      <td>0</td>\n",
       "      <td>0</td>\n",
       "      <td>1</td>\n",
       "      <td>0</td>\n",
       "      <td>0</td>\n",
       "      <td>0</td>\n",
       "    </tr>\n",
       "    <tr>\n",
       "      <th>10</th>\n",
       "      <td>0.30</td>\n",
       "      <td>64.00</td>\n",
       "      <td>55.00</td>\n",
       "      <td>4.25</td>\n",
       "      <td>4.28</td>\n",
       "      <td>2.73</td>\n",
       "      <td>1</td>\n",
       "      <td>0</td>\n",
       "      <td>0</td>\n",
       "      <td>0</td>\n",
       "      <td>...</td>\n",
       "      <td>0</td>\n",
       "      <td>0</td>\n",
       "      <td>1</td>\n",
       "      <td>0</td>\n",
       "      <td>1</td>\n",
       "      <td>0</td>\n",
       "      <td>0</td>\n",
       "      <td>0</td>\n",
       "      <td>0</td>\n",
       "      <td>0</td>\n",
       "    </tr>\n",
       "    <tr>\n",
       "      <th>11</th>\n",
       "      <td>0.23</td>\n",
       "      <td>62.80</td>\n",
       "      <td>56.00</td>\n",
       "      <td>3.93</td>\n",
       "      <td>3.90</td>\n",
       "      <td>2.46</td>\n",
       "      <td>0</td>\n",
       "      <td>1</td>\n",
       "      <td>0</td>\n",
       "      <td>0</td>\n",
       "      <td>...</td>\n",
       "      <td>0</td>\n",
       "      <td>0</td>\n",
       "      <td>1</td>\n",
       "      <td>0</td>\n",
       "      <td>0</td>\n",
       "      <td>0</td>\n",
       "      <td>1</td>\n",
       "      <td>0</td>\n",
       "      <td>0</td>\n",
       "      <td>0</td>\n",
       "    </tr>\n",
       "    <tr>\n",
       "      <th>12</th>\n",
       "      <td>0.22</td>\n",
       "      <td>60.40</td>\n",
       "      <td>61.00</td>\n",
       "      <td>3.88</td>\n",
       "      <td>3.84</td>\n",
       "      <td>2.33</td>\n",
       "      <td>0</td>\n",
       "      <td>0</td>\n",
       "      <td>1</td>\n",
       "      <td>0</td>\n",
       "      <td>...</td>\n",
       "      <td>0</td>\n",
       "      <td>0</td>\n",
       "      <td>0</td>\n",
       "      <td>0</td>\n",
       "      <td>1</td>\n",
       "      <td>0</td>\n",
       "      <td>0</td>\n",
       "      <td>0</td>\n",
       "      <td>0</td>\n",
       "      <td>0</td>\n",
       "    </tr>\n",
       "    <tr>\n",
       "      <th>13</th>\n",
       "      <td>0.31</td>\n",
       "      <td>62.20</td>\n",
       "      <td>54.00</td>\n",
       "      <td>4.35</td>\n",
       "      <td>4.37</td>\n",
       "      <td>2.71</td>\n",
       "      <td>0</td>\n",
       "      <td>1</td>\n",
       "      <td>0</td>\n",
       "      <td>0</td>\n",
       "      <td>...</td>\n",
       "      <td>0</td>\n",
       "      <td>0</td>\n",
       "      <td>1</td>\n",
       "      <td>0</td>\n",
       "      <td>0</td>\n",
       "      <td>1</td>\n",
       "      <td>0</td>\n",
       "      <td>0</td>\n",
       "      <td>0</td>\n",
       "      <td>0</td>\n",
       "    </tr>\n",
       "    <tr>\n",
       "      <th>14</th>\n",
       "      <td>0.20</td>\n",
       "      <td>60.20</td>\n",
       "      <td>62.00</td>\n",
       "      <td>3.79</td>\n",
       "      <td>3.75</td>\n",
       "      <td>2.27</td>\n",
       "      <td>0</td>\n",
       "      <td>0</td>\n",
       "      <td>1</td>\n",
       "      <td>0</td>\n",
       "      <td>...</td>\n",
       "      <td>0</td>\n",
       "      <td>0</td>\n",
       "      <td>0</td>\n",
       "      <td>0</td>\n",
       "      <td>0</td>\n",
       "      <td>1</td>\n",
       "      <td>0</td>\n",
       "      <td>0</td>\n",
       "      <td>0</td>\n",
       "      <td>0</td>\n",
       "    </tr>\n",
       "    <tr>\n",
       "      <th>15</th>\n",
       "      <td>0.32</td>\n",
       "      <td>60.90</td>\n",
       "      <td>58.00</td>\n",
       "      <td>4.38</td>\n",
       "      <td>4.42</td>\n",
       "      <td>2.68</td>\n",
       "      <td>0</td>\n",
       "      <td>0</td>\n",
       "      <td>1</td>\n",
       "      <td>0</td>\n",
       "      <td>...</td>\n",
       "      <td>0</td>\n",
       "      <td>0</td>\n",
       "      <td>0</td>\n",
       "      <td>0</td>\n",
       "      <td>0</td>\n",
       "      <td>0</td>\n",
       "      <td>0</td>\n",
       "      <td>0</td>\n",
       "      <td>0</td>\n",
       "      <td>0</td>\n",
       "    </tr>\n",
       "    <tr>\n",
       "      <th>16</th>\n",
       "      <td>0.30</td>\n",
       "      <td>62.00</td>\n",
       "      <td>54.00</td>\n",
       "      <td>4.31</td>\n",
       "      <td>4.34</td>\n",
       "      <td>2.68</td>\n",
       "      <td>0</td>\n",
       "      <td>1</td>\n",
       "      <td>0</td>\n",
       "      <td>0</td>\n",
       "      <td>...</td>\n",
       "      <td>0</td>\n",
       "      <td>1</td>\n",
       "      <td>0</td>\n",
       "      <td>0</td>\n",
       "      <td>0</td>\n",
       "      <td>1</td>\n",
       "      <td>0</td>\n",
       "      <td>0</td>\n",
       "      <td>0</td>\n",
       "      <td>0</td>\n",
       "    </tr>\n",
       "    <tr>\n",
       "      <th>17</th>\n",
       "      <td>0.30</td>\n",
       "      <td>63.40</td>\n",
       "      <td>54.00</td>\n",
       "      <td>4.23</td>\n",
       "      <td>4.29</td>\n",
       "      <td>2.70</td>\n",
       "      <td>1</td>\n",
       "      <td>0</td>\n",
       "      <td>0</td>\n",
       "      <td>0</td>\n",
       "      <td>...</td>\n",
       "      <td>0</td>\n",
       "      <td>0</td>\n",
       "      <td>1</td>\n",
       "      <td>0</td>\n",
       "      <td>1</td>\n",
       "      <td>0</td>\n",
       "      <td>0</td>\n",
       "      <td>0</td>\n",
       "      <td>0</td>\n",
       "      <td>0</td>\n",
       "    </tr>\n",
       "    <tr>\n",
       "      <th>18</th>\n",
       "      <td>0.30</td>\n",
       "      <td>63.80</td>\n",
       "      <td>56.00</td>\n",
       "      <td>4.23</td>\n",
       "      <td>4.26</td>\n",
       "      <td>2.71</td>\n",
       "      <td>1</td>\n",
       "      <td>0</td>\n",
       "      <td>0</td>\n",
       "      <td>0</td>\n",
       "      <td>...</td>\n",
       "      <td>0</td>\n",
       "      <td>0</td>\n",
       "      <td>1</td>\n",
       "      <td>0</td>\n",
       "      <td>1</td>\n",
       "      <td>0</td>\n",
       "      <td>0</td>\n",
       "      <td>0</td>\n",
       "      <td>0</td>\n",
       "      <td>0</td>\n",
       "    </tr>\n",
       "    <tr>\n",
       "      <th>19</th>\n",
       "      <td>0.30</td>\n",
       "      <td>62.70</td>\n",
       "      <td>59.00</td>\n",
       "      <td>4.21</td>\n",
       "      <td>4.27</td>\n",
       "      <td>2.66</td>\n",
       "      <td>0</td>\n",
       "      <td>0</td>\n",
       "      <td>0</td>\n",
       "      <td>1</td>\n",
       "      <td>...</td>\n",
       "      <td>0</td>\n",
       "      <td>0</td>\n",
       "      <td>1</td>\n",
       "      <td>0</td>\n",
       "      <td>1</td>\n",
       "      <td>0</td>\n",
       "      <td>0</td>\n",
       "      <td>0</td>\n",
       "      <td>0</td>\n",
       "      <td>0</td>\n",
       "    </tr>\n",
       "  </tbody>\n",
       "</table>\n",
       "<p>20 rows × 23 columns</p>\n",
       "</div>"
      ],
      "text/plain": [
       "    carat  depth  table    x    y    z  cut_Good  cut_Ideal  cut_Premium  \\\n",
       "0    0.23  61.50  55.00 3.95 3.98 2.43         0          1            0   \n",
       "1    0.21  59.80  61.00 3.89 3.84 2.31         0          0            1   \n",
       "2    0.23  56.90  65.00 4.05 4.07 2.31         1          0            0   \n",
       "3    0.29  62.40  58.00 4.20 4.23 2.63         0          0            1   \n",
       "4    0.31  63.30  58.00 4.34 4.35 2.75         1          0            0   \n",
       "5    0.24  62.80  57.00 3.94 3.96 2.48         0          0            0   \n",
       "6    0.24  62.30  57.00 3.95 3.98 2.47         0          0            0   \n",
       "7    0.26  61.90  55.00 4.07 4.11 2.53         0          0            0   \n",
       "8    0.22  65.10  61.00 3.87 3.78 2.49         0          0            0   \n",
       "9    0.23  59.40  61.00 4.00 4.05 2.39         0          0            0   \n",
       "10   0.30  64.00  55.00 4.25 4.28 2.73         1          0            0   \n",
       "11   0.23  62.80  56.00 3.93 3.90 2.46         0          1            0   \n",
       "12   0.22  60.40  61.00 3.88 3.84 2.33         0          0            1   \n",
       "13   0.31  62.20  54.00 4.35 4.37 2.71         0          1            0   \n",
       "14   0.20  60.20  62.00 3.79 3.75 2.27         0          0            1   \n",
       "15   0.32  60.90  58.00 4.38 4.42 2.68         0          0            1   \n",
       "16   0.30  62.00  54.00 4.31 4.34 2.68         0          1            0   \n",
       "17   0.30  63.40  54.00 4.23 4.29 2.70         1          0            0   \n",
       "18   0.30  63.80  56.00 4.23 4.26 2.71         1          0            0   \n",
       "19   0.30  62.70  59.00 4.21 4.27 2.66         0          0            0   \n",
       "\n",
       "    cut_Very Good  ...  color_H  color_I  color_J  clarity_IF  clarity_SI1  \\\n",
       "0               0  ...        0        0        0           0            0   \n",
       "1               0  ...        0        0        0           0            1   \n",
       "2               0  ...        0        0        0           0            0   \n",
       "3               0  ...        0        1        0           0            0   \n",
       "4               0  ...        0        0        1           0            0   \n",
       "5               1  ...        0        0        1           0            0   \n",
       "6               1  ...        0        1        0           0            0   \n",
       "7               1  ...        1        0        0           0            1   \n",
       "8               0  ...        0        0        0           0            0   \n",
       "9               1  ...        1        0        0           0            0   \n",
       "10              0  ...        0        0        1           0            1   \n",
       "11              0  ...        0        0        1           0            0   \n",
       "12              0  ...        0        0        0           0            1   \n",
       "13              0  ...        0        0        1           0            0   \n",
       "14              0  ...        0        0        0           0            0   \n",
       "15              0  ...        0        0        0           0            0   \n",
       "16              0  ...        0        1        0           0            0   \n",
       "17              0  ...        0        0        1           0            1   \n",
       "18              0  ...        0        0        1           0            1   \n",
       "19              1  ...        0        0        1           0            1   \n",
       "\n",
       "    clarity_SI2  clarity_VS1  clarity_VS2  clarity_VVS1  clarity_VVS2  \n",
       "0             1            0            0             0             0  \n",
       "1             0            0            0             0             0  \n",
       "2             0            1            0             0             0  \n",
       "3             0            0            1             0             0  \n",
       "4             1            0            0             0             0  \n",
       "5             0            0            0             0             1  \n",
       "6             0            0            0             1             0  \n",
       "7             0            0            0             0             0  \n",
       "8             0            0            1             0             0  \n",
       "9             0            1            0             0             0  \n",
       "10            0            0            0             0             0  \n",
       "11            0            1            0             0             0  \n",
       "12            0            0            0             0             0  \n",
       "13            1            0            0             0             0  \n",
       "14            1            0            0             0             0  \n",
       "15            0            0            0             0             0  \n",
       "16            1            0            0             0             0  \n",
       "17            0            0            0             0             0  \n",
       "18            0            0            0             0             0  \n",
       "19            0            0            0             0             0  \n",
       "\n",
       "[20 rows x 23 columns]"
      ]
     },
     "execution_count": 202,
     "metadata": {},
     "output_type": "execute_result"
    }
   ],
   "source": [
    "X3 = get_ohe(X3, 'cut')\n",
    "X3 = get_ohe(X3, 'color')\n",
    "X3 = get_ohe(X3, 'clarity')\n",
    "\n",
    "X3.head(20)\n"
   ]
  },
  {
   "cell_type": "markdown",
   "id": "0d33bf18",
   "metadata": {},
   "source": [
    "Here's how we determine the number of columns in the eventual set after one-hot encoding:\n",
    "\n",
    "let's consider the unique categories in each of the encoded categorical columns minus one (since we're dropping the first column):\n",
    "\n",
    "'cut': If it originally has 5 unique values (Fair, Good, Very Good, Premium, Ideal), one-hot encoding with drop='first' will result in 4 columns.\n",
    "'color': If it has 7 unique values (D through J), one-hot encoding with drop='first' will result in 6 columns.\n",
    "'clarity': If it has 8 unique values (I1, SI2, SI1, VS2, VS1, VVS2, VVS1, IF), one-hot encoding with drop='first' will result in 7 columns.\n",
    "\n",
    "Total Columns After Encoding\n",
    "Original non-encoded columns: 6\n",
    "Encoded columns for 'cut': 4\n",
    "Encoded columns for 'color': 6\n",
    "Encoded columns for 'clarity': 7\n",
    "Total = 6 (original) + 4 (cut) + 6 (color) + 7 (clarity) = 23 columns\n",
    "\n",
    "23 independent columns + 1 dependent column = 24 total columns in the dataset  \n"
   ]
  },
  {
   "cell_type": "code",
   "execution_count": 204,
   "id": "06b0069a",
   "metadata": {},
   "outputs": [],
   "source": [
    "X3_train, X3_test, y3_train, y3_test = train_test_split(X3, Y3, test_size=0.25, random_state = 50)"
   ]
  },
  {
   "cell_type": "code",
   "execution_count": 205,
   "id": "49c54f1b",
   "metadata": {},
   "outputs": [
    {
     "data": {
      "text/html": [
       "<style>#sk-container-id-11 {color: black;}#sk-container-id-11 pre{padding: 0;}#sk-container-id-11 div.sk-toggleable {background-color: white;}#sk-container-id-11 label.sk-toggleable__label {cursor: pointer;display: block;width: 100%;margin-bottom: 0;padding: 0.3em;box-sizing: border-box;text-align: center;}#sk-container-id-11 label.sk-toggleable__label-arrow:before {content: \"▸\";float: left;margin-right: 0.25em;color: #696969;}#sk-container-id-11 label.sk-toggleable__label-arrow:hover:before {color: black;}#sk-container-id-11 div.sk-estimator:hover label.sk-toggleable__label-arrow:before {color: black;}#sk-container-id-11 div.sk-toggleable__content {max-height: 0;max-width: 0;overflow: hidden;text-align: left;background-color: #f0f8ff;}#sk-container-id-11 div.sk-toggleable__content pre {margin: 0.2em;color: black;border-radius: 0.25em;background-color: #f0f8ff;}#sk-container-id-11 input.sk-toggleable__control:checked~div.sk-toggleable__content {max-height: 200px;max-width: 100%;overflow: auto;}#sk-container-id-11 input.sk-toggleable__control:checked~label.sk-toggleable__label-arrow:before {content: \"▾\";}#sk-container-id-11 div.sk-estimator input.sk-toggleable__control:checked~label.sk-toggleable__label {background-color: #d4ebff;}#sk-container-id-11 div.sk-label input.sk-toggleable__control:checked~label.sk-toggleable__label {background-color: #d4ebff;}#sk-container-id-11 input.sk-hidden--visually {border: 0;clip: rect(1px 1px 1px 1px);clip: rect(1px, 1px, 1px, 1px);height: 1px;margin: -1px;overflow: hidden;padding: 0;position: absolute;width: 1px;}#sk-container-id-11 div.sk-estimator {font-family: monospace;background-color: #f0f8ff;border: 1px dotted black;border-radius: 0.25em;box-sizing: border-box;margin-bottom: 0.5em;}#sk-container-id-11 div.sk-estimator:hover {background-color: #d4ebff;}#sk-container-id-11 div.sk-parallel-item::after {content: \"\";width: 100%;border-bottom: 1px solid gray;flex-grow: 1;}#sk-container-id-11 div.sk-label:hover label.sk-toggleable__label {background-color: #d4ebff;}#sk-container-id-11 div.sk-serial::before {content: \"\";position: absolute;border-left: 1px solid gray;box-sizing: border-box;top: 0;bottom: 0;left: 50%;z-index: 0;}#sk-container-id-11 div.sk-serial {display: flex;flex-direction: column;align-items: center;background-color: white;padding-right: 0.2em;padding-left: 0.2em;position: relative;}#sk-container-id-11 div.sk-item {position: relative;z-index: 1;}#sk-container-id-11 div.sk-parallel {display: flex;align-items: stretch;justify-content: center;background-color: white;position: relative;}#sk-container-id-11 div.sk-item::before, #sk-container-id-11 div.sk-parallel-item::before {content: \"\";position: absolute;border-left: 1px solid gray;box-sizing: border-box;top: 0;bottom: 0;left: 50%;z-index: -1;}#sk-container-id-11 div.sk-parallel-item {display: flex;flex-direction: column;z-index: 1;position: relative;background-color: white;}#sk-container-id-11 div.sk-parallel-item:first-child::after {align-self: flex-end;width: 50%;}#sk-container-id-11 div.sk-parallel-item:last-child::after {align-self: flex-start;width: 50%;}#sk-container-id-11 div.sk-parallel-item:only-child::after {width: 0;}#sk-container-id-11 div.sk-dashed-wrapped {border: 1px dashed gray;margin: 0 0.4em 0.5em 0.4em;box-sizing: border-box;padding-bottom: 0.4em;background-color: white;}#sk-container-id-11 div.sk-label label {font-family: monospace;font-weight: bold;display: inline-block;line-height: 1.2em;}#sk-container-id-11 div.sk-label-container {text-align: center;}#sk-container-id-11 div.sk-container {/* jupyter's `normalize.less` sets `[hidden] { display: none; }` but bootstrap.min.css set `[hidden] { display: none !important; }` so we also need the `!important` here to be able to override the default hidden behavior on the sphinx rendered scikit-learn.org. See: https://github.com/scikit-learn/scikit-learn/issues/21755 */display: inline-block !important;position: relative;}#sk-container-id-11 div.sk-text-repr-fallback {display: none;}</style><div id=\"sk-container-id-11\" class=\"sk-top-container\"><div class=\"sk-text-repr-fallback\"><pre>LinearRegression()</pre><b>In a Jupyter environment, please rerun this cell to show the HTML representation or trust the notebook. <br />On GitHub, the HTML representation is unable to render, please try loading this page with nbviewer.org.</b></div><div class=\"sk-container\" hidden><div class=\"sk-item\"><div class=\"sk-estimator sk-toggleable\"><input class=\"sk-toggleable__control sk-hidden--visually\" id=\"sk-estimator-id-11\" type=\"checkbox\" checked><label for=\"sk-estimator-id-11\" class=\"sk-toggleable__label sk-toggleable__label-arrow\">LinearRegression</label><div class=\"sk-toggleable__content\"><pre>LinearRegression()</pre></div></div></div></div></div>"
      ],
      "text/plain": [
       "LinearRegression()"
      ]
     },
     "execution_count": 205,
     "metadata": {},
     "output_type": "execute_result"
    }
   ],
   "source": [
    "model3 = LinearRegression(fit_intercept = True)\n",
    "model3.fit(X3_train, y3_train)"
   ]
  },
  {
   "cell_type": "code",
   "execution_count": 206,
   "id": "161d3a4f",
   "metadata": {},
   "outputs": [
    {
     "data": {
      "text/plain": [
       "0.9197535054831985"
      ]
     },
     "execution_count": 206,
     "metadata": {},
     "output_type": "execute_result"
    },
    {
     "data": {
      "text/plain": [
       "array([ 1.11814801e+04, -5.85181599e+01, -2.43103736e+01, -9.47154791e+02,\n",
       "        4.71160598e+00, -9.21343078e+01,  5.64156045e+02,  8.35219660e+02,\n",
       "        7.65684380e+02,  7.33319794e+02, -2.25861063e+02, -2.76687793e+02,\n",
       "       -4.79782911e+02, -9.73649105e+02, -1.46411040e+03, -2.39532202e+03,\n",
       "        5.45238205e+03,  3.78052359e+03,  2.82037545e+03,  4.70977853e+03,\n",
       "        4.38909093e+03,  5.12101322e+03,  5.07443217e+03])"
      ]
     },
     "execution_count": 206,
     "metadata": {},
     "output_type": "execute_result"
    },
    {
     "data": {
      "text/plain": [
       "1499.3392254312134"
      ]
     },
     "execution_count": 206,
     "metadata": {},
     "output_type": "execute_result"
    }
   ],
   "source": [
    "# The following gives the R-square score on train data\n",
    "model3.score(X3_train, y3_train) \n",
    "\n",
    "# This is the coefficient Beta_1, ..., Beta_26\n",
    "model3.coef_\n",
    "\n",
    "# This is the coefficient Beta_0\n",
    "model3.intercept_"
   ]
  },
  {
   "cell_type": "markdown",
   "id": "08043ef5",
   "metadata": {},
   "source": [
    "The enhanced multiple linear regression model, incorporating extra features like categorical data, significantly improves our result interpretation compared to its predecessor. It achieves a score close to 0.920, signifying a robust fit. The intercept, Beta_0, is estimated to be approximately 1499.339. Each of the model's coefficients indicates the degree to which a particular feature affects the outcome variable. This advancement provides a deeper insight into the various elements affecting predictions, thereby increasing the model's overall usefulness."
   ]
  },
  {
   "cell_type": "code",
   "execution_count": 252,
   "id": "b9f37f95",
   "metadata": {},
   "outputs": [
    {
     "data": {
      "text/plain": [
       "0.9197839099301064"
      ]
     },
     "execution_count": 252,
     "metadata": {},
     "output_type": "execute_result"
    }
   ],
   "source": [
    "# The following gives the R-square score on test data\n",
    "model3.score(X3_test, y3_test) "
   ]
  },
  {
   "cell_type": "code",
   "execution_count": 207,
   "id": "a591fb2a",
   "metadata": {},
   "outputs": [],
   "source": [
    "test_output3 = pd.DataFrame(model3.predict(X3_test), index = X3_test.index, columns = ['pred_price'])"
   ]
  },
  {
   "cell_type": "code",
   "execution_count": 208,
   "id": "b795ee3c",
   "metadata": {},
   "outputs": [
    {
     "data": {
      "text/html": [
       "<div>\n",
       "<style scoped>\n",
       "    .dataframe tbody tr th:only-of-type {\n",
       "        vertical-align: middle;\n",
       "    }\n",
       "\n",
       "    .dataframe tbody tr th {\n",
       "        vertical-align: top;\n",
       "    }\n",
       "\n",
       "    .dataframe thead th {\n",
       "        text-align: right;\n",
       "    }\n",
       "</style>\n",
       "<table border=\"1\" class=\"dataframe\">\n",
       "  <thead>\n",
       "    <tr style=\"text-align: right;\">\n",
       "      <th></th>\n",
       "      <th>pred_price</th>\n",
       "    </tr>\n",
       "  </thead>\n",
       "  <tbody>\n",
       "    <tr>\n",
       "      <th>44751</th>\n",
       "      <td>1,952.74</td>\n",
       "    </tr>\n",
       "    <tr>\n",
       "      <th>22963</th>\n",
       "      <td>12,178.85</td>\n",
       "    </tr>\n",
       "    <tr>\n",
       "      <th>9078</th>\n",
       "      <td>5,091.65</td>\n",
       "    </tr>\n",
       "    <tr>\n",
       "      <th>26148</th>\n",
       "      <td>15,140.76</td>\n",
       "    </tr>\n",
       "    <tr>\n",
       "      <th>29451</th>\n",
       "      <td>137.09</td>\n",
       "    </tr>\n",
       "  </tbody>\n",
       "</table>\n",
       "</div>"
      ],
      "text/plain": [
       "       pred_price\n",
       "44751    1,952.74\n",
       "22963   12,178.85\n",
       "9078     5,091.65\n",
       "26148   15,140.76\n",
       "29451      137.09"
      ]
     },
     "execution_count": 208,
     "metadata": {},
     "output_type": "execute_result"
    }
   ],
   "source": [
    "test_output3.head()"
   ]
  },
  {
   "cell_type": "code",
   "execution_count": 209,
   "id": "ba59cd2a",
   "metadata": {},
   "outputs": [
    {
     "data": {
      "text/html": [
       "<div>\n",
       "<style scoped>\n",
       "    .dataframe tbody tr th:only-of-type {\n",
       "        vertical-align: middle;\n",
       "    }\n",
       "\n",
       "    .dataframe tbody tr th {\n",
       "        vertical-align: top;\n",
       "    }\n",
       "\n",
       "    .dataframe thead th {\n",
       "        text-align: right;\n",
       "    }\n",
       "</style>\n",
       "<table border=\"1\" class=\"dataframe\">\n",
       "  <thead>\n",
       "    <tr style=\"text-align: right;\">\n",
       "      <th></th>\n",
       "      <th>pred_price</th>\n",
       "      <th>price</th>\n",
       "    </tr>\n",
       "  </thead>\n",
       "  <tbody>\n",
       "    <tr>\n",
       "      <th>44751</th>\n",
       "      <td>1,952.74</td>\n",
       "      <td>1619</td>\n",
       "    </tr>\n",
       "    <tr>\n",
       "      <th>22963</th>\n",
       "      <td>12,178.85</td>\n",
       "      <td>11011</td>\n",
       "    </tr>\n",
       "    <tr>\n",
       "      <th>9078</th>\n",
       "      <td>5,091.65</td>\n",
       "      <td>4521</td>\n",
       "    </tr>\n",
       "    <tr>\n",
       "      <th>26148</th>\n",
       "      <td>15,140.76</td>\n",
       "      <td>15454</td>\n",
       "    </tr>\n",
       "    <tr>\n",
       "      <th>29451</th>\n",
       "      <td>137.09</td>\n",
       "      <td>702</td>\n",
       "    </tr>\n",
       "  </tbody>\n",
       "</table>\n",
       "</div>"
      ],
      "text/plain": [
       "       pred_price  price\n",
       "44751    1,952.74   1619\n",
       "22963   12,178.85  11011\n",
       "9078     5,091.65   4521\n",
       "26148   15,140.76  15454\n",
       "29451      137.09    702"
      ]
     },
     "execution_count": 209,
     "metadata": {},
     "output_type": "execute_result"
    },
    {
     "name": "stdout",
     "output_type": "stream",
     "text": [
      "Mean absolute error is \n",
      "744.8276400124315\n"
     ]
    }
   ],
   "source": [
    "test_output3 = test_output3.merge(y3_test, left_index = True, right_index = True)\n",
    "test_output3.head()\n",
    "mean_absolute_error3 = abs(test_output3['pred_price'] - test_output3['price']).mean()\n",
    "print('Mean absolute error is ')\n",
    "print(mean_absolute_error3)"
   ]
  },
  {
   "cell_type": "markdown",
   "id": "8fff2535",
   "metadata": {},
   "source": [
    "An MAE of approximately 744.82 indicates that, on average, the model's predictions are about 744.82 units away from the actual values. "
   ]
  },
  {
   "cell_type": "code",
   "execution_count": 210,
   "id": "f4f2c802",
   "metadata": {},
   "outputs": [],
   "source": [
    "average_price_test3 = y3_test.mean()"
   ]
  },
  {
   "cell_type": "code",
   "execution_count": 211,
   "id": "ff3cdd3e",
   "metadata": {},
   "outputs": [
    {
     "name": "stdout",
     "output_type": "stream",
     "text": [
      "Fraction of MAE to Average Price: 0.18956092596179258\n"
     ]
    }
   ],
   "source": [
    "fraction_mae3 = mean_absolute_error3 / average_price_test3\n",
    "print(\"Fraction of MAE to Average Price:\", fraction_mae3)"
   ]
  },
  {
   "cell_type": "markdown",
   "id": "10448e1c",
   "metadata": {},
   "source": [
    "An average absolute error of approximately 745, coupled with its ratio to the mean price being roughly 0.19, indicates that our enhanced model, which includes additional variables, performs commendably in forecasting results. Given that the model now aligns more closely with the data, evidenced by an R-square value close to 0.92, it logically follows that there has been a reduction in predictive errors. This marks a significant enhancement from the previous error ratio of around 0.23, highlighting the beneficial impact of incorporating more variables. Essentially, it signifies an improvement in the predictive accuracy of our model."
   ]
  },
  {
   "cell_type": "markdown",
   "id": "b1dc1be3",
   "metadata": {},
   "source": [
    "Quantile Regression with Categorical Variables"
   ]
  },
  {
   "cell_type": "code",
   "execution_count": 212,
   "id": "6730bafa",
   "metadata": {},
   "outputs": [
    {
     "data": {
      "text/html": [
       "<div>\n",
       "<style scoped>\n",
       "    .dataframe tbody tr th:only-of-type {\n",
       "        vertical-align: middle;\n",
       "    }\n",
       "\n",
       "    .dataframe tbody tr th {\n",
       "        vertical-align: top;\n",
       "    }\n",
       "\n",
       "    .dataframe thead th {\n",
       "        text-align: right;\n",
       "    }\n",
       "</style>\n",
       "<table border=\"1\" class=\"dataframe\">\n",
       "  <thead>\n",
       "    <tr style=\"text-align: right;\">\n",
       "      <th></th>\n",
       "      <th>carat</th>\n",
       "      <th>cut</th>\n",
       "      <th>color</th>\n",
       "      <th>clarity</th>\n",
       "      <th>depth</th>\n",
       "      <th>table</th>\n",
       "      <th>x</th>\n",
       "      <th>y</th>\n",
       "      <th>z</th>\n",
       "    </tr>\n",
       "  </thead>\n",
       "  <tbody>\n",
       "    <tr>\n",
       "      <th>0</th>\n",
       "      <td>0.23</td>\n",
       "      <td>Ideal</td>\n",
       "      <td>E</td>\n",
       "      <td>SI2</td>\n",
       "      <td>61.50</td>\n",
       "      <td>55.00</td>\n",
       "      <td>3.95</td>\n",
       "      <td>3.98</td>\n",
       "      <td>2.43</td>\n",
       "    </tr>\n",
       "    <tr>\n",
       "      <th>1</th>\n",
       "      <td>0.21</td>\n",
       "      <td>Premium</td>\n",
       "      <td>E</td>\n",
       "      <td>SI1</td>\n",
       "      <td>59.80</td>\n",
       "      <td>61.00</td>\n",
       "      <td>3.89</td>\n",
       "      <td>3.84</td>\n",
       "      <td>2.31</td>\n",
       "    </tr>\n",
       "    <tr>\n",
       "      <th>2</th>\n",
       "      <td>0.23</td>\n",
       "      <td>Good</td>\n",
       "      <td>E</td>\n",
       "      <td>VS1</td>\n",
       "      <td>56.90</td>\n",
       "      <td>65.00</td>\n",
       "      <td>4.05</td>\n",
       "      <td>4.07</td>\n",
       "      <td>2.31</td>\n",
       "    </tr>\n",
       "    <tr>\n",
       "      <th>3</th>\n",
       "      <td>0.29</td>\n",
       "      <td>Premium</td>\n",
       "      <td>I</td>\n",
       "      <td>VS2</td>\n",
       "      <td>62.40</td>\n",
       "      <td>58.00</td>\n",
       "      <td>4.20</td>\n",
       "      <td>4.23</td>\n",
       "      <td>2.63</td>\n",
       "    </tr>\n",
       "    <tr>\n",
       "      <th>4</th>\n",
       "      <td>0.31</td>\n",
       "      <td>Good</td>\n",
       "      <td>J</td>\n",
       "      <td>SI2</td>\n",
       "      <td>63.30</td>\n",
       "      <td>58.00</td>\n",
       "      <td>4.34</td>\n",
       "      <td>4.35</td>\n",
       "      <td>2.75</td>\n",
       "    </tr>\n",
       "  </tbody>\n",
       "</table>\n",
       "</div>"
      ],
      "text/plain": [
       "   carat      cut color clarity  depth  table    x    y    z\n",
       "0   0.23    Ideal     E     SI2  61.50  55.00 3.95 3.98 2.43\n",
       "1   0.21  Premium     E     SI1  59.80  61.00 3.89 3.84 2.31\n",
       "2   0.23     Good     E     VS1  56.90  65.00 4.05 4.07 2.31\n",
       "3   0.29  Premium     I     VS2  62.40  58.00 4.20 4.23 2.63\n",
       "4   0.31     Good     J     SI2  63.30  58.00 4.34 4.35 2.75"
      ]
     },
     "execution_count": 212,
     "metadata": {},
     "output_type": "execute_result"
    }
   ],
   "source": [
    "X4 = diamonds_data.drop(columns = ['price'], axis=1)\n",
    "X4.head()"
   ]
  },
  {
   "cell_type": "code",
   "execution_count": 213,
   "id": "addf5caf",
   "metadata": {},
   "outputs": [
    {
     "data": {
      "text/plain": [
       "0    326\n",
       "1    326\n",
       "2    327\n",
       "3    334\n",
       "4    335\n",
       "Name: price, dtype: int64"
      ]
     },
     "execution_count": 213,
     "metadata": {},
     "output_type": "execute_result"
    }
   ],
   "source": [
    "Y4 = diamonds_data['price']\n",
    "Y4.head()"
   ]
  },
  {
   "cell_type": "code",
   "execution_count": 214,
   "id": "bf637e39",
   "metadata": {},
   "outputs": [
    {
     "data": {
      "text/html": [
       "<div>\n",
       "<style scoped>\n",
       "    .dataframe tbody tr th:only-of-type {\n",
       "        vertical-align: middle;\n",
       "    }\n",
       "\n",
       "    .dataframe tbody tr th {\n",
       "        vertical-align: top;\n",
       "    }\n",
       "\n",
       "    .dataframe thead th {\n",
       "        text-align: right;\n",
       "    }\n",
       "</style>\n",
       "<table border=\"1\" class=\"dataframe\">\n",
       "  <thead>\n",
       "    <tr style=\"text-align: right;\">\n",
       "      <th></th>\n",
       "      <th>carat</th>\n",
       "      <th>depth</th>\n",
       "      <th>table</th>\n",
       "      <th>x</th>\n",
       "      <th>y</th>\n",
       "      <th>z</th>\n",
       "      <th>cut_Good</th>\n",
       "      <th>cut_Ideal</th>\n",
       "      <th>cut_Premium</th>\n",
       "      <th>cut_Very Good</th>\n",
       "      <th>...</th>\n",
       "      <th>color_H</th>\n",
       "      <th>color_I</th>\n",
       "      <th>color_J</th>\n",
       "      <th>clarity_IF</th>\n",
       "      <th>clarity_SI1</th>\n",
       "      <th>clarity_SI2</th>\n",
       "      <th>clarity_VS1</th>\n",
       "      <th>clarity_VS2</th>\n",
       "      <th>clarity_VVS1</th>\n",
       "      <th>clarity_VVS2</th>\n",
       "    </tr>\n",
       "  </thead>\n",
       "  <tbody>\n",
       "    <tr>\n",
       "      <th>0</th>\n",
       "      <td>0.23</td>\n",
       "      <td>61.50</td>\n",
       "      <td>55.00</td>\n",
       "      <td>3.95</td>\n",
       "      <td>3.98</td>\n",
       "      <td>2.43</td>\n",
       "      <td>0</td>\n",
       "      <td>1</td>\n",
       "      <td>0</td>\n",
       "      <td>0</td>\n",
       "      <td>...</td>\n",
       "      <td>0</td>\n",
       "      <td>0</td>\n",
       "      <td>0</td>\n",
       "      <td>0</td>\n",
       "      <td>0</td>\n",
       "      <td>1</td>\n",
       "      <td>0</td>\n",
       "      <td>0</td>\n",
       "      <td>0</td>\n",
       "      <td>0</td>\n",
       "    </tr>\n",
       "    <tr>\n",
       "      <th>1</th>\n",
       "      <td>0.21</td>\n",
       "      <td>59.80</td>\n",
       "      <td>61.00</td>\n",
       "      <td>3.89</td>\n",
       "      <td>3.84</td>\n",
       "      <td>2.31</td>\n",
       "      <td>0</td>\n",
       "      <td>0</td>\n",
       "      <td>1</td>\n",
       "      <td>0</td>\n",
       "      <td>...</td>\n",
       "      <td>0</td>\n",
       "      <td>0</td>\n",
       "      <td>0</td>\n",
       "      <td>0</td>\n",
       "      <td>1</td>\n",
       "      <td>0</td>\n",
       "      <td>0</td>\n",
       "      <td>0</td>\n",
       "      <td>0</td>\n",
       "      <td>0</td>\n",
       "    </tr>\n",
       "    <tr>\n",
       "      <th>2</th>\n",
       "      <td>0.23</td>\n",
       "      <td>56.90</td>\n",
       "      <td>65.00</td>\n",
       "      <td>4.05</td>\n",
       "      <td>4.07</td>\n",
       "      <td>2.31</td>\n",
       "      <td>1</td>\n",
       "      <td>0</td>\n",
       "      <td>0</td>\n",
       "      <td>0</td>\n",
       "      <td>...</td>\n",
       "      <td>0</td>\n",
       "      <td>0</td>\n",
       "      <td>0</td>\n",
       "      <td>0</td>\n",
       "      <td>0</td>\n",
       "      <td>0</td>\n",
       "      <td>1</td>\n",
       "      <td>0</td>\n",
       "      <td>0</td>\n",
       "      <td>0</td>\n",
       "    </tr>\n",
       "    <tr>\n",
       "      <th>3</th>\n",
       "      <td>0.29</td>\n",
       "      <td>62.40</td>\n",
       "      <td>58.00</td>\n",
       "      <td>4.20</td>\n",
       "      <td>4.23</td>\n",
       "      <td>2.63</td>\n",
       "      <td>0</td>\n",
       "      <td>0</td>\n",
       "      <td>1</td>\n",
       "      <td>0</td>\n",
       "      <td>...</td>\n",
       "      <td>0</td>\n",
       "      <td>1</td>\n",
       "      <td>0</td>\n",
       "      <td>0</td>\n",
       "      <td>0</td>\n",
       "      <td>0</td>\n",
       "      <td>0</td>\n",
       "      <td>1</td>\n",
       "      <td>0</td>\n",
       "      <td>0</td>\n",
       "    </tr>\n",
       "    <tr>\n",
       "      <th>4</th>\n",
       "      <td>0.31</td>\n",
       "      <td>63.30</td>\n",
       "      <td>58.00</td>\n",
       "      <td>4.34</td>\n",
       "      <td>4.35</td>\n",
       "      <td>2.75</td>\n",
       "      <td>1</td>\n",
       "      <td>0</td>\n",
       "      <td>0</td>\n",
       "      <td>0</td>\n",
       "      <td>...</td>\n",
       "      <td>0</td>\n",
       "      <td>0</td>\n",
       "      <td>1</td>\n",
       "      <td>0</td>\n",
       "      <td>0</td>\n",
       "      <td>1</td>\n",
       "      <td>0</td>\n",
       "      <td>0</td>\n",
       "      <td>0</td>\n",
       "      <td>0</td>\n",
       "    </tr>\n",
       "  </tbody>\n",
       "</table>\n",
       "<p>5 rows × 23 columns</p>\n",
       "</div>"
      ],
      "text/plain": [
       "   carat  depth  table    x    y    z  cut_Good  cut_Ideal  cut_Premium  \\\n",
       "0   0.23  61.50  55.00 3.95 3.98 2.43         0          1            0   \n",
       "1   0.21  59.80  61.00 3.89 3.84 2.31         0          0            1   \n",
       "2   0.23  56.90  65.00 4.05 4.07 2.31         1          0            0   \n",
       "3   0.29  62.40  58.00 4.20 4.23 2.63         0          0            1   \n",
       "4   0.31  63.30  58.00 4.34 4.35 2.75         1          0            0   \n",
       "\n",
       "   cut_Very Good  ...  color_H  color_I  color_J  clarity_IF  clarity_SI1  \\\n",
       "0              0  ...        0        0        0           0            0   \n",
       "1              0  ...        0        0        0           0            1   \n",
       "2              0  ...        0        0        0           0            0   \n",
       "3              0  ...        0        1        0           0            0   \n",
       "4              0  ...        0        0        1           0            0   \n",
       "\n",
       "   clarity_SI2  clarity_VS1  clarity_VS2  clarity_VVS1  clarity_VVS2  \n",
       "0            1            0            0             0             0  \n",
       "1            0            0            0             0             0  \n",
       "2            0            1            0             0             0  \n",
       "3            0            0            1             0             0  \n",
       "4            1            0            0             0             0  \n",
       "\n",
       "[5 rows x 23 columns]"
      ]
     },
     "execution_count": 214,
     "metadata": {},
     "output_type": "execute_result"
    }
   ],
   "source": [
    "X4 = get_ohe(X4, 'cut')\n",
    "X4 = get_ohe(X4, 'color')\n",
    "X4 = get_ohe(X4, 'clarity')\n",
    "\n",
    "X4.head()"
   ]
  },
  {
   "cell_type": "code",
   "execution_count": 215,
   "id": "0957f6a9",
   "metadata": {},
   "outputs": [],
   "source": [
    "X4_train, X4_test, y4_train, y4_test = train_test_split(X4, Y4, test_size=0.25, random_state = 50)"
   ]
  },
  {
   "cell_type": "code",
   "execution_count": 217,
   "id": "8c91cb8b",
   "metadata": {},
   "outputs": [],
   "source": [
    "import statsmodels.formula.api as smf\n",
    "import statsmodels.api as sm"
   ]
  },
  {
   "cell_type": "code",
   "execution_count": 253,
   "id": "f894dfac",
   "metadata": {},
   "outputs": [
    {
     "name": "stdout",
     "output_type": "stream",
     "text": [
      "                         QuantReg Regression Results                          \n",
      "==============================================================================\n",
      "Dep. Variable:                  price   Pseudo R-squared:               0.7709\n",
      "Model:                       QuantReg   Bandwidth:                       54.45\n",
      "Method:                 Least Squares   Sparsity:                        946.8\n",
      "Date:                Mon, 12 Feb 2024   No. Observations:                53940\n",
      "Time:                        22:41:29   Df Residuals:                    53917\n",
      "                                        Df Model:                           23\n",
      "=================================================================================\n",
      "                    coef    std err          t      P>|t|      [0.025      0.975]\n",
      "---------------------------------------------------------------------------------\n",
      "carat          1.293e+04     19.211    672.807      0.000    1.29e+04     1.3e+04\n",
      "depth            55.0542      0.839     65.585      0.000      53.409      56.699\n",
      "table           -20.2867      0.898    -22.591      0.000     -22.047     -18.527\n",
      "x              -559.4452     12.904    -43.353      0.000    -584.738    -534.152\n",
      "y               131.1420      8.078     16.234      0.000     115.308     146.976\n",
      "z             -2586.5157     13.423   -192.698      0.000   -2612.824   -2560.207\n",
      "cut_Good        358.7946     13.718     26.155      0.000     331.907     385.682\n",
      "cut_Ideal       520.4984     12.547     41.485      0.000     495.907     545.090\n",
      "cut_Premium     504.3973     12.709     39.688      0.000     479.487     529.307\n",
      "cut_Very Good   423.3799     12.733     33.251      0.000     398.424     448.336\n",
      "color_E        -138.8535      7.493    -18.530      0.000    -153.541    -124.167\n",
      "color_F        -205.8204      7.578    -27.160      0.000    -220.673    -190.967\n",
      "color_G        -271.0289      7.421    -36.520      0.000    -285.575    -256.483\n",
      "color_H        -482.3621      7.891    -61.132      0.000    -497.828    -466.897\n",
      "color_I        -842.1548      8.865    -94.997      0.000    -859.530    -824.779\n",
      "color_J       -1632.7617     10.946   -149.160      0.000   -1654.217   -1611.307\n",
      "clarity_IF     3311.2173     21.181    156.328      0.000    3269.702    3352.733\n",
      "clarity_SI1    2582.9559     18.183    142.054      0.000    2547.317    2618.594\n",
      "clarity_SI2    1899.7364     18.250    104.095      0.000    1863.966    1935.507\n",
      "clarity_VS1    3040.0118     18.526    164.098      0.000    3003.702    3076.322\n",
      "clarity_VS2    2910.6472     18.250    159.484      0.000    2874.876    2946.418\n",
      "clarity_VVS1   3197.3169     19.584    163.260      0.000    3158.932    3235.702\n",
      "clarity_VVS2   3168.3902     19.055    166.274      0.000    3131.042    3205.739\n",
      "=================================================================================\n",
      "\n",
      "The condition number is large, 1.99e+03. This might indicate that there are\n",
      "strong multicollinearity or other numerical problems.\n"
     ]
    }
   ],
   "source": [
    "# Create the quantile regression model\n",
    "mod = sm.QuantReg(Y4, X4)\n",
    "# Fit the model using the desired quantile\n",
    "res = mod.fit(q=0.5)  # For median (50th percentile)\n",
    "\n",
    "# Display the results\n",
    "print(res.summary())\n"
   ]
  },
  {
   "cell_type": "code",
   "execution_count": 259,
   "id": "5d9678fa",
   "metadata": {},
   "outputs": [],
   "source": [
    "# Calculate predicted prices\n",
    "# Assuming 'res' is the result object from fitting your quantile regression model\n",
    "predicted_prices = X4_test.dot(res.params)"
   ]
  },
  {
   "cell_type": "code",
   "execution_count": 262,
   "id": "ae9dc819",
   "metadata": {},
   "outputs": [
    {
     "data": {
      "text/html": [
       "<div>\n",
       "<style scoped>\n",
       "    .dataframe tbody tr th:only-of-type {\n",
       "        vertical-align: middle;\n",
       "    }\n",
       "\n",
       "    .dataframe tbody tr th {\n",
       "        vertical-align: top;\n",
       "    }\n",
       "\n",
       "    .dataframe thead th {\n",
       "        text-align: right;\n",
       "    }\n",
       "</style>\n",
       "<table border=\"1\" class=\"dataframe\">\n",
       "  <thead>\n",
       "    <tr style=\"text-align: right;\">\n",
       "      <th></th>\n",
       "      <th>pred_price</th>\n",
       "      <th>price</th>\n",
       "    </tr>\n",
       "  </thead>\n",
       "  <tbody>\n",
       "    <tr>\n",
       "      <th>44751</th>\n",
       "      <td>1,680.79</td>\n",
       "      <td>1619</td>\n",
       "    </tr>\n",
       "    <tr>\n",
       "      <th>22963</th>\n",
       "      <td>12,603.92</td>\n",
       "      <td>11011</td>\n",
       "    </tr>\n",
       "    <tr>\n",
       "      <th>9078</th>\n",
       "      <td>5,096.39</td>\n",
       "      <td>4521</td>\n",
       "    </tr>\n",
       "    <tr>\n",
       "      <th>26148</th>\n",
       "      <td>15,062.74</td>\n",
       "      <td>15454</td>\n",
       "    </tr>\n",
       "    <tr>\n",
       "      <th>29451</th>\n",
       "      <td>430.84</td>\n",
       "      <td>702</td>\n",
       "    </tr>\n",
       "  </tbody>\n",
       "</table>\n",
       "</div>"
      ],
      "text/plain": [
       "       pred_price  price\n",
       "44751    1,680.79   1619\n",
       "22963   12,603.92  11011\n",
       "9078     5,096.39   4521\n",
       "26148   15,062.74  15454\n",
       "29451      430.84    702"
      ]
     },
     "execution_count": 262,
     "metadata": {},
     "output_type": "execute_result"
    }
   ],
   "source": [
    "import pandas as pd\n",
    "\n",
    "# Create a DataFrame with predictions\n",
    "test_output4 = pd.DataFrame(predicted_prices, columns=['pred_price'])\n",
    "test_output4 = test_output4.merge(y4_test, left_index = True, right_index = True)\n",
    "test_output4.head()"
   ]
  },
  {
   "cell_type": "code",
   "execution_count": 267,
   "id": "6afcc80d",
   "metadata": {},
   "outputs": [
    {
     "name": "stdout",
     "output_type": "stream",
     "text": [
      "Mean absolute error is \n",
      "644.5251556319222\n"
     ]
    }
   ],
   "source": [
    "mean_absolute_error4 = abs(test_output4['pred_price'] - test_output4['price']).mean()\n",
    "print('Mean absolute error is ')\n",
    "print(mean_absolute_error4)"
   ]
  },
  {
   "cell_type": "code",
   "execution_count": 268,
   "id": "7043cdba",
   "metadata": {},
   "outputs": [],
   "source": [
    "average_price_test4 = y4_test.mean()"
   ]
  },
  {
   "cell_type": "code",
   "execution_count": 269,
   "id": "9a747b2f",
   "metadata": {},
   "outputs": [
    {
     "name": "stdout",
     "output_type": "stream",
     "text": [
      "Fraction of MAE to Average Price: 0.1640336350906855\n"
     ]
    }
   ],
   "source": [
    "fraction_mae4 = mean_absolute_error4 / average_price_test4\n",
    "print(\"Fraction of MAE to Average Price:\", fraction_mae4)"
   ]
  },
  {
   "cell_type": "markdown",
   "id": "6fac33de",
   "metadata": {},
   "source": []
  }
 ],
 "metadata": {
  "kernelspec": {
   "display_name": "Python 3 (ipykernel)",
   "language": "python",
   "name": "python3"
  },
  "language_info": {
   "codemirror_mode": {
    "name": "ipython",
    "version": 3
   },
   "file_extension": ".py",
   "mimetype": "text/x-python",
   "name": "python",
   "nbconvert_exporter": "python",
   "pygments_lexer": "ipython3",
   "version": "3.11.8"
  }
 },
 "nbformat": 4,
 "nbformat_minor": 5
}
