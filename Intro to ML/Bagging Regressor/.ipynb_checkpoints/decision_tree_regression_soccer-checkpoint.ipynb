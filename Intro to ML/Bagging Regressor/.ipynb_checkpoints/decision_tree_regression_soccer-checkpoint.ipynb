{
 "cells": [
  {
   "cell_type": "code",
   "execution_count": null,
   "metadata": {
    "code_folding": [
     0
    ]
   },
   "outputs": [],
   "source": [
    "# Generic inputs for most ML tasks\n",
    "import pandas as pd\n",
    "import numpy as np\n",
    "import matplotlib.pyplot as plt\n",
    "from sklearn.model_selection import train_test_split\n",
    "from sklearn.linear_model import LinearRegression\n",
    "from sklearn.linear_model import Ridge\n",
    "from sklearn.linear_model import Lasso\n",
    "from sklearn import tree\n",
    "from sklearn.tree import DecisionTreeClassifier\n",
    "from sklearn.tree import DecisionTreeRegressor\n",
    "from sklearn.ensemble import RandomForestRegressor\n",
    "\n",
    "pd.options.display.float_format = '{:,.2f}'.format\n",
    "\n",
    "# setup interactive notebook mode\n",
    "from IPython.core.interactiveshell import InteractiveShell\n",
    "InteractiveShell.ast_node_interactivity = \"all\"\n",
    "\n",
    "from IPython.display import display, HTML"
   ]
  },
  {
   "cell_type": "markdown",
   "metadata": {},
   "source": [
    "#### Read and pre-process data"
   ]
  },
  {
   "cell_type": "code",
   "execution_count": null,
   "metadata": {
    "code_folding": [
     0
    ]
   },
   "outputs": [],
   "source": [
    "# fetch data \n",
    "\n",
    "soccer_data = pd.read_csv('Kaggle_Data/footbal_FIFA_subset.csv')\n",
    "\n",
    "soccer_data.head()"
   ]
  },
  {
   "cell_type": "code",
   "execution_count": null,
   "metadata": {},
   "outputs": [],
   "source": [
    "soccer_data.dtypes"
   ]
  },
  {
   "cell_type": "code",
   "execution_count": null,
   "metadata": {},
   "outputs": [],
   "source": [
    "soccer_data['Wage'] = soccer_data['Wage'].str[1:]\n",
    "soccer_data['Wage'] = soccer_data['Wage'].str.replace('K', '000')\n",
    "soccer_data['Wage'] = soccer_data['Wage'].astype(np.int64)\n",
    "soccer_data.head()\n",
    "soccer_data.dtypes"
   ]
  },
  {
   "cell_type": "code",
   "execution_count": null,
   "metadata": {},
   "outputs": [],
   "source": [
    "# subset data to only include columns for Normal Sale Condition\n",
    "\n",
    "len(soccer_data)\n",
    "\n",
    "subset_data = soccer_data[soccer_data['Wage'] > 10000]\n",
    "\n",
    "subset_data.head()\n",
    "\n",
    "len(subset_data)"
   ]
  },
  {
   "cell_type": "code",
   "execution_count": null,
   "metadata": {},
   "outputs": [],
   "source": [
    "subset_data.isna().sum()"
   ]
  },
  {
   "cell_type": "code",
   "execution_count": null,
   "metadata": {},
   "outputs": [],
   "source": [
    "subset_data.columns"
   ]
  },
  {
   "cell_type": "code",
   "execution_count": null,
   "metadata": {},
   "outputs": [],
   "source": [
    "if True: \n",
    "    subset_data.drop(columns = ['Agility', 'Stamina', 'Penalties'], inplace = True)\n",
    "    # subset_data.drop(columns = ['Agility', 'Age', 'Penalties'], inplace = True)\n",
    "    # subset_data.drop(columns = ['Agility', 'Age', 'Stamina'], inplace = True)"
   ]
  },
  {
   "cell_type": "code",
   "execution_count": null,
   "metadata": {},
   "outputs": [],
   "source": [
    "for col in subset_data.drop(columns = ['Wage']).columns:\n",
    "    plt.scatter(subset_data[col], subset_data['Wage'], color = 'red', marker = 'o')\n",
    "    plt.xlabel(col)\n",
    "    plt.ylabel('Wage')\n",
    "    plt.show()"
   ]
  },
  {
   "cell_type": "code",
   "execution_count": null,
   "metadata": {},
   "outputs": [],
   "source": [
    "X_train, X_test, y_train, y_test = train_test_split(subset_data.drop(columns = ['Wage']), subset_data['Wage'], test_size=0.25, random_state=35)\n",
    "\n",
    "X_train\n",
    "X_test\n",
    "y_train\n",
    "y_test"
   ]
  },
  {
   "cell_type": "code",
   "execution_count": null,
   "metadata": {},
   "outputs": [],
   "source": [
    "clf = DecisionTreeRegressor(random_state=50, min_samples_leaf = 3)\n",
    "\n",
    "clf = clf.fit(X_train, y_train) \n"
   ]
  },
  {
   "cell_type": "code",
   "execution_count": null,
   "metadata": {},
   "outputs": [],
   "source": [
    "from sklearn.tree import export_text\n",
    "r = export_text(clf)\n",
    "print(r)"
   ]
  },
  {
   "cell_type": "code",
   "execution_count": null,
   "metadata": {},
   "outputs": [],
   "source": [
    "clf.feature_importances_"
   ]
  },
  {
   "cell_type": "code",
   "execution_count": null,
   "metadata": {},
   "outputs": [],
   "source": [
    "test_output = pd.DataFrame(clf.predict(X_test), index = X_test.index, columns = ['pred_Wage'])\n",
    "test_output.head()"
   ]
  },
  {
   "cell_type": "code",
   "execution_count": null,
   "metadata": {},
   "outputs": [],
   "source": [
    "test_output = test_output.merge(y_test, left_index = True, right_index = True)\n",
    "test_output.head()\n",
    "mean_absolute_error = abs(test_output['pred_Wage'] - test_output['Wage']).mean()\n",
    "print('Mean absolute error is ')\n",
    "print(mean_absolute_error)"
   ]
  },
  {
   "cell_type": "code",
   "execution_count": null,
   "metadata": {},
   "outputs": [],
   "source": [
    "abs(test_output['pred_Wage'] - test_output['Wage']).mean()/test_output['Wage'].mean()\n"
   ]
  },
  {
   "cell_type": "markdown",
   "metadata": {},
   "source": [
    "#### Visualize data"
   ]
  },
  {
   "cell_type": "code",
   "execution_count": null,
   "metadata": {
    "code_folding": [
     0
    ]
   },
   "outputs": [],
   "source": [
    "# define function to import viz libraries\n",
    "import plotly\n",
    "plotly.offline.init_notebook_mode(connected=True)\n",
    "from plotly.graph_objs import *\n",
    "from plotly import tools\n",
    "import plotly.graph_objects as go\n",
    "import seaborn as sns"
   ]
  },
  {
   "cell_type": "code",
   "execution_count": null,
   "metadata": {},
   "outputs": [],
   "source": [
    "if False: \n",
    "    cols = X_train.columns\n",
    "    for col in cols:\n",
    "        plot_data = []\n",
    "        plot_data.append(go.Scatter(x= X_train[col], y= y_train, name = 'Train data actual', mode = 'markers'))\n",
    "        plot_data.append(go.Scatter(x= X_train[col], y= clf.predict(X_train), name = 'Train data predicted', mode = 'markers'))\n",
    "        layout = go.Layout(xaxis = dict(title=col), yaxis = dict(title= 'Wage'), \n",
    "                           title = 'Plot of predicted and actual')\n",
    "        fig = go.Figure(data= plot_data, layout=layout)\n",
    "        plotly.offline.iplot(fig)\n",
    "\n",
    "        plot_data = []\n",
    "        plot_data.append(go.Scatter(x= X_test[col], y= y_test, name = 'Test data actual', mode = 'markers'))\n",
    "        plot_data.append(go.Scatter(x= X_test[col], y= clf.predict(X_test), name = 'Test data predicted', mode = 'markers'))\n",
    "\n",
    "        layout = go.Layout(xaxis = dict(title=col), yaxis = dict(title= 'Wage'), \n",
    "                           title = 'Plot of predicted and actual')\n",
    "        fig = go.Figure(data= plot_data, layout=layout)\n",
    "        plotly.offline.iplot(fig)\n"
   ]
  },
  {
   "cell_type": "code",
   "execution_count": null,
   "metadata": {},
   "outputs": [],
   "source": [
    "if False: \n",
    "    plot_data = []\n",
    "    plot_data.append(go.Scatter(x= X_train['Overall'], y= X_train['Age'], name = 'Train data actual', mode = 'markers'))\n",
    "    layout = go.Layout(xaxis = dict(title='Overall'), yaxis = dict(title= 'Age'), \n",
    "                       title = 'Plot of Main Variables')\n",
    "    fig = go.Figure(data= plot_data, layout=layout)\n",
    "    plotly.offline.iplot(fig)\n",
    "\n",
    "\n"
   ]
  }
 ],
 "metadata": {
  "kernelspec": {
   "display_name": "Python 3 (ipykernel)",
   "language": "python",
   "name": "python3"
  },
  "language_info": {
   "codemirror_mode": {
    "name": "ipython",
    "version": 3
   },
   "file_extension": ".py",
   "mimetype": "text/x-python",
   "name": "python",
   "nbconvert_exporter": "python",
   "pygments_lexer": "ipython3",
   "version": "3.9.7"
  }
 },
 "nbformat": 4,
 "nbformat_minor": 2
}
