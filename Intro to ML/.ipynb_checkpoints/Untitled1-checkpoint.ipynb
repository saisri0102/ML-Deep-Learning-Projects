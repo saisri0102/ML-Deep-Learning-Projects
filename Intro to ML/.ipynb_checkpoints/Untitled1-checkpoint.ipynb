{
 "cells": [
  {
   "cell_type": "code",
   "execution_count": 1,
   "id": "791fa4a5-19ad-46ce-9ccd-4443dc4cb6e6",
   "metadata": {},
   "outputs": [
    {
     "name": "stdout",
     "output_type": "stream",
     "text": [
      "t = 0, y = -0.3394112549695428\n",
      "t = 1, y = -0.37442391310493406\n",
      "t = 2, y = -0.4056954512686712\n",
      "t = 3, y = -0.43291341458841814\n",
      "t = 4, y = -0.4558058501717467\n",
      "t = 5, y = -0.4741440243695412\n",
      "t = 6, y = -0.4877447082070119\n",
      "t = 7, y = -0.4964720081470429\n",
      "t = 8, y = -0.5002387238934954\n",
      "t = 9, y = -0.49900721966774153\n",
      "t = 10, y = -0.49278980025292374\n",
      "t = 11, y = -0.48164858804862937\n",
      "t = 12, y = -0.46569490236440864\n",
      "t = 13, y = -0.4450881471540309\n",
      "t = 14, y = -0.4200342183038704\n",
      "t = 15, y = -0.39078344638927054\n",
      "t = 16, y = -0.35762809545418206\n",
      "t = 17, y = -0.3208994428054465\n",
      "t = 18, y = -0.2809644689994519\n",
      "t = 19, y = -0.23822219109371984\n",
      "t = 20, y = -0.19309967580036658\n",
      "t = 21, y = -0.14604777237668226\n",
      "t = 22, y = -0.09753660788838513\n",
      "t = 23, y = -0.04805088985538322\n",
      "t = 24, y = 0.001914936785541256\n",
      "t = 25, y = 0.051861630011098336\n",
      "t = 26, y = 0.10129013897276037\n",
      "t = 27, y = 0.14970659034787498\n",
      "t = 28, y = 0.196627222958653\n",
      "t = 29, y = 0.24158322135394664\n",
      "t = 30, y = 0.2841254000582672\n",
      "t = 31, y = 0.3238286916845761\n",
      "t = 32, y = 0.36029639406710645\n",
      "t = 33, y = 0.39316413397827155\n",
      "t = 34, y = 0.4221035078255097\n",
      "t = 35, y = 0.44682536295142405\n",
      "t = 36, y = 0.4670826867515556\n",
      "t = 37, y = 0.4826730747426742\n",
      "t = 38, y = 0.49344075292146977\n",
      "t = 39, y = 0.499278134206901\n",
      "t = 40, y = 0.5001268934147455\n",
      "t = 41, y = 0.495978550023561\n",
      "t = 42, y = 0.48687455290925225\n",
      "t = 43, y = 0.47290586620160413\n",
      "t = 44, y = 0.4542120604007653\n",
      "t = 45, y = 0.4309799178349474\n",
      "t = 46, y = 0.4034415663931424\n",
      "t = 47, y = 0.37187216017998864\n",
      "t = 48, y = 0.336587130266909\n",
      "t = 49, y = 0.2979390330091156\n",
      "t = 50, y = 0.25631402741904546\n"
     ]
    }
   ],
   "source": [
    "import numpy as np\n",
    "\n",
    "# Constants\n",
    "A = 1  # Amplitude\n",
    "omega = 0.1  # Angular frequency\n",
    "k_over_m = 0.5  # Ratio of spring constant to mass\n",
    "c_over_m = 0.2  # Damping coefficient to mass\n",
    "dt = 1  # Time step\n",
    "\n",
    "# Calculate y for each time step\n",
    "y_values = []\n",
    "t_values = range(0, 51, dt)  # Time values from 0 to 50 with a step of 1\n",
    "\n",
    "for t in t_values:\n",
    "    x = A * np.sin(omega * t)  # Calculate x(t)\n",
    "    dx_dt = A * omega * np.cos(omega * t)  # Calculate dx/dt\n",
    "    y = -k_over_m * x + c_over_m * dx_dt  # Calculate y\n",
    "    y_values.append(y)\n",
    "\n",
    "# Print the values of y\n",
    "for t, y in zip(t_values, y_values):\n",
    "    print(f\"t = {t}, y = {y}\")\n"
   ]
  },
  {
   "cell_type": "code",
   "execution_count": null,
   "id": "2e9379d2-a444-4b05-96aa-9d5ba853d7fa",
   "metadata": {},
   "outputs": [],
   "source": []
  }
 ],
 "metadata": {
  "kernelspec": {
   "display_name": "Python 3 (ipykernel)",
   "language": "python",
   "name": "python3"
  },
  "language_info": {
   "codemirror_mode": {
    "name": "ipython",
    "version": 3
   },
   "file_extension": ".py",
   "mimetype": "text/x-python",
   "name": "python",
   "nbconvert_exporter": "python",
   "pygments_lexer": "ipython3",
   "version": "3.11.8"
  }
 },
 "nbformat": 4,
 "nbformat_minor": 5
}
