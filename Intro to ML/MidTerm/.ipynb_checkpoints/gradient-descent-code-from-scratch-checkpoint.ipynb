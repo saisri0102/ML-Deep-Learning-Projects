{
 "cells": [
  {
   "cell_type": "code",
   "execution_count": 27,
   "id": "480410b3",
   "metadata": {},
   "outputs": [],
   "source": [
    "from sklearn.datasets import make_regression\n",
    "import matplotlib.pyplot as plt\n",
    "import numpy as np\n",
    "from sklearn.model_selection import cross_val_score"
   ]
  },
  {
   "cell_type": "code",
   "execution_count": 28,
   "id": "a720e496",
   "metadata": {},
   "outputs": [],
   "source": [
    "X,y = make_regression(n_samples=100, n_features=1, n_informative=1, n_targets=1,noise=20,random_state=13)"
   ]
  },
  {
   "cell_type": "code",
   "execution_count": 29,
   "id": "74c2a0b8",
   "metadata": {},
   "outputs": [],
   "source": [
    "X = X[0:5]"
   ]
  },
  {
   "cell_type": "code",
   "execution_count": 52,
   "id": "de9126d4",
   "metadata": {},
   "outputs": [
    {
     "data": {
      "text/plain": [
       "array([[-0.71239066],\n",
       "       [-0.43714566],\n",
       "       [-0.45375238],\n",
       "       [ 0.95283061],\n",
       "       [ 0.23785784]])"
      ]
     },
     "execution_count": 52,
     "metadata": {},
     "output_type": "execute_result"
    }
   ],
   "source": [
    "X[0:5]"
   ]
  },
  {
   "cell_type": "code",
   "execution_count": 30,
   "id": "be29fae8",
   "metadata": {},
   "outputs": [],
   "source": [
    "y = y[0:5]"
   ]
  },
  {
   "cell_type": "code",
   "execution_count": 55,
   "id": "f15da892",
   "metadata": {},
   "outputs": [
    {
     "data": {
      "text/plain": [
       "dtype('float64')"
      ]
     },
     "execution_count": 55,
     "metadata": {},
     "output_type": "execute_result"
    }
   ],
   "source": [
    "X.dtype"
   ]
  },
  {
   "cell_type": "code",
   "execution_count": 53,
   "id": "4b64cbf0",
   "metadata": {},
   "outputs": [
    {
     "data": {
      "text/plain": [
       "array([-34.31988063,  -9.42120961, -19.08818775,  20.43721216,\n",
       "        27.7559659 ])"
      ]
     },
     "execution_count": 53,
     "metadata": {},
     "output_type": "execute_result"
    }
   ],
   "source": [
    "y[0:5]"
   ]
  },
  {
   "cell_type": "code",
   "execution_count": 72,
   "id": "19b43e9f",
   "metadata": {},
   "outputs": [
    {
     "name": "stdout",
     "output_type": "stream",
     "text": [
      "[463.39438256 587.88773765 539.55284699 737.17984653 773.77361522]\n",
      "-117.50603677833962\n"
     ]
    }
   ],
   "source": [
    "m = 100\n",
    "learning_rate = 0.001\n",
    "b = -118.7467521499194 \n",
    "mx = m*X\n",
    "print(sum(y-mx-b))\n",
    "print(b - learning_rate * -2 *sum(y - m*X.ravel() - b))"
   ]
  },
  {
   "cell_type": "code",
   "execution_count": 31,
   "id": "623ddc39",
   "metadata": {},
   "outputs": [
    {
     "data": {
      "text/plain": [
       "<matplotlib.collections.PathCollection at 0x17786e5d0>"
      ]
     },
     "execution_count": 31,
     "metadata": {},
     "output_type": "execute_result"
    },
    {
     "data": {
      "image/png": "[encoded data removed]",
      "text/plain": [
       "<Figure size 640x480 with 1 Axes>"
      ]
     },
     "metadata": {},
     "output_type": "display_data"
    }
   ],
   "source": [
    "plt.scatter(X,y)"
   ]
  },
  {
   "cell_type": "code",
   "execution_count": 65,
   "id": "58239546",
   "metadata": {},
   "outputs": [
    {
     "data": {
      "text/plain": [
       "array([-0.71239066, -0.43714566, -0.45375238,  0.95283061,  0.23785784])"
      ]
     },
     "execution_count": 65,
     "metadata": {},
     "output_type": "execute_result"
    }
   ],
   "source": [
    "X.ravel()"
   ]
  },
  {
   "cell_type": "code",
   "execution_count": 66,
   "id": "7777eda3",
   "metadata": {},
   "outputs": [
    {
     "data": {
      "text/plain": [
       "array([[-0.71239066],\n",
       "       [-0.43714566],\n",
       "       [-0.45375238],\n",
       "       [ 0.95283061],\n",
       "       [ 0.23785784]])"
      ]
     },
     "execution_count": 66,
     "metadata": {},
     "output_type": "execute_result"
    }
   ],
   "source": [
    "X"
   ]
  },
  {
   "cell_type": "code",
   "execution_count": 32,
   "id": "fb217682",
   "metadata": {},
   "outputs": [],
   "source": [
    "from sklearn.model_selection import train_test_split\n",
    "X_train,X_test,y_train,y_test = train_test_split(X,y,test_size=0.2,random_state=2)"
   ]
  },
  {
   "cell_type": "code",
   "execution_count": 90,
   "id": "3b2c6cd8",
   "metadata": {},
   "outputs": [
    {
     "data": {
      "text/plain": [
       "array([ 0.23785784, -0.43714566,  0.95283061, -0.71239066])"
      ]
     },
     "execution_count": 90,
     "metadata": {},
     "output_type": "execute_result"
    }
   ],
   "source": [
    "X_train.ravel()"
   ]
  },
  {
   "cell_type": "code",
   "execution_count": 89,
   "id": "f8e3fddc",
   "metadata": {},
   "outputs": [
    {
     "data": {
      "text/plain": [
       "array([ 27.7559659 ,  -9.42120961,  20.43721216, -34.31988063])"
      ]
     },
     "execution_count": 89,
     "metadata": {},
     "output_type": "execute_result"
    }
   ],
   "source": [
    "y_train"
   ]
  },
  {
   "cell_type": "code",
   "execution_count": 33,
   "id": "1c75b68c",
   "metadata": {},
   "outputs": [],
   "source": [
    "from sklearn.linear_model import LinearRegression"
   ]
  },
  {
   "cell_type": "code",
   "execution_count": 34,
   "id": "7f55ab93",
   "metadata": {},
   "outputs": [],
   "source": [
    "lr = LinearRegression()"
   ]
  },
  {
   "cell_type": "code",
   "execution_count": 35,
   "id": "8a9b8dab",
   "metadata": {},
   "outputs": [
    {
     "name": "stdout",
     "output_type": "stream",
     "text": [
      "[32.83760115]\n",
      "0.7751876344614458\n"
     ]
    }
   ],
   "source": [
    "lr.fit(X_train,y_train)\n",
    "print(lr.coef_)\n",
    "print(lr.intercept_)"
   ]
  },
  {
   "cell_type": "code",
   "execution_count": 36,
   "id": "a1891526",
   "metadata": {},
   "outputs": [
    {
     "name": "stderr",
     "output_type": "stream",
     "text": [
      "/Users/saisrivishwanath/anaconda3/lib/python3.11/site-packages/sklearn/metrics/_regression.py:1187: UndefinedMetricWarning: R^2 score is not well-defined with less than two samples.\n",
      "  warnings.warn(msg, UndefinedMetricWarning)\n"
     ]
    },
    {
     "data": {
      "text/plain": [
       "nan"
      ]
     },
     "execution_count": 36,
     "metadata": {},
     "output_type": "execute_result"
    }
   ],
   "source": [
    "y_pred = lr.predict(X_test)\n",
    "from sklearn.metrics import r2_score\n",
    "r2_score(y_test,y_pred)"
   ]
  },
  {
   "cell_type": "code",
   "execution_count": 84,
   "id": "0a55c997",
   "metadata": {},
   "outputs": [],
   "source": [
    "class GDRegressor:\n",
    "    \n",
    "    def __init__(self,learning_rate,epochs):\n",
    "        self.m = 100\n",
    "        self.b = -120\n",
    "        self.lr = learning_rate\n",
    "        self.epochs = epochs\n",
    "        \n",
    "    def fit(self,X,y):\n",
    "        # calcualte the b using GD\n",
    "        for i in range(self.epochs):\n",
    "            loss_slope_b = -2 * np.sum(y - self.m*X.ravel() - self.b)\n",
    "            loss_slope_m = -2 * np.sum((y - self.m*X.ravel() - self.b)*X.ravel())\n",
    "            \n",
    "            self.b = self.b - (self.lr * loss_slope_b)\n",
    "            self.m = self.m - (self.lr * loss_slope_m)\n",
    "            #print(np.sum(y - self.m*X.ravel() - self.b))\n",
    "            #print(self.m,self.b)\n",
    "            print(sum(y - m*X.ravel()))\n",
    "        \n",
    "    def predict(self,X):\n",
    "        return self.m * X + self.b\n",
    "    "
   ]
  },
  {
   "cell_type": "code",
   "execution_count": 87,
   "id": "f157e323",
   "metadata": {},
   "outputs": [
    {
     "name": "stdout",
     "output_type": "stream",
     "text": [
      "26.623925040297006\n",
      "26.623925040297006\n",
      "26.623925040297006\n",
      "26.623925040297006\n",
      "26.623925040297006\n",
      "26.623925040297006\n",
      "26.623925040297006\n",
      "26.623925040297006\n",
      "26.623925040297006\n",
      "26.623925040297006\n",
      "26.623925040297006\n",
      "26.623925040297006\n",
      "26.623925040297006\n",
      "26.623925040297006\n",
      "26.623925040297006\n",
      "26.623925040297006\n",
      "26.623925040297006\n",
      "26.623925040297006\n",
      "26.623925040297006\n",
      "26.623925040297006\n",
      "26.623925040297006\n",
      "26.623925040297006\n",
      "26.623925040297006\n",
      "26.623925040297006\n",
      "26.623925040297006\n",
      "26.623925040297006\n",
      "26.623925040297006\n",
      "26.623925040297006\n",
      "26.623925040297006\n",
      "26.623925040297006\n",
      "26.623925040297006\n",
      "26.623925040297006\n",
      "26.623925040297006\n",
      "26.623925040297006\n",
      "26.623925040297006\n",
      "26.623925040297006\n",
      "26.623925040297006\n",
      "26.623925040297006\n",
      "26.623925040297006\n",
      "26.623925040297006\n",
      "26.623925040297006\n",
      "26.623925040297006\n",
      "26.623925040297006\n",
      "26.623925040297006\n",
      "26.623925040297006\n",
      "26.623925040297006\n",
      "26.623925040297006\n",
      "26.623925040297006\n",
      "26.623925040297006\n",
      "26.623925040297006\n"
     ]
    }
   ],
   "source": [
    "m=100\n",
    "for i in range(50):\n",
    "    print(np.sum(y - m*X.ravel()))"
   ]
  },
  {
   "cell_type": "code",
   "execution_count": 85,
   "id": "916c1a07",
   "metadata": {},
   "outputs": [],
   "source": [
    "gd = GDRegressor(0.001,50)"
   ]
  },
  {
   "cell_type": "code",
   "execution_count": 86,
   "id": "fb9c36f3",
   "metadata": {},
   "outputs": [
    {
     "name": "stdout",
     "output_type": "stream",
     "text": [
      "0.33687466179322456\n",
      "0.33687466179322456\n",
      "0.33687466179322456\n",
      "0.33687466179322456\n",
      "0.33687466179322456\n",
      "0.33687466179322456\n",
      "0.33687466179322456\n",
      "0.33687466179322456\n",
      "0.33687466179322456\n",
      "0.33687466179322456\n",
      "0.33687466179322456\n",
      "0.33687466179322456\n",
      "0.33687466179322456\n",
      "0.33687466179322456\n",
      "0.33687466179322456\n",
      "0.33687466179322456\n",
      "0.33687466179322456\n",
      "0.33687466179322456\n",
      "0.33687466179322456\n",
      "0.33687466179322456\n",
      "0.33687466179322456\n",
      "0.33687466179322456\n",
      "0.33687466179322456\n",
      "0.33687466179322456\n",
      "0.33687466179322456\n",
      "0.33687466179322456\n",
      "0.33687466179322456\n",
      "0.33687466179322456\n",
      "0.33687466179322456\n",
      "0.33687466179322456\n",
      "0.33687466179322456\n",
      "0.33687466179322456\n",
      "0.33687466179322456\n",
      "0.33687466179322456\n",
      "0.33687466179322456\n",
      "0.33687466179322456\n",
      "0.33687466179322456\n",
      "0.33687466179322456\n",
      "0.33687466179322456\n",
      "0.33687466179322456\n",
      "0.33687466179322456\n",
      "0.33687466179322456\n",
      "0.33687466179322456\n",
      "0.33687466179322456\n",
      "0.33687466179322456\n",
      "0.33687466179322456\n",
      "0.33687466179322456\n",
      "0.33687466179322456\n",
      "0.33687466179322456\n",
      "0.33687466179322456\n"
     ]
    }
   ],
   "source": [
    "gd.fit(X_train,y_train)"
   ]
  },
  {
   "cell_type": "code",
   "execution_count": 118,
   "id": "bcd8f1cb",
   "metadata": {},
   "outputs": [
    {
     "data": {
      "text/plain": [
       "0.6343842836315579"
      ]
     },
     "execution_count": 118,
     "metadata": {},
     "output_type": "execute_result"
    }
   ],
   "source": [
    "y_pred = gd.predict(X_test)\n",
    "from sklearn.metrics import r2_score\n",
    "r2_score(y_test,y_pred)"
   ]
  },
  {
   "cell_type": "code",
   "execution_count": null,
   "id": "68858bae",
   "metadata": {},
   "outputs": [],
   "source": []
  }
 ],
 "metadata": {
  "kernelspec": {
   "display_name": "Python 3 (ipykernel)",
   "language": "python",
   "name": "python3"
  },
  "language_info": {
   "codemirror_mode": {
    "name": "ipython",
    "version": 3
   },
   "file_extension": ".py",
   "mimetype": "text/x-python",
   "name": "python",
   "nbconvert_exporter": "python",
   "pygments_lexer": "ipython3",
   "version": "3.11.5"
  }
 },
 "nbformat": 4,
 "nbformat_minor": 5
}
