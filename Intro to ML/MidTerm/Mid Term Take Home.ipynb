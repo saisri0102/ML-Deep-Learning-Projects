{
 "cells": [
  {
   "cell_type": "code",
   "execution_count": 69,
   "id": "db037577",
   "metadata": {},
   "outputs": [],
   "source": [
    "import pandas as pd\n",
    "import numpy as np\n",
    "import matplotlib.pyplot as plt\n",
    "from sklearn.model_selection import train_test_split\n",
    "from sklearn.linear_model import LinearRegression\n",
    "from sklearn.linear_model import LogisticRegression\n",
    "from sklearn.metrics import mean_absolute_error\n",
    "from sklearn.preprocessing import LabelEncoder\n",
    "from sklearn.linear_model import Ridge\n",
    "from sklearn.preprocessing import StandardScaler\n",
    "from sklearn.metrics import r2_score\n",
    "from sklearn import preprocessing\n",
    "from sklearn.linear_model import Lasso\n",
    "from sklearn.ensemble import RandomForestRegressor\n",
    "\n",
    "pd.options.display.float_format = '{:,.2f}'.format\n",
    "\n",
    "# setup interactive notebook mode\n",
    "from IPython.core.interactiveshell import InteractiveShell\n",
    "InteractiveShell.ast_node_interactivity = \"all\"\n",
    "\n",
    "from IPython.display import display, HTML"
   ]
  },
  {
   "cell_type": "code",
   "execution_count": 70,
   "id": "cc7f700f",
   "metadata": {},
   "outputs": [
    {
     "data": {
      "text/plain": [
       "4825"
      ]
     },
     "execution_count": 70,
     "metadata": {},
     "output_type": "execute_result"
    },
    {
     "data": {
      "text/plain": [
       "0"
      ]
     },
     "execution_count": 70,
     "metadata": {},
     "output_type": "execute_result"
    }
   ],
   "source": [
    "midterm_data = pd.read_excel('Kaggle_Data/demand_pred_midterm.xlsx')\n",
    "len(midterm_data)\n",
    "midterm_data.isna().sum().sum()"
   ]
  },
  {
   "cell_type": "markdown",
   "id": "4de1ade3",
   "metadata": {},
   "source": [
    "-------------------------------------\n",
    "3) a) <br>\n",
    "Name: Venkata Gade <br>\n",
    "Email: vngade@syr.edu <br>\n",
    "SUID: 979072739 \n",
    "\n",
    "Answer:<br>\n",
    "Rows in dataset: 4825 <br>\n",
    "NaN Values: 0 <br>\n",
    "\n",
    "---------------------------------------"
   ]
  },
  {
   "cell_type": "code",
   "execution_count": 71,
   "id": "d3f68e88",
   "metadata": {},
   "outputs": [
    {
     "data": {
      "text/plain": [
       "6.22455842927536"
      ]
     },
     "execution_count": 71,
     "metadata": {},
     "output_type": "execute_result"
    },
    {
     "data": {
      "text/plain": [
       "8.420902531097951"
      ]
     },
     "execution_count": 71,
     "metadata": {},
     "output_type": "execute_result"
    },
    {
     "data": {
      "text/plain": [
       "40"
      ]
     },
     "execution_count": 71,
     "metadata": {},
     "output_type": "execute_result"
    }
   ],
   "source": [
    "midterm_data['logLikes'] = np.log(midterm_data['Likes'])\n",
    "midterm_data['logPopulation'] = np.log(midterm_data['Population'])\n",
    "midterm_data['HoursMedianProduct'] = midterm_data['Hours open'] * midterm_data['Median household']\n",
    "midterm_data.drop(['Likes', 'Population', 'Hours open', 'Median household'], axis=1, inplace=True)\n",
    "\n",
    "midterm_data['logLikes'].iloc[0]\n",
    "midterm_data['logPopulation'].iloc[0]\n",
    "midterm_data['HoursMedianProduct'].iloc[0]"
   ]
  },
  {
   "cell_type": "markdown",
   "id": "3a1d03ec",
   "metadata": {},
   "source": [
    "-------------------------------------\n",
    "3) b) <br>\n",
    "Name: Venkata Gade <br>\n",
    "Email: vngade@syr.edu <br>\n",
    "SUID: 979072739 <br>\n",
    "\n",
    "Answer:<br>\n",
    "'Likes' Logarithm for first row: 6.22455842927536 <br>\n",
    "'Population' Logarithm for first row: 8.420902531097951 <br>\n",
    "Product of 'Hours Open' and 'Median Household': 40 <br>\n",
    "\n",
    "\n",
    "---------------------------------------"
   ]
  },
  {
   "cell_type": "code",
   "execution_count": 72,
   "id": "44e1ba73",
   "metadata": {},
   "outputs": [
    {
     "data": {
      "text/plain": [
       "14"
      ]
     },
     "execution_count": 72,
     "metadata": {},
     "output_type": "execute_result"
    }
   ],
   "source": [
    "midterm_data = pd.get_dummies(midterm_data, columns=['Airport', 'Season'], drop_first=True)\n",
    "len(midterm_data.columns)"
   ]
  },
  {
   "cell_type": "markdown",
   "id": "baf76405",
   "metadata": {},
   "source": [
    "-------------------------------------\n",
    "3) c) <br>\n",
    "Name: Venkata Gade <br>\n",
    "Email: vngade@syr.edu <br>\n",
    "SUID: 979072739 <br>\n",
    "\n",
    "Answer:<br>\n",
    "Number of columns: 14\n",
    "\n",
    "---------------------------------------"
   ]
  },
  {
   "cell_type": "code",
   "execution_count": 73,
   "id": "97a1b88b",
   "metadata": {},
   "outputs": [
    {
     "data": {
      "text/plain": [
       "965"
      ]
     },
     "execution_count": 73,
     "metadata": {},
     "output_type": "execute_result"
    }
   ],
   "source": [
    "X = midterm_data.drop('Demand', axis=1)\n",
    "y = midterm_data['Demand']  \n",
    "\n",
    "X_train, X_test, y_train, y_test = train_test_split(X, y, test_size=0.2, random_state=9729)\n",
    "X_test.shape[0]"
   ]
  },
  {
   "cell_type": "markdown",
   "id": "b59fad78",
   "metadata": {},
   "source": [
    "-------------------------------------\n",
    "3) d) <br>\n",
    "Name: Venkata Gade <br>\n",
    "Email: vngade@syr.edu <br>\n",
    "SUID: 979072739 \n",
    "\n",
    "Answer:<br>\n",
    "Rows in test data: 965\n",
    "\n",
    "---------------------------------------"
   ]
  },
  {
   "cell_type": "code",
   "execution_count": 74,
   "id": "a2331a90",
   "metadata": {},
   "outputs": [
    {
     "data": {
      "text/plain": [
       "LinearRegression()"
      ]
     },
     "execution_count": 74,
     "metadata": {},
     "output_type": "execute_result"
    },
    {
     "data": {
      "text/plain": [
       "0.556471669081702"
      ]
     },
     "execution_count": 74,
     "metadata": {},
     "output_type": "execute_result"
    },
    {
     "data": {
      "text/plain": [
       "143.51450777202072"
      ]
     },
     "execution_count": 74,
     "metadata": {},
     "output_type": "execute_result"
    }
   ],
   "source": [
    "scaler = StandardScaler()\n",
    "X_train_scaled = scaler.fit_transform(X_train)\n",
    "X_test_scaled = scaler.transform(X_test)\n",
    "\n",
    "model = LinearRegression()\n",
    "model.fit(X_train_scaled, y_train)\n",
    "y_train_pred = model.predict(X_train_scaled)\n",
    "r2_score(y_train, y_train_pred)\n",
    "model.intercept_"
   ]
  },
  {
   "cell_type": "markdown",
   "id": "6164c389",
   "metadata": {},
   "source": [
    "-------------------------------------\n",
    "3) e) <br>\n",
    "Name: Venkata Gade <br>\n",
    "Email: vngade@syr.edu <br>\n",
    "SUID: 979072739 <br>\n",
    "\n",
    "Answer:<br>\n",
    "R_2 score for training data: 0.56 <br>\n",
    "Intercept for linear regression: 143.51\n",
    "\n",
    "---------------------------------------"
   ]
  },
  {
   "cell_type": "code",
   "execution_count": 75,
   "id": "981da4b2",
   "metadata": {},
   "outputs": [
    {
     "data": {
      "text/plain": [
       "0.12697447171478002"
      ]
     },
     "execution_count": 75,
     "metadata": {},
     "output_type": "execute_result"
    },
    {
     "data": {
      "text/plain": [
       "0.5657413774267228"
      ]
     },
     "execution_count": 75,
     "metadata": {},
     "output_type": "execute_result"
    }
   ],
   "source": [
    "y_test_pred = model.predict(X_test_scaled)\n",
    "mae_test = mean_absolute_error(y_test, y_test_pred)\n",
    "mean_demand = y_test.mean()\n",
    "mae_test / mean_demand\n",
    "r2_score(y_test, y_test_pred)"
   ]
  },
  {
   "cell_type": "markdown",
   "id": "40951a5c",
   "metadata": {},
   "source": [
    "-------------------------------------\n",
    "3) f) <br>\n",
    "Name: Venkata Gade <br>\n",
    "Email: vngade@syr.edu <br>\n",
    "SUID: 979072739 \n",
    "\n",
    "Answer:<br>\n",
    "Mean absolute error ratio for test data: 0.13\n",
    "R_2 score for test data: 0.57\n",
    "\n",
    "---------------------------------------"
   ]
  },
  {
   "cell_type": "code",
   "execution_count": 76,
   "id": "4253dc20",
   "metadata": {},
   "outputs": [
    {
     "data": {
      "text/plain": [
       "Lasso(alpha=0.2)"
      ]
     },
     "execution_count": 76,
     "metadata": {},
     "output_type": "execute_result"
    },
    {
     "data": {
      "text/plain": [
       "0.5560135975109399"
      ]
     },
     "execution_count": 76,
     "metadata": {},
     "output_type": "execute_result"
    },
    {
     "data": {
      "text/plain": [
       "143.51450777202072"
      ]
     },
     "execution_count": 76,
     "metadata": {},
     "output_type": "execute_result"
    }
   ],
   "source": [
    "lasso_model = Lasso(alpha=0.2)\n",
    "lasso_model.fit(X_train_scaled, y_train)\n",
    "y_train_pred_lasso = lasso_model.predict(X_train_scaled)\n",
    "r2_score(y_train, y_train_pred_lasso)\n",
    "lasso_model.intercept_"
   ]
  },
  {
   "cell_type": "markdown",
   "id": "05d9f0d6",
   "metadata": {},
   "source": [
    "-------------------------------------\n",
    "3) g) <br>\n",
    "Name: Venkata Gade <br>\n",
    "Email: vngade@syr.edu <br>\n",
    "SUID: 979072739 \n",
    "\n",
    "Answer: <br>\n",
    "Score for Lasso regression on train data: 0.56\n",
    "Intercept for Lasso regression: 143.51\n",
    "\n",
    "---------------------------------------"
   ]
  },
  {
   "cell_type": "code",
   "execution_count": 77,
   "id": "c0e0b86d",
   "metadata": {},
   "outputs": [
    {
     "data": {
      "text/plain": [
       "['logLikes']"
      ]
     },
     "execution_count": 77,
     "metadata": {},
     "output_type": "execute_result"
    }
   ],
   "source": [
    "lasso_coefficients = lasso_model.coef_\n",
    "feature_names = X.columns\n",
    "[feature_names[i] for i in range(len(feature_names)) if lasso_coefficients[i] == 0]"
   ]
  },
  {
   "cell_type": "markdown",
   "id": "09a3e068",
   "metadata": {},
   "source": [
    "-------------------------------------\n",
    "3) h) <br>\n",
    "Name: Venkata Gade <br>\n",
    "Email: vngade@syr.edu <br>\n",
    "SUID: 979072739 \n",
    "\n",
    "Answer: <br>\n",
    "Feature that got eliminated: 'logLikes'\n",
    "\n",
    "---------------------------------------"
   ]
  },
  {
   "cell_type": "code",
   "execution_count": 78,
   "id": "a84114c5",
   "metadata": {},
   "outputs": [
    {
     "data": {
      "text/plain": [
       "0.1269708603261075"
      ]
     },
     "execution_count": 78,
     "metadata": {},
     "output_type": "execute_result"
    }
   ],
   "source": [
    "y_test_pred_lasso = lasso_model.predict(X_test_scaled)\n",
    "mae_test_lasso = mean_absolute_error(y_test, y_test_pred_lasso)\n",
    "mae_test_lasso / mean_demand"
   ]
  },
  {
   "cell_type": "markdown",
   "id": "1b54375f",
   "metadata": {},
   "source": [
    "-------------------------------------\n",
    "3) i) <br>\n",
    "Name: Venkata Gade <br>\n",
    "Email: vngade@syr.edu <br>\n",
    "SUID: 979072739 \n",
    "\n",
    "Answer: <br>\n",
    "Ratio of mean absolute error versus the mean of the Demand: 0.13\n",
    "\n",
    "---------------------------------------"
   ]
  },
  {
   "cell_type": "code",
   "execution_count": 79,
   "id": "63c3182f",
   "metadata": {},
   "outputs": [
    {
     "data": {
      "text/plain": [
       "LinearRegression()"
      ]
     },
     "execution_count": 79,
     "metadata": {},
     "output_type": "execute_result"
    },
    {
     "data": {
      "text/plain": [
       "array([159.330701  , 105.37110875, 156.84255947, 116.87304638])"
      ]
     },
     "execution_count": 79,
     "metadata": {},
     "output_type": "execute_result"
    }
   ],
   "source": [
    "midterm_data = pd.read_excel('Kaggle_Data/demand_pred_midterm.xlsx')\n",
    "midterm_data.dropna(inplace=True)\n",
    "X_original = midterm_data.drop('Demand', axis=1) \n",
    "y_original = midterm_data['Demand']\n",
    "categorical_cols = X_original.select_dtypes(include=['object']).columns\n",
    "if len(categorical_cols) > 0:\n",
    "    X_original.drop(columns=categorical_cols, inplace=True)\n",
    "model = LinearRegression()\n",
    "model.fit(X_original, y_original)\n",
    "midterm_pred = pd.read_excel('Kaggle_Data/demand_pred_students.xlsx')\n",
    "midterm_pred.dropna(inplace=True)\n",
    "X_pred = midterm_pred \n",
    "categorical_cols_pred = X_pred.select_dtypes(include=['object']).columns\n",
    "if len(categorical_cols_pred) > 0:\n",
    "    X_pred.drop(columns=categorical_cols_pred, inplace=True)\n",
    "model.predict(X_pred)\n"
   ]
  },
  {
   "cell_type": "markdown",
   "id": "229fb365",
   "metadata": {},
   "source": [
    "-------------------------------------\n",
    "3) j) <br>\n",
    "Name: Venkata Gade <br>\n",
    "Email: vngade@syr.edu <br>\n",
    "SUID: 979072739 \n",
    "\n",
    "Answer: <br>\n",
    "Four values of best guess: 159.330701, 105.37110875, 156.84255947, 116.87304638\n",
    "\n",
    "---------------------------------------"
   ]
  }
 ],
 "metadata": {
  "kernelspec": {
   "display_name": "Python 3",
   "language": "python",
   "name": "python3"
  },
  "language_info": {
   "codemirror_mode": {
    "name": "ipython",
    "version": 3
   },
   "file_extension": ".py",
   "mimetype": "text/x-python",
   "name": "python",
   "nbconvert_exporter": "python",
   "pygments_lexer": "ipython3",
   "version": "3.8.8"
  }
 },
 "nbformat": 4,
 "nbformat_minor": 5
}
