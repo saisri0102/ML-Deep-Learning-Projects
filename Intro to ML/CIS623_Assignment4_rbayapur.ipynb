{
 "cells": [
  {
   "cell_type": "code",
   "execution_count": 2,
   "id": "11005afa",
   "metadata": {},
   "outputs": [
    {
     "data": {
      "text/plain": [
       "Player       object\n",
       "Country      object\n",
       "Years        object\n",
       "Inns          int64\n",
       "NO            int64\n",
       "Runs          int64\n",
       "HS            int64\n",
       "Ducks         int64\n",
       "50s           int64\n",
       "100s          int64\n",
       "Avg         float64\n",
       "Position      int64\n",
       "dtype: object"
      ]
     },
     "execution_count": 2,
     "metadata": {},
     "output_type": "execute_result"
    }
   ],
   "source": [
    "import pandas as pd\n",
    "\n",
    "# Read the Excel file\n",
    "data = pd.read_excel('cricket_batting_data.xlsx')\n",
    "\n",
    "# Quick description of columns\n",
    "data.dtypes\n",
    "\n",
    "\n",
    "\n"
   ]
  },
  {
   "cell_type": "code",
   "execution_count": 3,
   "id": "5f743cb5",
   "metadata": {},
   "outputs": [
    {
     "name": "stdout",
     "output_type": "stream",
     "text": [
      "Number of rows in the dataframe: 7328\n"
     ]
    }
   ],
   "source": [
    "# Get the number of rows in the dataframe\n",
    "num_rows = len(data)\n",
    "print(f\"Number of rows in the dataframe: {num_rows}\")"
   ]
  },
  {
   "cell_type": "code",
   "execution_count": 4,
   "id": "82e271e5",
   "metadata": {},
   "outputs": [
    {
     "name": "stdout",
     "output_type": "stream",
     "text": [
      "NaN values in the dataframe:\n",
      "Player        0\n",
      "Country       0\n",
      "Years         0\n",
      "Inns          0\n",
      "NO            0\n",
      "Runs          0\n",
      "HS            0\n",
      "Ducks         0\n",
      "50s           0\n",
      "100s          0\n",
      "Avg         216\n",
      "Position      0\n",
      "dtype: int64\n"
     ]
    }
   ],
   "source": [
    "# Check for NaN values\n",
    "nan_values = data.isna().sum()\n",
    "print(\"NaN values in the dataframe:\")\n",
    "print(nan_values)"
   ]
  },
  {
   "cell_type": "code",
   "execution_count": 5,
   "id": "a7a14617",
   "metadata": {},
   "outputs": [
    {
     "data": {
      "text/html": [
       "<div>\n",
       "<style scoped>\n",
       "    .dataframe tbody tr th:only-of-type {\n",
       "        vertical-align: middle;\n",
       "    }\n",
       "\n",
       "    .dataframe tbody tr th {\n",
       "        vertical-align: top;\n",
       "    }\n",
       "\n",
       "    .dataframe thead th {\n",
       "        text-align: right;\n",
       "    }\n",
       "</style>\n",
       "<table border=\"1\" class=\"dataframe\">\n",
       "  <thead>\n",
       "    <tr style=\"text-align: right;\">\n",
       "      <th></th>\n",
       "      <th>Player</th>\n",
       "      <th>Country</th>\n",
       "      <th>Years</th>\n",
       "      <th>Inns</th>\n",
       "      <th>NO</th>\n",
       "      <th>Runs</th>\n",
       "      <th>HS</th>\n",
       "      <th>Ducks</th>\n",
       "      <th>50s</th>\n",
       "      <th>100s</th>\n",
       "      <th>Avg</th>\n",
       "      <th>Position</th>\n",
       "      <th>Debut</th>\n",
       "      <th>Tenure</th>\n",
       "    </tr>\n",
       "  </thead>\n",
       "  <tbody>\n",
       "    <tr>\n",
       "      <th>0</th>\n",
       "      <td>A N Cook</td>\n",
       "      <td>England</td>\n",
       "      <td>2006-2018</td>\n",
       "      <td>278</td>\n",
       "      <td>14</td>\n",
       "      <td>11845</td>\n",
       "      <td>294</td>\n",
       "      <td>9</td>\n",
       "      <td>55</td>\n",
       "      <td>31</td>\n",
       "      <td>44.87</td>\n",
       "      <td>0</td>\n",
       "      <td>2006</td>\n",
       "      <td>13</td>\n",
       "    </tr>\n",
       "    <tr>\n",
       "      <th>1</th>\n",
       "      <td>S M Gavaskar</td>\n",
       "      <td>India</td>\n",
       "      <td>1971-1987</td>\n",
       "      <td>203</td>\n",
       "      <td>12</td>\n",
       "      <td>9607</td>\n",
       "      <td>221</td>\n",
       "      <td>11</td>\n",
       "      <td>42</td>\n",
       "      <td>33</td>\n",
       "      <td>50.30</td>\n",
       "      <td>0</td>\n",
       "      <td>1971</td>\n",
       "      <td>17</td>\n",
       "    </tr>\n",
       "    <tr>\n",
       "      <th>2</th>\n",
       "      <td>D A Warner*</td>\n",
       "      <td>Australia</td>\n",
       "      <td>2011-2024</td>\n",
       "      <td>202</td>\n",
       "      <td>8</td>\n",
       "      <td>8747</td>\n",
       "      <td>335</td>\n",
       "      <td>13</td>\n",
       "      <td>37</td>\n",
       "      <td>26</td>\n",
       "      <td>45.09</td>\n",
       "      <td>0</td>\n",
       "      <td>2011</td>\n",
       "      <td>14</td>\n",
       "    </tr>\n",
       "    <tr>\n",
       "      <th>3</th>\n",
       "      <td>D L Haynes</td>\n",
       "      <td>West Indies</td>\n",
       "      <td>1978-1994</td>\n",
       "      <td>201</td>\n",
       "      <td>25</td>\n",
       "      <td>7472</td>\n",
       "      <td>184</td>\n",
       "      <td>10</td>\n",
       "      <td>39</td>\n",
       "      <td>18</td>\n",
       "      <td>42.45</td>\n",
       "      <td>0</td>\n",
       "      <td>1978</td>\n",
       "      <td>17</td>\n",
       "    </tr>\n",
       "    <tr>\n",
       "      <th>4</th>\n",
       "      <td>M A Atherton</td>\n",
       "      <td>England</td>\n",
       "      <td>1990-2001</td>\n",
       "      <td>197</td>\n",
       "      <td>6</td>\n",
       "      <td>7476</td>\n",
       "      <td>185</td>\n",
       "      <td>17</td>\n",
       "      <td>45</td>\n",
       "      <td>16</td>\n",
       "      <td>39.14</td>\n",
       "      <td>0</td>\n",
       "      <td>1990</td>\n",
       "      <td>12</td>\n",
       "    </tr>\n",
       "  </tbody>\n",
       "</table>\n",
       "</div>"
      ],
      "text/plain": [
       "         Player      Country      Years  Inns  NO   Runs   HS  Ducks  50s  \\\n",
       "0      A N Cook      England  2006-2018   278  14  11845  294      9   55   \n",
       "1  S M Gavaskar        India  1971-1987   203  12   9607  221     11   42   \n",
       "2   D A Warner*    Australia  2011-2024   202   8   8747  335     13   37   \n",
       "3    D L Haynes  West Indies  1978-1994   201  25   7472  184     10   39   \n",
       "4  M A Atherton      England  1990-2001   197   6   7476  185     17   45   \n",
       "\n",
       "   100s    Avg  Position  Debut  Tenure  \n",
       "0    31  44.87         0   2006      13  \n",
       "1    33  50.30         0   1971      17  \n",
       "2    26  45.09         0   2011      14  \n",
       "3    18  42.45         0   1978      17  \n",
       "4    16  39.14         0   1990      12  "
      ]
     },
     "execution_count": 5,
     "metadata": {},
     "output_type": "execute_result"
    }
   ],
   "source": [
    "# Create the 'Debut' column\n",
    "data['Debut'] = data['Years'].astype(str).str[:4].astype(int)\n",
    "\n",
    "# Create the 'Tenure' column\n",
    "data['Tenure'] = data['Years'].astype(str).str[-4:].astype(int) - data['Debut'] + 1\n",
    "data.head()\n"
   ]
  },
  {
   "cell_type": "code",
   "execution_count": 6,
   "id": "b5af145e",
   "metadata": {},
   "outputs": [
    {
     "name": "stdout",
     "output_type": "stream",
     "text": [
      "Debut year and tenure for A N Cook:\n",
      "Debut     2006\n",
      "Tenure      13\n",
      "Name: 0, dtype: int64\n"
     ]
    }
   ],
   "source": [
    "# Check the values for A.N. Cook and S.M. Gavaskar\n",
    "print(\"Debut year and tenure for A N Cook:\")\n",
    "print(data[['Debut', 'Tenure']].iloc[0])\n"
   ]
  },
  {
   "cell_type": "code",
   "execution_count": 7,
   "id": "76855199",
   "metadata": {},
   "outputs": [
    {
     "name": "stdout",
     "output_type": "stream",
     "text": [
      "Debut year and tenure for S.M. Gavaskar:\n",
      "Debut     1971\n",
      "Tenure      17\n",
      "Name: 1, dtype: int64\n"
     ]
    }
   ],
   "source": [
    "print(\"Debut year and tenure for S.M. Gavaskar:\")\n",
    "print(data[['Debut', 'Tenure']].iloc[1])\n"
   ]
  },
  {
   "cell_type": "code",
   "execution_count": 8,
   "id": "3000040a",
   "metadata": {},
   "outputs": [
    {
     "name": "stdout",
     "output_type": "stream",
     "text": [
      "Number of columns in the resulting dataframe: 11\n"
     ]
    }
   ],
   "source": [
    "# Drop columns Player, Years, and Avg\n",
    "data.drop(['Player', 'Years', 'Avg'], axis=1, inplace=True)\n",
    "\n",
    "# Get the number of columns in the resulting dataframe\n",
    "num_columns = len(data.columns)\n",
    "print(f\"Number of columns in the resulting dataframe: {num_columns}\")\n",
    "\n"
   ]
  },
  {
   "cell_type": "code",
   "execution_count": 9,
   "id": "92a77b83",
   "metadata": {},
   "outputs": [
    {
     "data": {
      "text/html": [
       "<div>\n",
       "<style scoped>\n",
       "    .dataframe tbody tr th:only-of-type {\n",
       "        vertical-align: middle;\n",
       "    }\n",
       "\n",
       "    .dataframe tbody tr th {\n",
       "        vertical-align: top;\n",
       "    }\n",
       "\n",
       "    .dataframe thead th {\n",
       "        text-align: right;\n",
       "    }\n",
       "</style>\n",
       "<table border=\"1\" class=\"dataframe\">\n",
       "  <thead>\n",
       "    <tr style=\"text-align: right;\">\n",
       "      <th></th>\n",
       "      <th>Country</th>\n",
       "      <th>Inns</th>\n",
       "      <th>NO</th>\n",
       "      <th>Runs</th>\n",
       "      <th>HS</th>\n",
       "      <th>Ducks</th>\n",
       "      <th>50s</th>\n",
       "      <th>100s</th>\n",
       "      <th>Position</th>\n",
       "      <th>Debut</th>\n",
       "      <th>Tenure</th>\n",
       "    </tr>\n",
       "  </thead>\n",
       "  <tbody>\n",
       "    <tr>\n",
       "      <th>0</th>\n",
       "      <td>England</td>\n",
       "      <td>278</td>\n",
       "      <td>14</td>\n",
       "      <td>11845</td>\n",
       "      <td>294</td>\n",
       "      <td>9</td>\n",
       "      <td>55</td>\n",
       "      <td>31</td>\n",
       "      <td>0</td>\n",
       "      <td>2006</td>\n",
       "      <td>13</td>\n",
       "    </tr>\n",
       "    <tr>\n",
       "      <th>1</th>\n",
       "      <td>India</td>\n",
       "      <td>203</td>\n",
       "      <td>12</td>\n",
       "      <td>9607</td>\n",
       "      <td>221</td>\n",
       "      <td>11</td>\n",
       "      <td>42</td>\n",
       "      <td>33</td>\n",
       "      <td>0</td>\n",
       "      <td>1971</td>\n",
       "      <td>17</td>\n",
       "    </tr>\n",
       "    <tr>\n",
       "      <th>2</th>\n",
       "      <td>Australia</td>\n",
       "      <td>202</td>\n",
       "      <td>8</td>\n",
       "      <td>8747</td>\n",
       "      <td>335</td>\n",
       "      <td>13</td>\n",
       "      <td>37</td>\n",
       "      <td>26</td>\n",
       "      <td>0</td>\n",
       "      <td>2011</td>\n",
       "      <td>14</td>\n",
       "    </tr>\n",
       "    <tr>\n",
       "      <th>3</th>\n",
       "      <td>West Indies</td>\n",
       "      <td>201</td>\n",
       "      <td>25</td>\n",
       "      <td>7472</td>\n",
       "      <td>184</td>\n",
       "      <td>10</td>\n",
       "      <td>39</td>\n",
       "      <td>18</td>\n",
       "      <td>0</td>\n",
       "      <td>1978</td>\n",
       "      <td>17</td>\n",
       "    </tr>\n",
       "    <tr>\n",
       "      <th>4</th>\n",
       "      <td>England</td>\n",
       "      <td>197</td>\n",
       "      <td>6</td>\n",
       "      <td>7476</td>\n",
       "      <td>185</td>\n",
       "      <td>17</td>\n",
       "      <td>45</td>\n",
       "      <td>16</td>\n",
       "      <td>0</td>\n",
       "      <td>1990</td>\n",
       "      <td>12</td>\n",
       "    </tr>\n",
       "  </tbody>\n",
       "</table>\n",
       "</div>"
      ],
      "text/plain": [
       "       Country  Inns  NO   Runs   HS  Ducks  50s  100s  Position  Debut  \\\n",
       "0      England   278  14  11845  294      9   55    31         0   2006   \n",
       "1        India   203  12   9607  221     11   42    33         0   1971   \n",
       "2    Australia   202   8   8747  335     13   37    26         0   2011   \n",
       "3  West Indies   201  25   7472  184     10   39    18         0   1978   \n",
       "4      England   197   6   7476  185     17   45    16         0   1990   \n",
       "\n",
       "   Tenure  \n",
       "0      13  \n",
       "1      17  \n",
       "2      14  \n",
       "3      17  \n",
       "4      12  "
      ]
     },
     "execution_count": 9,
     "metadata": {},
     "output_type": "execute_result"
    }
   ],
   "source": [
    "# Display the header of the dataframe\n",
    "data.head()\n"
   ]
  },
  {
   "cell_type": "code",
   "execution_count": 10,
   "id": "e1f1c736",
   "metadata": {},
   "outputs": [
    {
     "data": {
      "text/html": [
       "<div>\n",
       "<style scoped>\n",
       "    .dataframe tbody tr th:only-of-type {\n",
       "        vertical-align: middle;\n",
       "    }\n",
       "\n",
       "    .dataframe tbody tr th {\n",
       "        vertical-align: top;\n",
       "    }\n",
       "\n",
       "    .dataframe thead th {\n",
       "        text-align: right;\n",
       "    }\n",
       "</style>\n",
       "<table border=\"1\" class=\"dataframe\">\n",
       "  <thead>\n",
       "    <tr style=\"text-align: right;\">\n",
       "      <th></th>\n",
       "      <th>Inns</th>\n",
       "      <th>NO</th>\n",
       "      <th>Runs</th>\n",
       "      <th>HS</th>\n",
       "      <th>Ducks</th>\n",
       "      <th>50s</th>\n",
       "      <th>100s</th>\n",
       "      <th>Position</th>\n",
       "      <th>Debut</th>\n",
       "      <th>Tenure</th>\n",
       "      <th>...</th>\n",
       "      <th>Country_Bangladesh</th>\n",
       "      <th>Country_England</th>\n",
       "      <th>Country_India</th>\n",
       "      <th>Country_Ireland</th>\n",
       "      <th>Country_New Zealand</th>\n",
       "      <th>Country_Pakistan</th>\n",
       "      <th>Country_South Africa</th>\n",
       "      <th>Country_Sri Lanka</th>\n",
       "      <th>Country_West Indies</th>\n",
       "      <th>Country_Zimbabwe</th>\n",
       "    </tr>\n",
       "  </thead>\n",
       "  <tbody>\n",
       "    <tr>\n",
       "      <th>0</th>\n",
       "      <td>278</td>\n",
       "      <td>14</td>\n",
       "      <td>11845</td>\n",
       "      <td>294</td>\n",
       "      <td>9</td>\n",
       "      <td>55</td>\n",
       "      <td>31</td>\n",
       "      <td>0</td>\n",
       "      <td>2006</td>\n",
       "      <td>13</td>\n",
       "      <td>...</td>\n",
       "      <td>False</td>\n",
       "      <td>True</td>\n",
       "      <td>False</td>\n",
       "      <td>False</td>\n",
       "      <td>False</td>\n",
       "      <td>False</td>\n",
       "      <td>False</td>\n",
       "      <td>False</td>\n",
       "      <td>False</td>\n",
       "      <td>False</td>\n",
       "    </tr>\n",
       "    <tr>\n",
       "      <th>1</th>\n",
       "      <td>203</td>\n",
       "      <td>12</td>\n",
       "      <td>9607</td>\n",
       "      <td>221</td>\n",
       "      <td>11</td>\n",
       "      <td>42</td>\n",
       "      <td>33</td>\n",
       "      <td>0</td>\n",
       "      <td>1971</td>\n",
       "      <td>17</td>\n",
       "      <td>...</td>\n",
       "      <td>False</td>\n",
       "      <td>False</td>\n",
       "      <td>True</td>\n",
       "      <td>False</td>\n",
       "      <td>False</td>\n",
       "      <td>False</td>\n",
       "      <td>False</td>\n",
       "      <td>False</td>\n",
       "      <td>False</td>\n",
       "      <td>False</td>\n",
       "    </tr>\n",
       "    <tr>\n",
       "      <th>2</th>\n",
       "      <td>202</td>\n",
       "      <td>8</td>\n",
       "      <td>8747</td>\n",
       "      <td>335</td>\n",
       "      <td>13</td>\n",
       "      <td>37</td>\n",
       "      <td>26</td>\n",
       "      <td>0</td>\n",
       "      <td>2011</td>\n",
       "      <td>14</td>\n",
       "      <td>...</td>\n",
       "      <td>False</td>\n",
       "      <td>False</td>\n",
       "      <td>False</td>\n",
       "      <td>False</td>\n",
       "      <td>False</td>\n",
       "      <td>False</td>\n",
       "      <td>False</td>\n",
       "      <td>False</td>\n",
       "      <td>False</td>\n",
       "      <td>False</td>\n",
       "    </tr>\n",
       "    <tr>\n",
       "      <th>3</th>\n",
       "      <td>201</td>\n",
       "      <td>25</td>\n",
       "      <td>7472</td>\n",
       "      <td>184</td>\n",
       "      <td>10</td>\n",
       "      <td>39</td>\n",
       "      <td>18</td>\n",
       "      <td>0</td>\n",
       "      <td>1978</td>\n",
       "      <td>17</td>\n",
       "      <td>...</td>\n",
       "      <td>False</td>\n",
       "      <td>False</td>\n",
       "      <td>False</td>\n",
       "      <td>False</td>\n",
       "      <td>False</td>\n",
       "      <td>False</td>\n",
       "      <td>False</td>\n",
       "      <td>False</td>\n",
       "      <td>True</td>\n",
       "      <td>False</td>\n",
       "    </tr>\n",
       "    <tr>\n",
       "      <th>4</th>\n",
       "      <td>197</td>\n",
       "      <td>6</td>\n",
       "      <td>7476</td>\n",
       "      <td>185</td>\n",
       "      <td>17</td>\n",
       "      <td>45</td>\n",
       "      <td>16</td>\n",
       "      <td>0</td>\n",
       "      <td>1990</td>\n",
       "      <td>12</td>\n",
       "      <td>...</td>\n",
       "      <td>False</td>\n",
       "      <td>True</td>\n",
       "      <td>False</td>\n",
       "      <td>False</td>\n",
       "      <td>False</td>\n",
       "      <td>False</td>\n",
       "      <td>False</td>\n",
       "      <td>False</td>\n",
       "      <td>False</td>\n",
       "      <td>False</td>\n",
       "    </tr>\n",
       "  </tbody>\n",
       "</table>\n",
       "<p>5 rows × 21 columns</p>\n",
       "</div>"
      ],
      "text/plain": [
       "   Inns  NO   Runs   HS  Ducks  50s  100s  Position  Debut  Tenure  ...  \\\n",
       "0   278  14  11845  294      9   55    31         0   2006      13  ...   \n",
       "1   203  12   9607  221     11   42    33         0   1971      17  ...   \n",
       "2   202   8   8747  335     13   37    26         0   2011      14  ...   \n",
       "3   201  25   7472  184     10   39    18         0   1978      17  ...   \n",
       "4   197   6   7476  185     17   45    16         0   1990      12  ...   \n",
       "\n",
       "   Country_Bangladesh  Country_England  Country_India  Country_Ireland  \\\n",
       "0               False             True          False            False   \n",
       "1               False            False           True            False   \n",
       "2               False            False          False            False   \n",
       "3               False            False          False            False   \n",
       "4               False             True          False            False   \n",
       "\n",
       "   Country_New Zealand  Country_Pakistan  Country_South Africa  \\\n",
       "0                False             False                 False   \n",
       "1                False             False                 False   \n",
       "2                False             False                 False   \n",
       "3                False             False                 False   \n",
       "4                False             False                 False   \n",
       "\n",
       "   Country_Sri Lanka  Country_West Indies  Country_Zimbabwe  \n",
       "0              False                False             False  \n",
       "1              False                False             False  \n",
       "2              False                False             False  \n",
       "3              False                 True             False  \n",
       "4              False                False             False  \n",
       "\n",
       "[5 rows x 21 columns]"
      ]
     },
     "execution_count": 10,
     "metadata": {},
     "output_type": "execute_result"
    }
   ],
   "source": [
    "from sklearn.model_selection import train_test_split\n",
    "from sklearn.preprocessing import StandardScaler\n",
    "\n",
    "# Convert categorical column 'Country' to quantitative using get dummies\n",
    "data = pd.get_dummies(data, columns=['Country'], drop_first=True)\n",
    "\n",
    "data.head()"
   ]
  },
  {
   "cell_type": "code",
   "execution_count": 11,
   "id": "e1fcc6b2",
   "metadata": {},
   "outputs": [
    {
     "name": "stdout",
     "output_type": "stream",
     "text": [
      "Length of train data: 5862\n"
     ]
    }
   ],
   "source": [
    "# Split the data into train and test sets\n",
    "X = data.drop('HS', axis=1)  # Features\n",
    "y = data['HS']  # Target variable\n",
    "\n",
    "X_train, X_test, y_train, y_test = train_test_split(X, y, test_size=0.2, random_state=35)\n",
    "\n",
    "# Scale the data using StandardScaler\n",
    "scaler = StandardScaler()\n",
    "X_train_scaled = scaler.fit_transform(X_train)\n",
    "X_test_scaled = scaler.transform(X_test)\n",
    "\n",
    "len_train = len(X_train)\n",
    "print(f\"Length of train data: {len_train}\")"
   ]
  },
  {
   "cell_type": "code",
   "execution_count": 12,
   "id": "debdd2ab",
   "metadata": {},
   "outputs": [
    {
     "name": "stdout",
     "output_type": "stream",
     "text": [
      "Length of test data: 1466\n"
     ]
    }
   ],
   "source": [
    "len_test = len(X_test)\n",
    "print(f\"Length of test data: {len_test}\")"
   ]
  },
  {
   "cell_type": "code",
   "execution_count": 13,
   "id": "3e86c210",
   "metadata": {},
   "outputs": [
    {
     "name": "stdout",
     "output_type": "stream",
     "text": [
      "Linear Regression - R2: 0.57, Intercept: -249.59, Error Ratio: 0.51\n"
     ]
    }
   ],
   "source": [
    "import pandas as pd\n",
    "from sklearn.model_selection import train_test_split\n",
    "from sklearn.linear_model import LinearRegression, Lasso\n",
    "from sklearn.ensemble import BaggingRegressor, RandomForestRegressor, GradientBoostingRegressor\n",
    "from sklearn.metrics import mean_absolute_error\n",
    "\n",
    "\n",
    "# (a) Linear Regression\n",
    "lr_model = LinearRegression()\n",
    "lr_model.fit(X_train, y_train)\n",
    "lr_r2 = lr_model.score(X_train, y_train)\n",
    "lr_intercept = lr_model.intercept_\n",
    "lr_pred = lr_model.predict(X_test)\n",
    "lr_error_ratio = mean_absolute_error(y_test, lr_pred) / y_test.mean()\n",
    "\n",
    "print(f\"Linear Regression - R2: {lr_r2:.2f}, Intercept: {lr_intercept:.2f}, Error Ratio: {lr_error_ratio:.2f}\")"
   ]
  },
  {
   "cell_type": "code",
   "execution_count": 187,
   "id": "388cc5f5",
   "metadata": {},
   "outputs": [
    {
     "name": "stdout",
     "output_type": "stream",
     "text": [
      "Lasso Regression - Score: 0.57, Intercept: -224.10, Error Ratio: 0.51\n"
     ]
    },
    {
     "name": "stderr",
     "output_type": "stream",
     "text": [
      "/Users/raviteja/anaconda3/lib/python3.11/site-packages/sklearn/linear_model/_coordinate_descent.py:628: ConvergenceWarning: Objective did not converge. You might want to increase the number of iterations, check the scale of the features or consider increasing regularisation. Duality gap: 2.989e+06, tolerance: 1.923e+03\n",
      "  model = cd_fast.enet_coordinate_descent(\n"
     ]
    }
   ],
   "source": [
    "# (b) Lasso Regression\n",
    "lasso_model = Lasso(alpha=0.05)\n",
    "lasso_model.fit(X_train, y_train)\n",
    "lasso_score = lasso_model.score(X_train, y_train)\n",
    "lasso_intercept = lasso_model.intercept_\n",
    "lasso_pred = lasso_model.predict(X_test)\n",
    "lasso_error_ratio = mean_absolute_error(y_test, lasso_pred) / y_test.mean()\n",
    "\n",
    "print(f\"Lasso Regression - Score: {lasso_score:.2f}, Intercept: {lasso_intercept:.2f}, Error Ratio: {lasso_error_ratio:.2f}\")\n"
   ]
  },
  {
   "cell_type": "code",
   "execution_count": 188,
   "id": "e783a4a0",
   "metadata": {},
   "outputs": [
    {
     "name": "stdout",
     "output_type": "stream",
     "text": [
      "Bagging Regressor - MAE: 10.12, Error Ratio: 0.18\n"
     ]
    }
   ],
   "source": [
    "# (c) Bagging Regressor\n",
    "bagging_model = BaggingRegressor(random_state=50, max_samples=100)\n",
    "bagging_model.fit(X_train, y_train)\n",
    "bagging_pred = bagging_model.predict(X_test)\n",
    "bagging_error_ratio = mean_absolute_error(y_test, bagging_pred) / y_test.mean()\n",
    "\n",
    "print(f\"Bagging Regressor - MAE: {mean_absolute_error(y_test, bagging_pred):.2f}, Error Ratio: {bagging_error_ratio:.2f}\")\n"
   ]
  },
  {
   "cell_type": "code",
   "execution_count": 189,
   "id": "f1d9ba42",
   "metadata": {},
   "outputs": [
    {
     "name": "stdout",
     "output_type": "stream",
     "text": [
      "Random Forest Regressor - MAE: 9.31, Error Ratio: 0.17\n"
     ]
    }
   ],
   "source": [
    "# (d) Random Forest Regressor\n",
    "rf_model = RandomForestRegressor(random_state=50, max_features='sqrt', n_estimators=200, min_samples_leaf=2)\n",
    "rf_model.fit(X_train, y_train)\n",
    "rf_pred = rf_model.predict(X_test)\n",
    "rf_error_ratio = mean_absolute_error(y_test, rf_pred) / y_test.mean()\n",
    "\n",
    "print(f\"Random Forest Regressor - MAE: {mean_absolute_error(y_test, rf_pred):.2f}, Error Ratio: {rf_error_ratio:.2f}\")\n"
   ]
  },
  {
   "cell_type": "code",
   "execution_count": 190,
   "id": "190883ff",
   "metadata": {},
   "outputs": [
    {
     "name": "stdout",
     "output_type": "stream",
     "text": [
      "Gradient Boosting Regressor - MAE: 8.65, Error Ratio: 0.15\n"
     ]
    }
   ],
   "source": [
    "# (e) Gradient Boosting Regressor\n",
    "gb_model = GradientBoostingRegressor(random_state=50, min_samples_split=6, min_samples_leaf=2, max_depth=5)\n",
    "gb_model.fit(X_train, y_train)\n",
    "gb_pred = gb_model.predict(X_test)\n",
    "gb_error_ratio = mean_absolute_error(y_test, gb_pred) / y_test.mean()\n",
    "\n",
    "print(f\"Gradient Boosting Regressor - MAE: {mean_absolute_error(y_test, gb_pred):.2f}, Error Ratio: {gb_error_ratio:.2f}\")\n"
   ]
  },
  {
   "cell_type": "code",
   "execution_count": 191,
   "id": "66cf25e4",
   "metadata": {},
   "outputs": [
    {
     "name": "stdout",
     "output_type": "stream",
     "text": [
      "Linear Regression - Error Ratio: 0.51, SMAPE: 0.33\n"
     ]
    }
   ],
   "source": [
    "import pandas as pd\n",
    "from sklearn.model_selection import train_test_split\n",
    "from sklearn.linear_model import LinearRegression, Lasso\n",
    "from sklearn.ensemble import BaggingRegressor, RandomForestRegressor, GradientBoostingRegressor\n",
    "from sklearn.metrics import mean_absolute_error\n",
    "import numpy as np\n",
    "\n",
    "# Initialize lists to store error ratios and sMAPE values for all five methods\n",
    "error_ratios = []\n",
    "smape_values = []\n",
    "\n",
    "# (a) Linear Regression\n",
    "lr_model = LinearRegression()\n",
    "lr_model.fit(X_train, y_train)\n",
    "lr_pred = lr_model.predict(X_test)\n",
    "lr_error_ratio = mean_absolute_error(y_test, lr_pred) / y_test.mean()\n",
    "lr_smape = np.mean(np.abs(y_test - lr_pred) / (np.abs(y_test) + np.abs(lr_pred)))\n",
    "error_ratios.append(lr_error_ratio)\n",
    "smape_values.append(lr_smape)\n",
    "print(f\"Linear Regression - Error Ratio: {lr_error_ratio:.2f}, SMAPE: {lr_smape:.2f}\")"
   ]
  },
  {
   "cell_type": "code",
   "execution_count": 192,
   "id": "41a09a1f",
   "metadata": {},
   "outputs": [
    {
     "name": "stdout",
     "output_type": "stream",
     "text": [
      "Lasso Regression - Error Ratio: 0.51, SMAPE: 0.33\n"
     ]
    },
    {
     "name": "stderr",
     "output_type": "stream",
     "text": [
      "/Users/raviteja/anaconda3/lib/python3.11/site-packages/sklearn/linear_model/_coordinate_descent.py:628: ConvergenceWarning: Objective did not converge. You might want to increase the number of iterations, check the scale of the features or consider increasing regularisation. Duality gap: 2.989e+06, tolerance: 1.923e+03\n",
      "  model = cd_fast.enet_coordinate_descent(\n"
     ]
    }
   ],
   "source": [
    "# (b) Lasso Regression\n",
    "lasso_model = Lasso(alpha=0.05)\n",
    "lasso_model.fit(X_train, y_train)\n",
    "lasso_pred = lasso_model.predict(X_test)\n",
    "lasso_error_ratio = mean_absolute_error(y_test, lasso_pred) / y_test.mean()\n",
    "lasso_smape = np.mean(np.abs(y_test - lasso_pred) / (np.abs(y_test) + np.abs(lasso_pred)))\n",
    "error_ratios.append(lasso_error_ratio)\n",
    "smape_values.append(lasso_smape)\n",
    "print(f\"Lasso Regression - Error Ratio: {lasso_error_ratio:.2f}, SMAPE: {lasso_smape:.2f}\")"
   ]
  },
  {
   "cell_type": "code",
   "execution_count": 193,
   "id": "88882cfd",
   "metadata": {},
   "outputs": [
    {
     "name": "stdout",
     "output_type": "stream",
     "text": [
      "Bagging Regressor - Error Ratio: 0.18, SMAPE: 0.09\n"
     ]
    }
   ],
   "source": [
    "# (c) Bagging Regressor\n",
    "bagging_model = BaggingRegressor(random_state=50, max_samples=100)\n",
    "bagging_model.fit(X_train, y_train)\n",
    "bagging_pred = bagging_model.predict(X_test)\n",
    "bagging_error_ratio = mean_absolute_error(y_test, bagging_pred) / y_test.mean()\n",
    "bagging_smape = np.mean(np.abs(y_test - bagging_pred) / (np.abs(y_test) + np.abs(bagging_pred)))\n",
    "error_ratios.append(bagging_error_ratio)\n",
    "smape_values.append(bagging_smape)\n",
    "print(f\"Bagging Regressor - Error Ratio: {bagging_error_ratio:.2f}, SMAPE: {bagging_smape:.2f}\")"
   ]
  },
  {
   "cell_type": "code",
   "execution_count": 194,
   "id": "48f13e1c",
   "metadata": {},
   "outputs": [
    {
     "name": "stdout",
     "output_type": "stream",
     "text": [
      "Random Forest Regressor - Error Ratio: 0.17, SMAPE: 0.13\n"
     ]
    }
   ],
   "source": [
    "# (d) Random Forest Regressor\n",
    "rf_model = RandomForestRegressor(random_state=50, max_features='sqrt', n_estimators=200, min_samples_leaf=2)\n",
    "rf_model.fit(X_train, y_train)\n",
    "rf_pred = rf_model.predict(X_test)\n",
    "rf_error_ratio = mean_absolute_error(y_test, rf_pred) / y_test.mean()\n",
    "rf_smape = np.mean(np.abs(y_test - rf_pred) / (np.abs(y_test) + np.abs(rf_pred)))\n",
    "error_ratios.append(rf_error_ratio)\n",
    "smape_values.append(rf_smape)\n",
    "print(f\"Random Forest Regressor - Error Ratio: {rf_error_ratio:.2f}, SMAPE: {rf_smape:.2f}\")\n"
   ]
  },
  {
   "cell_type": "code",
   "execution_count": 195,
   "id": "977ea681",
   "metadata": {},
   "outputs": [
    {
     "name": "stdout",
     "output_type": "stream",
     "text": [
      "Gradient Boosting Regressor - Error Ratio: 0.15, SMAPE: 0.10\n"
     ]
    }
   ],
   "source": [
    "# (e) Gradient Boosting Regressor\n",
    "gb_model = GradientBoostingRegressor(random_state=50, min_samples_split=6, min_samples_leaf=2, max_depth=5)\n",
    "gb_model.fit(X_train, y_train)\n",
    "gb_pred = gb_model.predict(X_test)\n",
    "gb_error_ratio = mean_absolute_error(y_test, gb_pred) / y_test.mean()\n",
    "gb_smape = np.mean(np.abs(y_test - gb_pred) / (np.abs(y_test) + np.abs(gb_pred)))\n",
    "error_ratios.append(gb_error_ratio)\n",
    "smape_values.append(gb_smape)\n",
    "print(f\"Gradient Boosting Regressor - Error Ratio: {gb_error_ratio:.2f}, SMAPE: {gb_smape:.2f}\")"
   ]
  },
  {
   "cell_type": "code",
   "execution_count": 196,
   "id": "1cf5e106",
   "metadata": {},
   "outputs": [
    {
     "name": "stdout",
     "output_type": "stream",
     "text": [
      "\n",
      "Median Error Ratio for all five methods: 0.18\n",
      "Median SMAPE for all five methods: 0.13\n"
     ]
    }
   ],
   "source": [
    "# Calculate median error ratio and SMAPE\n",
    "median_error_ratio = np.median(error_ratios)\n",
    "median_smape = np.median(smape_values)\n",
    "\n",
    "print(f\"\\nMedian Error Ratio for all five methods: {median_error_ratio:.2f}\")\n",
    "print(f\"Median SMAPE for all five methods: {median_smape:.2f}\")\n"
   ]
  },
  {
   "cell_type": "markdown",
   "id": "9c808631",
   "metadata": {},
   "source": [
    "The \"Gradient Boosting Regressor\" could be the preferred method among the five with lower Error ratio and SMAPE."
   ]
  },
  {
   "cell_type": "code",
   "execution_count": 197,
   "id": "c0f2ea34",
   "metadata": {},
   "outputs": [
    {
     "name": "stdout",
     "output_type": "stream",
     "text": [
      "Hybrid Method - Symmetric Median Absolute Percentage Error (SMAPE): 0.19\n"
     ]
    }
   ],
   "source": [
    "# Train Gradient Boosting Regressor\n",
    "gb_model = GradientBoostingRegressor(random_state=50, min_samples_split=6, min_samples_leaf=2, max_depth=5)\n",
    "gb_model.fit(X_train, y_train)\n",
    "gb_pred_train = gb_model.predict(X_train)\n",
    "gb_pred_test = gb_model.predict(X_test)\n",
    "\n",
    "# Train Random Forest Regressor on residuals\n",
    "rf_residuals = y_train - gb_pred_train\n",
    "rf_model_residuals = RandomForestRegressor(random_state=50, max_features='sqrt', n_estimators=200, min_samples_leaf=2)\n",
    "rf_model_residuals.fit(X_train, rf_residuals)\n",
    "\n",
    "# Predict using hybrid method\n",
    "hybrid_pred_test = gb_pred_test + rf_model_residuals.predict(X_test)\n",
    "\n",
    "# Calculate sMAPE for hybrid method\n",
    "hybrid_smape = np.mean(2 * np.abs(y_test - hybrid_pred_test) / (np.abs(y_test) + np.abs(hybrid_pred_test)))\n",
    "print(f\"Hybrid Method - Symmetric Median Absolute Percentage Error (SMAPE): {hybrid_smape:.2f}\")\n"
   ]
  },
  {
   "cell_type": "code",
   "execution_count": 198,
   "id": "ce5b2458",
   "metadata": {},
   "outputs": [
    {
     "name": "stdout",
     "output_type": "stream",
     "text": [
      "Linear Regression - Symmetric Median Absolute Percentage Error (SMAPE) with Reduced Features: 0.67\n",
      "Lasso Regression - Symmetric Median Absolute Percentage Error (SMAPE) with Reduced Features: 0.67\n",
      "Bagging Regressor - Symmetric Median Absolute Percentage Error (SMAPE) with Reduced Features: 0.19\n"
     ]
    },
    {
     "name": "stderr",
     "output_type": "stream",
     "text": [
      "/Users/raviteja/anaconda3/lib/python3.11/site-packages/sklearn/linear_model/_coordinate_descent.py:628: ConvergenceWarning: Objective did not converge. You might want to increase the number of iterations, check the scale of the features or consider increasing regularisation. Duality gap: 2.990e+06, tolerance: 1.923e+03\n",
      "  model = cd_fast.enet_coordinate_descent(\n"
     ]
    },
    {
     "name": "stdout",
     "output_type": "stream",
     "text": [
      "Random Forest Regressor - Symmetric Median Absolute Percentage Error (SMAPE) with Reduced Features: 0.20\n",
      "Gradient Boosting Regressor - Symmetric Median Absolute Percentage Error (SMAPE) with Reduced Features: 0.19\n",
      "Hybrid Method - Symmetric Median Absolute Percentage Error (SMAPE) with Reduced Features: 0.19\n",
      "There is no improvement in SMAPE with reduced features.\n"
     ]
    }
   ],
   "source": [
    "# Read the Excel file\n",
    "data1 = pd.read_excel('cricket_batting_data.xlsx')\n",
    "# Create the 'Debut' column\n",
    "data1['Debut'] = data1['Years'].astype(str).str[:4].astype(int)\n",
    "\n",
    "# Create the 'Tenure' column\n",
    "data1['Tenure'] = data1['Years'].astype(str).str[-4:].astype(int) - data1['Debut'] + 1\n",
    "\n",
    "\n",
    "# Drop 'Country' along with 'Player', 'Years', and 'Avg'\n",
    "data_reduced = data1.drop(['Country', 'Player', 'Years', 'Avg'], axis=1)\n",
    "\n",
    "# Split into X and y\n",
    "X_reduced = data_reduced.drop('HS', axis=1)\n",
    "y_reduced = data_reduced['HS']\n",
    "\n",
    "# Split the reduced data into train and test sets\n",
    "X_train_reduced, X_test_reduced, y_train_reduced, y_test_reduced = train_test_split(X_reduced, y_reduced, test_size=0.2, random_state=35)\n",
    "\n",
    "# Initialize lists to store SMAPE values for all methods with reduced features\n",
    "smape_values_reduced = []\n",
    "\n",
    "# Calculate SMAPE for all five methods with reduced features\n",
    "for model, model_name in [(lr_model, 'Linear Regression'), (lasso_model, 'Lasso Regression'),\n",
    "                          (bagging_model, 'Bagging Regressor'), (rf_model, 'Random Forest Regressor'),\n",
    "                          (gb_model, 'Gradient Boosting Regressor'), (hybrid_pred_test, 'Hybrid Method')]:\n",
    "    if isinstance(model, np.ndarray):  # Hybrid method\n",
    "        pred_test_reduced = model\n",
    "    else:\n",
    "        model.fit(X_train_reduced, y_train_reduced)\n",
    "        pred_test_reduced = model.predict(X_test_reduced)\n",
    "    smape_reduced = np.mean(2 * np.abs(y_test_reduced - pred_test_reduced) / (np.abs(y_test_reduced) + np.abs(pred_test_reduced)))\n",
    "    smape_values_reduced.append(smape_reduced)\n",
    "    print(f\"{model_name} - Symmetric Median Absolute Percentage Error (SMAPE) with Reduced Features: {smape_reduced:.2f}\")\n",
    "\n",
    "# Check for improvement compared to previous features\n",
    "if all(smape_reduced < smape_full for smape_reduced, smape_full in zip(smape_values_reduced, smape_values)):\n",
    "    print(\"There is an improvement in SMAPE with reduced features.\")\n",
    "else:\n",
    "    print(\"There is no improvement in SMAPE with reduced features.\")\n"
   ]
  },
  {
   "cell_type": "code",
   "execution_count": 199,
   "id": "f26ba209",
   "metadata": {},
   "outputs": [
    {
     "name": "stdout",
     "output_type": "stream",
     "text": [
      "Best Parameters: {'max_depth': 7, 'min_samples_leaf': 2, 'min_samples_split': 2, 'n_estimators': 200}\n",
      "Best Random Forest Model - Symmetric Median Absolute Percentage Error (SMAPE): 0.37\n"
     ]
    }
   ],
   "source": [
    "from sklearn.model_selection import GridSearchCV\n",
    "\n",
    "# Define the parameter grid\n",
    "param_grid = {\n",
    "    'n_estimators': [100, 200, 300],\n",
    "    'max_depth': [3, 5, 7],\n",
    "    'min_samples_split': [2, 4, 6],\n",
    "    'min_samples_leaf': [1, 2, 3]\n",
    "}\n",
    "\n",
    "# Initialize Random Forest Regressor\n",
    "rf_model_tuned = RandomForestRegressor(random_state=50, max_features='sqrt')\n",
    "\n",
    "# Initialize GridSearchCV\n",
    "grid_search = GridSearchCV(estimator=rf_model_tuned, param_grid=param_grid, cv=5, scoring='neg_mean_absolute_error', n_jobs=-1)\n",
    "\n",
    "# Fit GridSearchCV on training data\n",
    "grid_search.fit(X_train, y_train)\n",
    "\n",
    "# Get the best parameters\n",
    "best_params = grid_search.best_params_\n",
    "print(\"Best Parameters:\", best_params)\n",
    "\n",
    "# Calculate sMAPE for the best model\n",
    "best_rf_model = grid_search.best_estimator_\n",
    "best_rf_model.fit(X_train, y_train)\n",
    "best_rf_pred_train = best_rf_model.predict(X_train)\n",
    "best_rf_pred_test = best_rf_model.predict(X_test)\n",
    "best_rf_smape = np.mean(2 * np.abs(y_test - best_rf_pred_test) / (np.abs(y_test) + np.abs(best_rf_pred_test)))\n",
    "print(f\"Best Random Forest Model - Symmetric Median Absolute Percentage Error (SMAPE): {best_rf_smape:.2f}\")\n"
   ]
  }
 ],
 "metadata": {
  "kernelspec": {
   "display_name": "Python 3 (ipykernel)",
   "language": "python",
   "name": "python3"
  },
  "language_info": {
   "codemirror_mode": {
    "name": "ipython",
    "version": 3
   },
   "file_extension": ".py",
   "mimetype": "text/x-python",
   "name": "python",
   "nbconvert_exporter": "python",
   "pygments_lexer": "ipython3",
   "version": "3.11.8"
  }
 },
 "nbformat": 4,
 "nbformat_minor": 5
}
