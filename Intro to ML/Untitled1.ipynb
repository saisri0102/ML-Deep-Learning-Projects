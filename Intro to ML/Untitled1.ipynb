{
 "cells": [
  {
   "cell_type": "code",
   "execution_count": 3,
   "id": "791fa4a5-19ad-46ce-9ccd-4443dc4cb6e6",
   "metadata": {},
   "outputs": [
    {
     "name": "stdout",
     "output_type": "stream",
     "text": [
      "t = 0, y = 0.020000000000000004\n",
      "t = 1, y = -0.030016625017853557\n",
      "t = 2, y = -0.07973333384070577\n",
      "t = 3, y = -0.12865337354815767\n",
      "t = 4, y = -0.17628795127426755\n",
      "t = 5, y = -0.22216111806429406\n",
      "t = 6, y = -0.2658145243993242\n",
      "t = 7, y = -0.30681199987315577\n",
      "t = 8, y = -0.3447439112628181\n",
      "t = 9, y = -0.3792312554483284\n",
      "t = 10, y = -0.40992944628658545\n",
      "t = 11, y = -0.43653175760220614\n",
      "t = 12, y = -0.45877238789407976\n",
      "t = 13, y = -0.4764291161361047\n",
      "t = 14, y = -0.4893255221362253\n",
      "t = 15, y = -0.49733274926867316\n",
      "t = 16, y = -0.5003707919667784\n",
      "t = 17, y = -0.49840929511214477\n",
      "t = 18, y = -0.49146785733295933\n",
      "t = 19, y = -0.4796158351809773\n",
      "t = 20, y = -0.4629716501437837\n",
      "t = 21, y = -0.441701605416434\n",
      "t = 22, y = -0.416018224254902\n",
      "t = 23, y = -0.3861781265139565\n",
      "t = 24, y = -0.3524794645864002\n",
      "t = 25, y = -0.3152589443629169\n",
      "t = 26, y = -0.27488846097811104\n",
      "t = 27, y = -0.2317713829572561\n",
      "t = 28, y = -0.1863385218913255\n",
      "t = 29, y = -0.13904382790998282\n",
      "t = 30, y = -0.09035985396194252\n",
      "t = 31, y = -0.040773034222110836\n",
      "t = 32, y = 0.00922117619789498\n",
      "t = 33, y = 0.05912325167344702\n",
      "t = 34, y = 0.1084345871618266\n",
      "t = 35, y = 0.156662480098994\n",
      "t = 36, y = 0.2033250533207433\n",
      "t = 37, y = 0.24795606982003854\n",
      "t = 38, y = 0.2901095912330713\n",
      "t = 39, y = 0.3293644335079843\n",
      "t = 40, y = 0.3653283752366919\n",
      "t = 41, y = 0.39764207660154005\n",
      "t = 42, y = 0.4259826697799801\n",
      "t = 43, y = 0.45006698493312797\n",
      "t = 44, y = 0.4696543795451897\n",
      "t = 45, y = 0.4845491428439329\n",
      "t = 46, y = 0.49460245127803115\n",
      "t = 47, y = 0.4997138555127926\n",
      "t = 48, y = 0.4998322840867092\n",
      "t = 49, y = 0.49495655370061775\n",
      "t = 50, y = 0.48513538104083376\n"
     ]
    }
   ],
   "source": [
    "import numpy as np\n",
    "\n",
    "# Constants\n",
    "A = 1  # Amplitude\n",
    "omega = 0.1  # Angular frequency\n",
    "k_over_m = 0.5  # Ratio of spring constant to mass\n",
    "c_over_m = 0.2  # Damping coefficient to mass\n",
    "dt = 1  # Time step\n",
    "\n",
    "# Calculate y for each time step\n",
    "y_values = []\n",
    "t_values = range(0, 51, dt)  # Time values from 0 to 50 with a step of 1\n",
    "\n",
    "for t in t_values:\n",
    "    x = A * np.sin(omega * t)  # Calculate x(t)\n",
    "    dx_dt = A * omega * np.cos(omega * t)  # Calculate dx/dt\n",
    "    y = -k_over_m * x + c_over_m * dx_dt  # Calculate y\n",
    "    y_values.append(y)\n",
    "\n",
    "# Print the values of y\n",
    "for t, y in zip(t_values, y_values):\n",
    "    print(f\"t = {t}, y = {y}\")\n"
   ]
  },
  {
   "cell_type": "code",
   "execution_count": null,
   "id": "2e9379d2-a444-4b05-96aa-9d5ba853d7fa",
   "metadata": {},
   "outputs": [],
   "source": []
  }
 ],
 "metadata": {
  "kernelspec": {
   "display_name": "Python 3 (ipykernel)",
   "language": "python",
   "name": "python3"
  },
  "language_info": {
   "codemirror_mode": {
    "name": "ipython",
    "version": 3
   },
   "file_extension": ".py",
   "mimetype": "text/x-python",
   "name": "python",
   "nbconvert_exporter": "python",
   "pygments_lexer": "ipython3",
   "version": "3.11.8"
  }
 },
 "nbformat": 4,
 "nbformat_minor": 5
}
